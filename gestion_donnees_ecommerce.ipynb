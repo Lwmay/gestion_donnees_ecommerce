{
 "cells": [
  {
   "cell_type": "markdown",
   "id": "ce38a8d8",
   "metadata": {},
   "source": [
    "<img src=\"https://user.oc-static.com/upload/2020/11/23/16061348800222_Capture%20d%E2%80%99e%CC%81cran%202020-11-23%20a%CC%80%2013.33.23.png\" alt=\"Bottleneck - fine wine spirit\">\n",
    "\n",
    "# Optimisez de la gestion des données de la boutique\n",
    "\n",
    "---\n",
    "BottleNeck gère actuellement ses stocks via un EPR qui n'est pas lié au site de vente en ligne. La gestion de ceux-ci est  complexe et les analyses des ventes sur le Net manque de visibilité. Une table relationnelle entre les données EPR et Web a été établie avec la liste exhaustive des produits.\n",
    "\n",
    "Nous avons donc deux bases de données, l'une pour l'EPR et l'autre pour l'e-shop et une table relationnelle.\n",
    "Comment simplifier la gestion des stocks et améliorer la visibilité des ventes ?\n",
    "\n",
    "Les étapes :\n",
    "* Rapprocher les 2 bases de données\n",
    "* Mise en évidence du chiffre d'affaire\n",
    "* Analyse des données de prix"
   ]
  },
  {
   "cell_type": "markdown",
   "id": "f1c0efdb",
   "metadata": {
    "toc": true
   },
   "source": [
    "<h1>Sommaire<span class=\"tocSkip\"></span></h1>\n",
    "<div class=\"toc\"><ul class=\"toc-item\"><li><span><a href=\"#Mise-en-place-de-l'environnement\" data-toc-modified-id=\"Mise-en-place-de-l'environnement-1\"><span class=\"toc-item-num\">1&nbsp;&nbsp;</span>Mise en place de l'environnement</a></span><ul class=\"toc-item\"><li><span><a href=\"#Importation-des-librairies\" data-toc-modified-id=\"Importation-des-librairies-1.1\"><span class=\"toc-item-num\">1.1&nbsp;&nbsp;</span>Importation des librairies</a></span></li><li><span><a href=\"#Constantes-et-configuration\" data-toc-modified-id=\"Constantes-et-configuration-1.2\"><span class=\"toc-item-num\">1.2&nbsp;&nbsp;</span>Constantes et configuration</a></span></li><li><span><a href=\"#Fonctions\" data-toc-modified-id=\"Fonctions-1.3\"><span class=\"toc-item-num\">1.3&nbsp;&nbsp;</span>Fonctions</a></span></li></ul></li><li><span><a href=\"#Importation-et-nettoyage-des-données\" data-toc-modified-id=\"Importation-et-nettoyage-des-données-2\"><span class=\"toc-item-num\">2&nbsp;&nbsp;</span>Importation et nettoyage des données</a></span><ul class=\"toc-item\"><li><span><a href=\"#Données-ERP\" data-toc-modified-id=\"Données-ERP-2.1\"><span class=\"toc-item-num\">2.1&nbsp;&nbsp;</span>Données ERP</a></span><ul class=\"toc-item\"><li><span><a href=\"#Importation-des-données\" data-toc-modified-id=\"Importation-des-données-2.1.1\"><span class=\"toc-item-num\">2.1.1&nbsp;&nbsp;</span>Importation des données</a></span></li><li><span><a href=\"#Exploration\" data-toc-modified-id=\"Exploration-2.1.2\"><span class=\"toc-item-num\">2.1.2&nbsp;&nbsp;</span>Exploration</a></span></li><li><span><a href=\"#Vérification-des-clés-primaires\" data-toc-modified-id=\"Vérification-des-clés-primaires-2.1.3\"><span class=\"toc-item-num\">2.1.3&nbsp;&nbsp;</span>Vérification des clés primaires</a></span></li></ul></li><li><span><a href=\"#Données-WEB\" data-toc-modified-id=\"Données-WEB-2.2\"><span class=\"toc-item-num\">2.2&nbsp;&nbsp;</span>Données WEB</a></span><ul class=\"toc-item\"><li><span><a href=\"#Importation-des-données\" data-toc-modified-id=\"Importation-des-données-2.2.1\"><span class=\"toc-item-num\">2.2.1&nbsp;&nbsp;</span>Importation des données</a></span></li><li><span><a href=\"#Nettoyage-des-données\" data-toc-modified-id=\"Nettoyage-des-données-2.2.2\"><span class=\"toc-item-num\">2.2.2&nbsp;&nbsp;</span>Nettoyage des données</a></span></li><li><span><a href=\"#Vérification-des-clés-primaires\" data-toc-modified-id=\"Vérification-des-clés-primaires-2.2.3\"><span class=\"toc-item-num\">2.2.3&nbsp;&nbsp;</span>Vérification des clés primaires</a></span></li></ul></li><li><span><a href=\"#Données-LIAISON\" data-toc-modified-id=\"Données-LIAISON-2.3\"><span class=\"toc-item-num\">2.3&nbsp;&nbsp;</span>Données LIAISON</a></span><ul class=\"toc-item\"><li><span><a href=\"#Importation-des-données\" data-toc-modified-id=\"Importation-des-données-2.3.1\"><span class=\"toc-item-num\">2.3.1&nbsp;&nbsp;</span>Importation des données</a></span></li><li><span><a href=\"#Vérification-des-clés-primaires\" data-toc-modified-id=\"Vérification-des-clés-primaires-2.3.2\"><span class=\"toc-item-num\">2.3.2&nbsp;&nbsp;</span>Vérification des clés primaires</a></span><ul class=\"toc-item\"><li><span><a href=\"#product_id\" data-toc-modified-id=\"product_id-2.3.2.1\"><span class=\"toc-item-num\">2.3.2.1&nbsp;&nbsp;</span>product_id</a></span></li><li><span><a href=\"#id_web\" data-toc-modified-id=\"id_web-2.3.2.2\"><span class=\"toc-item-num\">2.3.2.2&nbsp;&nbsp;</span>id_web</a></span></li></ul></li></ul></li></ul></li><li><span><a href=\"#Liaison-des-données\" data-toc-modified-id=\"Liaison-des-données-3\"><span class=\"toc-item-num\">3&nbsp;&nbsp;</span>Liaison des données</a></span><ul class=\"toc-item\"><li><span><a href=\"#Relation-données-EPR\" data-toc-modified-id=\"Relation-données-EPR-3.1\"><span class=\"toc-item-num\">3.1&nbsp;&nbsp;</span>Relation données EPR</a></span></li><li><span><a href=\"#Relation-données-Web\" data-toc-modified-id=\"Relation-données-Web-3.2\"><span class=\"toc-item-num\">3.2&nbsp;&nbsp;</span>Relation données Web</a></span></li><li><span><a href=\"#Relation-liason-des-données\" data-toc-modified-id=\"Relation-liason-des-données-3.3\"><span class=\"toc-item-num\">3.3&nbsp;&nbsp;</span>Relation liason des données</a></span><ul class=\"toc-item\"><li><span><a href=\"#Jointure-Web\" data-toc-modified-id=\"Jointure-Web-3.3.1\"><span class=\"toc-item-num\">3.3.1&nbsp;&nbsp;</span>Jointure Web</a></span></li><li><span><a href=\"#Jointure-ERP\" data-toc-modified-id=\"Jointure-ERP-3.3.2\"><span class=\"toc-item-num\">3.3.2&nbsp;&nbsp;</span>Jointure ERP</a></span></li><li><span><a href=\"#Réagencement\" data-toc-modified-id=\"Réagencement-3.3.3\"><span class=\"toc-item-num\">3.3.3&nbsp;&nbsp;</span>Réagencement</a></span></li></ul></li></ul></li><li><span><a href=\"#Reporting\" data-toc-modified-id=\"Reporting-4\"><span class=\"toc-item-num\">4&nbsp;&nbsp;</span>Reporting</a></span><ul class=\"toc-item\"><li><span><a href=\"#Chiffre-d'affaire-par-produit\" data-toc-modified-id=\"Chiffre-d'affaire-par-produit-4.1\"><span class=\"toc-item-num\">4.1&nbsp;&nbsp;</span>Chiffre d'affaire par produit</a></span><ul class=\"toc-item\"><li><span><a href=\"#Produits-les-plus-vendus\" data-toc-modified-id=\"Produits-les-plus-vendus-4.1.1\"><span class=\"toc-item-num\">4.1.1&nbsp;&nbsp;</span>Produits les plus vendus</a></span></li><li><span><a href=\"#Produits-les-moins-vendus\" data-toc-modified-id=\"Produits-les-moins-vendus-4.1.2\"><span class=\"toc-item-num\">4.1.2&nbsp;&nbsp;</span>Produits les moins vendus</a></span></li></ul></li><li><span><a href=\"#Chiffre-d'affaire-globale\" data-toc-modified-id=\"Chiffre-d'affaire-globale-4.2\"><span class=\"toc-item-num\">4.2&nbsp;&nbsp;</span>Chiffre d'affaire globale</a></span></li><li><span><a href=\"#Analyses-complémentaires-et-recommandations\" data-toc-modified-id=\"Analyses-complémentaires-et-recommandations-4.3\"><span class=\"toc-item-num\">4.3&nbsp;&nbsp;</span>Analyses complémentaires et recommandations</a></span><ul class=\"toc-item\"><li><span><a href=\"#Produits-en-stock-et-indisponible-à-la-vente\" data-toc-modified-id=\"Produits-en-stock-et-indisponible-à-la-vente-4.3.1\"><span class=\"toc-item-num\">4.3.1&nbsp;&nbsp;</span>Produits en stock et indisponible à la vente</a></span></li><li><span><a href=\"#Produits-épuisés-et-vendus\" data-toc-modified-id=\"Produits-épuisés-et-vendus-4.3.2\"><span class=\"toc-item-num\">4.3.2&nbsp;&nbsp;</span>Produits épuisés et vendus</a></span></li><li><span><a href=\"#Intégrité-des-stocks\" data-toc-modified-id=\"Intégrité-des-stocks-4.3.3\"><span class=\"toc-item-num\">4.3.3&nbsp;&nbsp;</span>Intégrité des stocks</a></span></li></ul></li></ul></li><li><span><a href=\"#Analyse-univariée-des-prix\" data-toc-modified-id=\"Analyse-univariée-des-prix-5\"><span class=\"toc-item-num\">5&nbsp;&nbsp;</span>Analyse univariée des prix</a></span><ul class=\"toc-item\"><li><span><a href=\"#Mesures-statistiques\" data-toc-modified-id=\"Mesures-statistiques-5.1\"><span class=\"toc-item-num\">5.1&nbsp;&nbsp;</span>Mesures statistiques</a></span></li><li><span><a href=\"#Recherche-des-outlier\" data-toc-modified-id=\"Recherche-des-outlier-5.2\"><span class=\"toc-item-num\">5.2&nbsp;&nbsp;</span>Recherche des outlier</a></span><ul class=\"toc-item\"><li><span><a href=\"#Méthode-des-Interquartiles\" data-toc-modified-id=\"Méthode-des-Interquartiles-5.2.1\"><span class=\"toc-item-num\">5.2.1&nbsp;&nbsp;</span>Méthode des Interquartiles</a></span><ul class=\"toc-item\"><li><span><a href=\"#Calcule-des-limites\" data-toc-modified-id=\"Calcule-des-limites-5.2.1.1\"><span class=\"toc-item-num\">5.2.1.1&nbsp;&nbsp;</span>Calcule des limites</a></span></li><li><span><a href=\"#Sélection-des-outlier\" data-toc-modified-id=\"Sélection-des-outlier-5.2.1.2\"><span class=\"toc-item-num\">5.2.1.2&nbsp;&nbsp;</span>Sélection des outlier</a></span></li></ul></li><li><span><a href=\"#Méthode-Z-score\" data-toc-modified-id=\"Méthode-Z-score-5.2.2\"><span class=\"toc-item-num\">5.2.2&nbsp;&nbsp;</span>Méthode Z score</a></span></li><li><span><a href=\"#Méthode-percentile\" data-toc-modified-id=\"Méthode-percentile-5.2.3\"><span class=\"toc-item-num\">5.2.3&nbsp;&nbsp;</span>Méthode percentile</a></span><ul class=\"toc-item\"><li><span><a href=\"#Calcule-des-limites\" data-toc-modified-id=\"Calcule-des-limites-5.2.3.1\"><span class=\"toc-item-num\">5.2.3.1&nbsp;&nbsp;</span>Calcule des limites</a></span></li><li><span><a href=\"#Sélection-des-outlier\" data-toc-modified-id=\"Sélection-des-outlier-5.2.3.2\"><span class=\"toc-item-num\">5.2.3.2&nbsp;&nbsp;</span>Sélection des outlier</a></span></li></ul></li><li><span><a href=\"#Méthode-moyenne-et-déviations-standard\" data-toc-modified-id=\"Méthode-moyenne-et-déviations-standard-5.2.4\"><span class=\"toc-item-num\">5.2.4&nbsp;&nbsp;</span>Méthode moyenne et déviations standard</a></span><ul class=\"toc-item\"><li><span><a href=\"#Calcule-des-limites\" data-toc-modified-id=\"Calcule-des-limites-5.2.4.1\"><span class=\"toc-item-num\">5.2.4.1&nbsp;&nbsp;</span>Calcule des limites</a></span></li><li><span><a href=\"#Sélection-des-outlier\" data-toc-modified-id=\"Sélection-des-outlier-5.2.4.2\"><span class=\"toc-item-num\">5.2.4.2&nbsp;&nbsp;</span>Sélection des outlier</a></span></li></ul></li></ul></li><li><span><a href=\"#Méthode-retenue-et-nouveau-dataset\" data-toc-modified-id=\"Méthode-retenue-et-nouveau-dataset-5.3\"><span class=\"toc-item-num\">5.3&nbsp;&nbsp;</span>Méthode retenue et nouveau dataset</a></span><ul class=\"toc-item\"><li><span><a href=\"#Les-outliers\" data-toc-modified-id=\"Les-outliers-5.3.1\"><span class=\"toc-item-num\">5.3.1&nbsp;&nbsp;</span>Les outliers</a></span></li><li><span><a href=\"#Nouveau-dataset\" data-toc-modified-id=\"Nouveau-dataset-5.3.2\"><span class=\"toc-item-num\">5.3.2&nbsp;&nbsp;</span>Nouveau dataset</a></span></li><li><span><a href=\"#Visualisation\" data-toc-modified-id=\"Visualisation-5.3.3\"><span class=\"toc-item-num\">5.3.3&nbsp;&nbsp;</span>Visualisation</a></span></li></ul></li></ul></li><li><span><a href=\"#Conclusion\" data-toc-modified-id=\"Conclusion-6\"><span class=\"toc-item-num\">6&nbsp;&nbsp;</span>Conclusion</a></span></li></ul></div>"
   ]
  },
  {
   "cell_type": "markdown",
   "id": "463b9a67",
   "metadata": {},
   "source": [
    "---\n",
    "## Mise en place de l'environnement"
   ]
  },
  {
   "cell_type": "markdown",
   "id": "47b389f3",
   "metadata": {},
   "source": [
    "### Importation des librairies"
   ]
  },
  {
   "cell_type": "code",
   "execution_count": 1,
   "id": "503860ef",
   "metadata": {},
   "outputs": [],
   "source": [
    "import pandas as pd\n",
    "import numpy as np\n",
    "import os, sys\n",
    "from IPython.display import display\n",
    "import matplotlib.pyplot as plt\n",
    "import seaborn as sns\n",
    "plt.style.use('seaborn')\n",
    "\n",
    "import warnings \n",
    "warnings.filterwarnings(\"ignore\")"
   ]
  },
  {
   "cell_type": "markdown",
   "id": "9fd3c97b",
   "metadata": {},
   "source": [
    "### Constantes et configuration"
   ]
  },
  {
   "cell_type": "code",
   "execution_count": 2,
   "id": "6c43ebc1",
   "metadata": {},
   "outputs": [],
   "source": [
    "# path to data folder\n",
    "DATA_PATH = os.path.realpath('') + '/data/'\n",
    "\n",
    "# Pandas settings\n",
    "pd.set_option(\"display.max_columns\", 50)\n",
    "pd.set_option(\"display.max_rows\", 100)\n",
    "pd.options.display.float_format = '{:,.2f}'.format"
   ]
  },
  {
   "cell_type": "markdown",
   "id": "2fcd478d",
   "metadata": {},
   "source": [
    "### Fonctions"
   ]
  },
  {
   "cell_type": "code",
   "execution_count": 3,
   "id": "ffcbca71",
   "metadata": {},
   "outputs": [],
   "source": [
    "def import_xls_to_dataframe(filename):\n",
    "    \"\"\"\n",
    "    Convert xls file to pandas dataframe\n",
    "        \n",
    "    args\n",
    "        filename: name of file with extension\n",
    "    returns\n",
    "        pandas dataframe\n",
    "    \"\"\"\n",
    "    try:\n",
    "        return pd.read_excel(DATA_PATH + filename, engine='openpyxl')\n",
    "    except Exception as e:\n",
    "        print(\">>> Le fichier {} est introuvable.\".format(filename))\n",
    "        sys.exit(e)\n",
    "\n",
    "def is_primary_key(dataframe, column):\n",
    "    \"\"\"\n",
    "    Check if values of column are primary keys\n",
    "    \n",
    "    args:\n",
    "        dataframe: pandas dataframe\n",
    "        column: column name to check\n",
    "    returns:\n",
    "        boolean\n",
    "    \"\"\"\n",
    "    if column not in dataframe.columns:\n",
    "        raise ValueError(\"'{}' n'est pas une colonne de la dataframe\".format(column))\n",
    "    \n",
    "    return len(dataframe.drop_duplicates(subset=column)) == len(dataframe)"
   ]
  },
  {
   "cell_type": "markdown",
   "id": "4ee35438",
   "metadata": {},
   "source": [
    "---\n",
    "## Importation et nettoyage des données"
   ]
  },
  {
   "cell_type": "markdown",
   "id": "7163ff7e",
   "metadata": {},
   "source": [
    "Il y a 3 jeux de données :\n",
    "* EPR : inventaire des produits\n",
    "* Web : catalogue boutique en ligne\n",
    "* Liaison : table relationnelle EPR <-> Web"
   ]
  },
  {
   "cell_type": "markdown",
   "id": "3eb206b4",
   "metadata": {},
   "source": [
    "### Données ERP"
   ]
  },
  {
   "cell_type": "markdown",
   "id": "315f6973",
   "metadata": {},
   "source": [
    "La table ERP représente le listing de 825 produits avec leurs prix et leurs disponibilités."
   ]
  },
  {
   "cell_type": "markdown",
   "id": "cb0881b2",
   "metadata": {},
   "source": [
    "#### Importation des données"
   ]
  },
  {
   "cell_type": "code",
   "execution_count": 4,
   "id": "37fd7f89",
   "metadata": {},
   "outputs": [
    {
     "data": {
      "text/html": [
       "<div>\n",
       "<style scoped>\n",
       "    .dataframe tbody tr th:only-of-type {\n",
       "        vertical-align: middle;\n",
       "    }\n",
       "\n",
       "    .dataframe tbody tr th {\n",
       "        vertical-align: top;\n",
       "    }\n",
       "\n",
       "    .dataframe thead th {\n",
       "        text-align: right;\n",
       "    }\n",
       "</style>\n",
       "<table border=\"1\" class=\"dataframe\">\n",
       "  <thead>\n",
       "    <tr style=\"text-align: right;\">\n",
       "      <th></th>\n",
       "      <th>product_id</th>\n",
       "      <th>onsale_web</th>\n",
       "      <th>price</th>\n",
       "      <th>stock_quantity</th>\n",
       "      <th>stock_status</th>\n",
       "    </tr>\n",
       "  </thead>\n",
       "  <tbody>\n",
       "    <tr>\n",
       "      <th>0</th>\n",
       "      <td>3847</td>\n",
       "      <td>1</td>\n",
       "      <td>24.20</td>\n",
       "      <td>0</td>\n",
       "      <td>outofstock</td>\n",
       "    </tr>\n",
       "    <tr>\n",
       "      <th>1</th>\n",
       "      <td>3849</td>\n",
       "      <td>1</td>\n",
       "      <td>34.30</td>\n",
       "      <td>0</td>\n",
       "      <td>outofstock</td>\n",
       "    </tr>\n",
       "    <tr>\n",
       "      <th>2</th>\n",
       "      <td>3850</td>\n",
       "      <td>1</td>\n",
       "      <td>20.80</td>\n",
       "      <td>0</td>\n",
       "      <td>outofstock</td>\n",
       "    </tr>\n",
       "    <tr>\n",
       "      <th>3</th>\n",
       "      <td>4032</td>\n",
       "      <td>1</td>\n",
       "      <td>14.10</td>\n",
       "      <td>0</td>\n",
       "      <td>outofstock</td>\n",
       "    </tr>\n",
       "    <tr>\n",
       "      <th>4</th>\n",
       "      <td>4039</td>\n",
       "      <td>1</td>\n",
       "      <td>46.00</td>\n",
       "      <td>0</td>\n",
       "      <td>outofstock</td>\n",
       "    </tr>\n",
       "  </tbody>\n",
       "</table>\n",
       "</div>"
      ],
      "text/plain": [
       "   product_id  onsale_web  price  stock_quantity stock_status\n",
       "0        3847           1  24.20               0   outofstock\n",
       "1        3849           1  34.30               0   outofstock\n",
       "2        3850           1  20.80               0   outofstock\n",
       "3        4032           1  14.10               0   outofstock\n",
       "4        4039           1  46.00               0   outofstock"
      ]
     },
     "execution_count": 4,
     "metadata": {},
     "output_type": "execute_result"
    }
   ],
   "source": [
    "df_erp = import_xls_to_dataframe('erp.xlsx')\n",
    "df_erp.head(5)"
   ]
  },
  {
   "cell_type": "markdown",
   "id": "bbe13107",
   "metadata": {},
   "source": [
    "* product_id : référence du produit\n",
    "* onsale_web : en vente sur la boutique en ligne\n",
    "* price : prix du produit\n",
    "* stock_quantity : quantité en stock\n",
    "* stock_status : état du stock"
   ]
  },
  {
   "cell_type": "markdown",
   "id": "b1f344c0",
   "metadata": {},
   "source": [
    "#### Exploration"
   ]
  },
  {
   "cell_type": "code",
   "execution_count": 5,
   "id": "11465c2c",
   "metadata": {},
   "outputs": [
    {
     "name": "stdout",
     "output_type": "stream",
     "text": [
      "<class 'pandas.core.frame.DataFrame'>\n",
      "RangeIndex: 825 entries, 0 to 824\n",
      "Data columns (total 5 columns):\n",
      " #   Column          Non-Null Count  Dtype  \n",
      "---  ------          --------------  -----  \n",
      " 0   product_id      825 non-null    int64  \n",
      " 1   onsale_web      825 non-null    int64  \n",
      " 2   price           825 non-null    float64\n",
      " 3   stock_quantity  825 non-null    int64  \n",
      " 4   stock_status    825 non-null    object \n",
      "dtypes: float64(1), int64(3), object(1)\n",
      "memory usage: 32.4+ KB\n"
     ]
    }
   ],
   "source": [
    "df_erp.info()"
   ]
  },
  {
   "cell_type": "markdown",
   "id": "1b5e4d22",
   "metadata": {},
   "source": [
    "> Les nombres de valeurs non null des différentes colonnes correspondent aux nombre de lignes du dataset.  \n",
    "Il n'y a donc pas de valeurs null dans les données.  \n",
    "Les types de données sont corrects.  \n",
    "825 produits référencés dans le catalogue."
   ]
  },
  {
   "cell_type": "code",
   "execution_count": 6,
   "id": "b4b4c9f8",
   "metadata": {},
   "outputs": [
    {
     "data": {
      "text/html": [
       "<div>\n",
       "<style scoped>\n",
       "    .dataframe tbody tr th:only-of-type {\n",
       "        vertical-align: middle;\n",
       "    }\n",
       "\n",
       "    .dataframe tbody tr th {\n",
       "        vertical-align: top;\n",
       "    }\n",
       "\n",
       "    .dataframe thead th {\n",
       "        text-align: right;\n",
       "    }\n",
       "</style>\n",
       "<table border=\"1\" class=\"dataframe\">\n",
       "  <thead>\n",
       "    <tr style=\"text-align: right;\">\n",
       "      <th></th>\n",
       "      <th>product_id</th>\n",
       "      <th>onsale_web</th>\n",
       "      <th>price</th>\n",
       "      <th>stock_quantity</th>\n",
       "      <th>stock_status</th>\n",
       "    </tr>\n",
       "  </thead>\n",
       "  <tbody>\n",
       "    <tr>\n",
       "      <th>count</th>\n",
       "      <td>825.00</td>\n",
       "      <td>825.00</td>\n",
       "      <td>825.00</td>\n",
       "      <td>825.00</td>\n",
       "      <td>825</td>\n",
       "    </tr>\n",
       "    <tr>\n",
       "      <th>unique</th>\n",
       "      <td>NaN</td>\n",
       "      <td>NaN</td>\n",
       "      <td>NaN</td>\n",
       "      <td>NaN</td>\n",
       "      <td>2</td>\n",
       "    </tr>\n",
       "    <tr>\n",
       "      <th>top</th>\n",
       "      <td>NaN</td>\n",
       "      <td>NaN</td>\n",
       "      <td>NaN</td>\n",
       "      <td>NaN</td>\n",
       "      <td>instock</td>\n",
       "    </tr>\n",
       "    <tr>\n",
       "      <th>freq</th>\n",
       "      <td>NaN</td>\n",
       "      <td>NaN</td>\n",
       "      <td>NaN</td>\n",
       "      <td>NaN</td>\n",
       "      <td>638</td>\n",
       "    </tr>\n",
       "    <tr>\n",
       "      <th>mean</th>\n",
       "      <td>5,162.60</td>\n",
       "      <td>0.87</td>\n",
       "      <td>32.42</td>\n",
       "      <td>26.50</td>\n",
       "      <td>NaN</td>\n",
       "    </tr>\n",
       "    <tr>\n",
       "      <th>std</th>\n",
       "      <td>902.64</td>\n",
       "      <td>0.34</td>\n",
       "      <td>26.80</td>\n",
       "      <td>45.89</td>\n",
       "      <td>NaN</td>\n",
       "    </tr>\n",
       "    <tr>\n",
       "      <th>min</th>\n",
       "      <td>3,847.00</td>\n",
       "      <td>0.00</td>\n",
       "      <td>5.20</td>\n",
       "      <td>0.00</td>\n",
       "      <td>NaN</td>\n",
       "    </tr>\n",
       "    <tr>\n",
       "      <th>25%</th>\n",
       "      <td>4,348.00</td>\n",
       "      <td>1.00</td>\n",
       "      <td>14.60</td>\n",
       "      <td>1.00</td>\n",
       "      <td>NaN</td>\n",
       "    </tr>\n",
       "    <tr>\n",
       "      <th>50%</th>\n",
       "      <td>4,907.00</td>\n",
       "      <td>1.00</td>\n",
       "      <td>24.40</td>\n",
       "      <td>11.00</td>\n",
       "      <td>NaN</td>\n",
       "    </tr>\n",
       "    <tr>\n",
       "      <th>75%</th>\n",
       "      <td>5,805.00</td>\n",
       "      <td>1.00</td>\n",
       "      <td>42.00</td>\n",
       "      <td>34.00</td>\n",
       "      <td>NaN</td>\n",
       "    </tr>\n",
       "    <tr>\n",
       "      <th>max</th>\n",
       "      <td>7,338.00</td>\n",
       "      <td>1.00</td>\n",
       "      <td>225.00</td>\n",
       "      <td>578.00</td>\n",
       "      <td>NaN</td>\n",
       "    </tr>\n",
       "  </tbody>\n",
       "</table>\n",
       "</div>"
      ],
      "text/plain": [
       "        product_id  onsale_web  price  stock_quantity stock_status\n",
       "count       825.00      825.00 825.00          825.00          825\n",
       "unique         NaN         NaN    NaN             NaN            2\n",
       "top            NaN         NaN    NaN             NaN      instock\n",
       "freq           NaN         NaN    NaN             NaN          638\n",
       "mean      5,162.60        0.87  32.42           26.50          NaN\n",
       "std         902.64        0.34  26.80           45.89          NaN\n",
       "min       3,847.00        0.00   5.20            0.00          NaN\n",
       "25%       4,348.00        1.00  14.60            1.00          NaN\n",
       "50%       4,907.00        1.00  24.40           11.00          NaN\n",
       "75%       5,805.00        1.00  42.00           34.00          NaN\n",
       "max       7,338.00        1.00 225.00          578.00          NaN"
      ]
     },
     "execution_count": 6,
     "metadata": {},
     "output_type": "execute_result"
    }
   ],
   "source": [
    "df_erp.describe(include='all')"
   ]
  },
  {
   "cell_type": "code",
   "execution_count": 7,
   "id": "2f239ce4",
   "metadata": {},
   "outputs": [
    {
     "data": {
      "text/plain": [
       "[1, 0]"
      ]
     },
     "execution_count": 7,
     "metadata": {},
     "output_type": "execute_result"
    }
   ],
   "source": [
    "list(df_erp['onsale_web'].unique())"
   ]
  },
  {
   "cell_type": "markdown",
   "id": "9415d1b4",
   "metadata": {},
   "source": [
    "> Variables \"price\" et \"stock_quantity\" : pas de quantités négatives ou non renseignées.  \n",
    "> Variables \"onsale_web\" et \"stock_status\" : variables qualitatives et ne possèdent que 2 modalités chacune."
   ]
  },
  {
   "cell_type": "markdown",
   "id": "e9b98f97",
   "metadata": {},
   "source": [
    "#### Vérification des clés primaires"
   ]
  },
  {
   "cell_type": "code",
   "execution_count": 8,
   "id": "1ef565fc",
   "metadata": {},
   "outputs": [
    {
     "data": {
      "text/plain": [
       "True"
      ]
     },
     "execution_count": 8,
     "metadata": {},
     "output_type": "execute_result"
    }
   ],
   "source": [
    "is_primary_key(df_erp, 'product_id')"
   ]
  },
  {
   "cell_type": "markdown",
   "id": "2e213e1b",
   "metadata": {},
   "source": [
    "> La colonne 'product_id' est bien une clé primaire qui référence les différents produits. Elle peut être utilisée pour une jointure de données."
   ]
  },
  {
   "cell_type": "markdown",
   "id": "c52347de",
   "metadata": {},
   "source": [
    "### Données WEB"
   ]
  },
  {
   "cell_type": "markdown",
   "id": "5469e662",
   "metadata": {},
   "source": [
    "La table Web contient les informations des produits commercialisés en ligne."
   ]
  },
  {
   "cell_type": "markdown",
   "id": "b9476c42-7b26-44c0-9dd4-0dedc05de6d4",
   "metadata": {},
   "source": [
    "#### Importation des données"
   ]
  },
  {
   "cell_type": "code",
   "execution_count": 9,
   "id": "1ceabbf7",
   "metadata": {},
   "outputs": [
    {
     "data": {
      "text/html": [
       "<div>\n",
       "<style scoped>\n",
       "    .dataframe tbody tr th:only-of-type {\n",
       "        vertical-align: middle;\n",
       "    }\n",
       "\n",
       "    .dataframe tbody tr th {\n",
       "        vertical-align: top;\n",
       "    }\n",
       "\n",
       "    .dataframe thead th {\n",
       "        text-align: right;\n",
       "    }\n",
       "</style>\n",
       "<table border=\"1\" class=\"dataframe\">\n",
       "  <thead>\n",
       "    <tr style=\"text-align: right;\">\n",
       "      <th></th>\n",
       "      <th>sku</th>\n",
       "      <th>virtual</th>\n",
       "      <th>downloadable</th>\n",
       "      <th>rating_count</th>\n",
       "      <th>average_rating</th>\n",
       "      <th>total_sales</th>\n",
       "      <th>tax_status</th>\n",
       "      <th>tax_class</th>\n",
       "      <th>post_author</th>\n",
       "      <th>post_date</th>\n",
       "      <th>post_date_gmt</th>\n",
       "      <th>post_content</th>\n",
       "      <th>post_title</th>\n",
       "      <th>post_excerpt</th>\n",
       "      <th>post_status</th>\n",
       "      <th>comment_status</th>\n",
       "      <th>ping_status</th>\n",
       "      <th>post_password</th>\n",
       "      <th>post_name</th>\n",
       "      <th>post_modified</th>\n",
       "      <th>post_modified_gmt</th>\n",
       "      <th>post_content_filtered</th>\n",
       "      <th>post_parent</th>\n",
       "      <th>guid</th>\n",
       "      <th>menu_order</th>\n",
       "      <th>post_type</th>\n",
       "      <th>post_mime_type</th>\n",
       "      <th>comment_count</th>\n",
       "    </tr>\n",
       "  </thead>\n",
       "  <tbody>\n",
       "    <tr>\n",
       "      <th>0</th>\n",
       "      <td>bon-cadeau-25-euros</td>\n",
       "      <td>0</td>\n",
       "      <td>0</td>\n",
       "      <td>0</td>\n",
       "      <td>0.00</td>\n",
       "      <td>10.00</td>\n",
       "      <td>taxable</td>\n",
       "      <td>NaN</td>\n",
       "      <td>1.00</td>\n",
       "      <td>2018-06-01 13:53:46</td>\n",
       "      <td>2018-06-01 11:53:46</td>\n",
       "      <td>NaN</td>\n",
       "      <td>Bon cadeau de 25€</td>\n",
       "      <td>&lt;span style=\"color: #a85253;\"&gt;&lt;strong&gt;Parlons ...</td>\n",
       "      <td>publish</td>\n",
       "      <td>closed</td>\n",
       "      <td>closed</td>\n",
       "      <td>NaN</td>\n",
       "      <td>bon-cadeau-de-25-euros</td>\n",
       "      <td>2018-06-01 14:13:57</td>\n",
       "      <td>2018-06-01 12:13:57</td>\n",
       "      <td>NaN</td>\n",
       "      <td>0.00</td>\n",
       "      <td>https://www.bottle-neck.fr/?post_type=product&amp;...</td>\n",
       "      <td>0.00</td>\n",
       "      <td>product</td>\n",
       "      <td>NaN</td>\n",
       "      <td>0.00</td>\n",
       "    </tr>\n",
       "    <tr>\n",
       "      <th>1</th>\n",
       "      <td>15298</td>\n",
       "      <td>0</td>\n",
       "      <td>0</td>\n",
       "      <td>0</td>\n",
       "      <td>0.00</td>\n",
       "      <td>6.00</td>\n",
       "      <td>taxable</td>\n",
       "      <td>NaN</td>\n",
       "      <td>2.00</td>\n",
       "      <td>2018-02-08 12:58:52</td>\n",
       "      <td>2018-02-08 11:58:52</td>\n",
       "      <td>NaN</td>\n",
       "      <td>Pierre Jean Villa Saint-Joseph Préface 2018</td>\n",
       "      <td>Il exhale un nez subtil, racé avec du poivre f...</td>\n",
       "      <td>publish</td>\n",
       "      <td>closed</td>\n",
       "      <td>closed</td>\n",
       "      <td>NaN</td>\n",
       "      <td>pierre-jean-villa-saint-joseph-preface-2018</td>\n",
       "      <td>2019-12-30 09:30:29</td>\n",
       "      <td>2019-12-30 08:30:29</td>\n",
       "      <td>NaN</td>\n",
       "      <td>0.00</td>\n",
       "      <td>https://www.bottle-neck.fr/?post_type=product&amp;...</td>\n",
       "      <td>0.00</td>\n",
       "      <td>product</td>\n",
       "      <td>NaN</td>\n",
       "      <td>0.00</td>\n",
       "    </tr>\n",
       "    <tr>\n",
       "      <th>2</th>\n",
       "      <td>15296</td>\n",
       "      <td>0</td>\n",
       "      <td>0</td>\n",
       "      <td>0</td>\n",
       "      <td>0.00</td>\n",
       "      <td>0.00</td>\n",
       "      <td>taxable</td>\n",
       "      <td>NaN</td>\n",
       "      <td>2.00</td>\n",
       "      <td>2018-02-08 13:49:41</td>\n",
       "      <td>2018-02-08 12:49:41</td>\n",
       "      <td>NaN</td>\n",
       "      <td>Pierre Jean Villa Saint-Joseph Rouge Tildé 2017</td>\n",
       "      <td>Les vieilles vignes lui apportent une rare pro...</td>\n",
       "      <td>publish</td>\n",
       "      <td>closed</td>\n",
       "      <td>closed</td>\n",
       "      <td>NaN</td>\n",
       "      <td>pierre-jean-villa-saint-joseph-tilde-2017</td>\n",
       "      <td>2019-12-21 09:00:17</td>\n",
       "      <td>2019-12-21 08:00:17</td>\n",
       "      <td>NaN</td>\n",
       "      <td>0.00</td>\n",
       "      <td>https://www.bottle-neck.fr/?post_type=product&amp;...</td>\n",
       "      <td>0.00</td>\n",
       "      <td>product</td>\n",
       "      <td>NaN</td>\n",
       "      <td>0.00</td>\n",
       "    </tr>\n",
       "    <tr>\n",
       "      <th>3</th>\n",
       "      <td>15300</td>\n",
       "      <td>0</td>\n",
       "      <td>0</td>\n",
       "      <td>0</td>\n",
       "      <td>0.00</td>\n",
       "      <td>0.00</td>\n",
       "      <td>taxable</td>\n",
       "      <td>NaN</td>\n",
       "      <td>2.00</td>\n",
       "      <td>2018-02-08 14:08:36</td>\n",
       "      <td>2018-02-08 13:08:36</td>\n",
       "      <td>NaN</td>\n",
       "      <td>Pierre Jean Villa Crozes-Hermitage Accroche Co...</td>\n",
       "      <td>Dentelle de fruit de jeunes syrah, aux tanins ...</td>\n",
       "      <td>publish</td>\n",
       "      <td>closed</td>\n",
       "      <td>closed</td>\n",
       "      <td>NaN</td>\n",
       "      <td>pierre-jean-villa-croze-hermitage-accroche-coe...</td>\n",
       "      <td>2020-06-26 18:15:03</td>\n",
       "      <td>2020-06-26 16:15:03</td>\n",
       "      <td>NaN</td>\n",
       "      <td>0.00</td>\n",
       "      <td>https://www.bottle-neck.fr/?post_type=product&amp;...</td>\n",
       "      <td>0.00</td>\n",
       "      <td>product</td>\n",
       "      <td>NaN</td>\n",
       "      <td>0.00</td>\n",
       "    </tr>\n",
       "    <tr>\n",
       "      <th>4</th>\n",
       "      <td>19814</td>\n",
       "      <td>0</td>\n",
       "      <td>0</td>\n",
       "      <td>0</td>\n",
       "      <td>0.00</td>\n",
       "      <td>3.00</td>\n",
       "      <td>taxable</td>\n",
       "      <td>NaN</td>\n",
       "      <td>2.00</td>\n",
       "      <td>2018-02-09 14:01:05</td>\n",
       "      <td>2018-02-09 13:01:05</td>\n",
       "      <td>NaN</td>\n",
       "      <td>Pierre Jean Villa IGP Collines Rhodaniennes Ga...</td>\n",
       "      <td>Gamine représente tout le fruité et la gourman...</td>\n",
       "      <td>publish</td>\n",
       "      <td>closed</td>\n",
       "      <td>closed</td>\n",
       "      <td>NaN</td>\n",
       "      <td>pierre-jean-villa-igp-gamine-2018</td>\n",
       "      <td>2020-01-04 16:36:01</td>\n",
       "      <td>2020-01-04 15:36:01</td>\n",
       "      <td>NaN</td>\n",
       "      <td>0.00</td>\n",
       "      <td>https://www.bottle-neck.fr/?post_type=product&amp;...</td>\n",
       "      <td>0.00</td>\n",
       "      <td>product</td>\n",
       "      <td>NaN</td>\n",
       "      <td>0.00</td>\n",
       "    </tr>\n",
       "  </tbody>\n",
       "</table>\n",
       "</div>"
      ],
      "text/plain": [
       "                   sku  virtual  downloadable  rating_count  average_rating  \\\n",
       "0  bon-cadeau-25-euros        0             0             0            0.00   \n",
       "1                15298        0             0             0            0.00   \n",
       "2                15296        0             0             0            0.00   \n",
       "3                15300        0             0             0            0.00   \n",
       "4                19814        0             0             0            0.00   \n",
       "\n",
       "   total_sales tax_status  tax_class  post_author           post_date  \\\n",
       "0        10.00    taxable        NaN         1.00 2018-06-01 13:53:46   \n",
       "1         6.00    taxable        NaN         2.00 2018-02-08 12:58:52   \n",
       "2         0.00    taxable        NaN         2.00 2018-02-08 13:49:41   \n",
       "3         0.00    taxable        NaN         2.00 2018-02-08 14:08:36   \n",
       "4         3.00    taxable        NaN         2.00 2018-02-09 14:01:05   \n",
       "\n",
       "        post_date_gmt  post_content  \\\n",
       "0 2018-06-01 11:53:46           NaN   \n",
       "1 2018-02-08 11:58:52           NaN   \n",
       "2 2018-02-08 12:49:41           NaN   \n",
       "3 2018-02-08 13:08:36           NaN   \n",
       "4 2018-02-09 13:01:05           NaN   \n",
       "\n",
       "                                          post_title  \\\n",
       "0                                  Bon cadeau de 25€   \n",
       "1        Pierre Jean Villa Saint-Joseph Préface 2018   \n",
       "2    Pierre Jean Villa Saint-Joseph Rouge Tildé 2017   \n",
       "3  Pierre Jean Villa Crozes-Hermitage Accroche Co...   \n",
       "4  Pierre Jean Villa IGP Collines Rhodaniennes Ga...   \n",
       "\n",
       "                                        post_excerpt post_status  \\\n",
       "0  <span style=\"color: #a85253;\"><strong>Parlons ...     publish   \n",
       "1  Il exhale un nez subtil, racé avec du poivre f...     publish   \n",
       "2  Les vieilles vignes lui apportent une rare pro...     publish   \n",
       "3  Dentelle de fruit de jeunes syrah, aux tanins ...     publish   \n",
       "4  Gamine représente tout le fruité et la gourman...     publish   \n",
       "\n",
       "  comment_status ping_status  post_password  \\\n",
       "0         closed      closed            NaN   \n",
       "1         closed      closed            NaN   \n",
       "2         closed      closed            NaN   \n",
       "3         closed      closed            NaN   \n",
       "4         closed      closed            NaN   \n",
       "\n",
       "                                           post_name       post_modified  \\\n",
       "0                             bon-cadeau-de-25-euros 2018-06-01 14:13:57   \n",
       "1        pierre-jean-villa-saint-joseph-preface-2018 2019-12-30 09:30:29   \n",
       "2          pierre-jean-villa-saint-joseph-tilde-2017 2019-12-21 09:00:17   \n",
       "3  pierre-jean-villa-croze-hermitage-accroche-coe... 2020-06-26 18:15:03   \n",
       "4                  pierre-jean-villa-igp-gamine-2018 2020-01-04 16:36:01   \n",
       "\n",
       "    post_modified_gmt  post_content_filtered  post_parent  \\\n",
       "0 2018-06-01 12:13:57                    NaN         0.00   \n",
       "1 2019-12-30 08:30:29                    NaN         0.00   \n",
       "2 2019-12-21 08:00:17                    NaN         0.00   \n",
       "3 2020-06-26 16:15:03                    NaN         0.00   \n",
       "4 2020-01-04 15:36:01                    NaN         0.00   \n",
       "\n",
       "                                                guid  menu_order post_type  \\\n",
       "0  https://www.bottle-neck.fr/?post_type=product&...        0.00   product   \n",
       "1  https://www.bottle-neck.fr/?post_type=product&...        0.00   product   \n",
       "2  https://www.bottle-neck.fr/?post_type=product&...        0.00   product   \n",
       "3  https://www.bottle-neck.fr/?post_type=product&...        0.00   product   \n",
       "4  https://www.bottle-neck.fr/?post_type=product&...        0.00   product   \n",
       "\n",
       "  post_mime_type  comment_count  \n",
       "0            NaN           0.00  \n",
       "1            NaN           0.00  \n",
       "2            NaN           0.00  \n",
       "3            NaN           0.00  \n",
       "4            NaN           0.00  "
      ]
     },
     "execution_count": 9,
     "metadata": {},
     "output_type": "execute_result"
    }
   ],
   "source": [
    "df_web = import_xls_to_dataframe('web.xlsx')\n",
    "df_web.head()"
   ]
  },
  {
   "cell_type": "markdown",
   "id": "c4c85673-f413-4d43-8514-6d9cfaca1948",
   "metadata": {},
   "source": [
    "#### Nettoyage des données"
   ]
  },
  {
   "cell_type": "code",
   "execution_count": 10,
   "id": "24b644aa",
   "metadata": {},
   "outputs": [
    {
     "data": {
      "text/html": [
       "<div>\n",
       "<style scoped>\n",
       "    .dataframe tbody tr th:only-of-type {\n",
       "        vertical-align: middle;\n",
       "    }\n",
       "\n",
       "    .dataframe tbody tr th {\n",
       "        vertical-align: top;\n",
       "    }\n",
       "\n",
       "    .dataframe thead th {\n",
       "        text-align: right;\n",
       "    }\n",
       "</style>\n",
       "<table border=\"1\" class=\"dataframe\">\n",
       "  <thead>\n",
       "    <tr style=\"text-align: right;\">\n",
       "      <th></th>\n",
       "      <th>sku</th>\n",
       "      <th>total_sales</th>\n",
       "      <th>post_title</th>\n",
       "      <th>post_type</th>\n",
       "    </tr>\n",
       "  </thead>\n",
       "  <tbody>\n",
       "    <tr>\n",
       "      <th>0</th>\n",
       "      <td>bon-cadeau-25-euros</td>\n",
       "      <td>10.00</td>\n",
       "      <td>Bon cadeau de 25€</td>\n",
       "      <td>product</td>\n",
       "    </tr>\n",
       "    <tr>\n",
       "      <th>1</th>\n",
       "      <td>15298</td>\n",
       "      <td>6.00</td>\n",
       "      <td>Pierre Jean Villa Saint-Joseph Préface 2018</td>\n",
       "      <td>product</td>\n",
       "    </tr>\n",
       "    <tr>\n",
       "      <th>2</th>\n",
       "      <td>15296</td>\n",
       "      <td>0.00</td>\n",
       "      <td>Pierre Jean Villa Saint-Joseph Rouge Tildé 2017</td>\n",
       "      <td>product</td>\n",
       "    </tr>\n",
       "    <tr>\n",
       "      <th>3</th>\n",
       "      <td>15300</td>\n",
       "      <td>0.00</td>\n",
       "      <td>Pierre Jean Villa Crozes-Hermitage Accroche Co...</td>\n",
       "      <td>product</td>\n",
       "    </tr>\n",
       "    <tr>\n",
       "      <th>4</th>\n",
       "      <td>19814</td>\n",
       "      <td>3.00</td>\n",
       "      <td>Pierre Jean Villa IGP Collines Rhodaniennes Ga...</td>\n",
       "      <td>product</td>\n",
       "    </tr>\n",
       "    <tr>\n",
       "      <th>...</th>\n",
       "      <td>...</td>\n",
       "      <td>...</td>\n",
       "      <td>...</td>\n",
       "      <td>...</td>\n",
       "    </tr>\n",
       "    <tr>\n",
       "      <th>1508</th>\n",
       "      <td>16135</td>\n",
       "      <td>5.00</td>\n",
       "      <td>Mouthes Le Bihan Côtes de Duras L'Aimé Chai 2015</td>\n",
       "      <td>attachment</td>\n",
       "    </tr>\n",
       "    <tr>\n",
       "      <th>1509</th>\n",
       "      <td>15891</td>\n",
       "      <td>0.00</td>\n",
       "      <td>Camin Larredya Jurançon Sec La Virada 2018</td>\n",
       "      <td>attachment</td>\n",
       "    </tr>\n",
       "    <tr>\n",
       "      <th>1510</th>\n",
       "      <td>15887</td>\n",
       "      <td>0.00</td>\n",
       "      <td>Domaine Jamet Côte Rôtie Fructus Voluptas 2018</td>\n",
       "      <td>attachment</td>\n",
       "    </tr>\n",
       "    <tr>\n",
       "      <th>1511</th>\n",
       "      <td>13127-1</td>\n",
       "      <td>0.00</td>\n",
       "      <td>Clos du Mont-Olivet Châteauneuf-du-Pape 2007</td>\n",
       "      <td>attachment</td>\n",
       "    </tr>\n",
       "    <tr>\n",
       "      <th>1512</th>\n",
       "      <td>16230</td>\n",
       "      <td>0.00</td>\n",
       "      <td>Domaine Saint-Nicolas Vin de France Blanc Les ...</td>\n",
       "      <td>attachment</td>\n",
       "    </tr>\n",
       "  </tbody>\n",
       "</table>\n",
       "<p>1513 rows × 4 columns</p>\n",
       "</div>"
      ],
      "text/plain": [
       "                      sku  total_sales  \\\n",
       "0     bon-cadeau-25-euros        10.00   \n",
       "1                   15298         6.00   \n",
       "2                   15296         0.00   \n",
       "3                   15300         0.00   \n",
       "4                   19814         3.00   \n",
       "...                   ...          ...   \n",
       "1508                16135         5.00   \n",
       "1509                15891         0.00   \n",
       "1510                15887         0.00   \n",
       "1511              13127-1         0.00   \n",
       "1512                16230         0.00   \n",
       "\n",
       "                                             post_title   post_type  \n",
       "0                                     Bon cadeau de 25€     product  \n",
       "1           Pierre Jean Villa Saint-Joseph Préface 2018     product  \n",
       "2       Pierre Jean Villa Saint-Joseph Rouge Tildé 2017     product  \n",
       "3     Pierre Jean Villa Crozes-Hermitage Accroche Co...     product  \n",
       "4     Pierre Jean Villa IGP Collines Rhodaniennes Ga...     product  \n",
       "...                                                 ...         ...  \n",
       "1508   Mouthes Le Bihan Côtes de Duras L'Aimé Chai 2015  attachment  \n",
       "1509         Camin Larredya Jurançon Sec La Virada 2018  attachment  \n",
       "1510     Domaine Jamet Côte Rôtie Fructus Voluptas 2018  attachment  \n",
       "1511       Clos du Mont-Olivet Châteauneuf-du-Pape 2007  attachment  \n",
       "1512  Domaine Saint-Nicolas Vin de France Blanc Les ...  attachment  \n",
       "\n",
       "[1513 rows x 4 columns]"
      ]
     },
     "execution_count": 10,
     "metadata": {},
     "output_type": "execute_result"
    }
   ],
   "source": [
    "# keep interesting columns\n",
    "df_web = df_web[['sku', 'total_sales', 'post_title', 'post_type']]\n",
    "df_web"
   ]
  },
  {
   "cell_type": "markdown",
   "id": "d2c5f812",
   "metadata": {},
   "source": [
    "* sku : référence du produit dans la boutique en ligne\n",
    "* total_sales : nombre total de ventes\n",
    "* post_title : intitulé du produit\n",
    "* post_type : type de publication"
   ]
  },
  {
   "cell_type": "code",
   "execution_count": 11,
   "id": "97451045",
   "metadata": {},
   "outputs": [
    {
     "name": "stdout",
     "output_type": "stream",
     "text": [
      "<class 'pandas.core.frame.DataFrame'>\n",
      "RangeIndex: 1513 entries, 0 to 1512\n",
      "Data columns (total 4 columns):\n",
      " #   Column       Non-Null Count  Dtype  \n",
      "---  ------       --------------  -----  \n",
      " 0   sku          1428 non-null   object \n",
      " 1   total_sales  1430 non-null   float64\n",
      " 2   post_title   1430 non-null   object \n",
      " 3   post_type    1430 non-null   object \n",
      "dtypes: float64(1), object(3)\n",
      "memory usage: 47.4+ KB\n"
     ]
    }
   ],
   "source": [
    "df_web.info()"
   ]
  },
  {
   "cell_type": "markdown",
   "id": "2579b8c6",
   "metadata": {},
   "source": [
    "> La colonne 'sku' correspond aux références des produits dans la base de la boutique en ligne.  \n",
    "Les types de données dont corrects.  \n",
    "Il y a des références qui sont null."
   ]
  },
  {
   "cell_type": "markdown",
   "id": "e834f8f9",
   "metadata": {},
   "source": [
    "**Filtre des sku null :**"
   ]
  },
  {
   "cell_type": "code",
   "execution_count": 12,
   "id": "95a82369",
   "metadata": {},
   "outputs": [
    {
     "name": "stdout",
     "output_type": "stream",
     "text": [
      "<class 'pandas.core.frame.DataFrame'>\n",
      "Int64Index: 85 entries, 178 to 796\n",
      "Data columns (total 4 columns):\n",
      " #   Column       Non-Null Count  Dtype  \n",
      "---  ------       --------------  -----  \n",
      " 0   sku          0 non-null      object \n",
      " 1   total_sales  2 non-null      float64\n",
      " 2   post_title   2 non-null      object \n",
      " 3   post_type    2 non-null      object \n",
      "dtypes: float64(1), object(3)\n",
      "memory usage: 3.3+ KB\n"
     ]
    }
   ],
   "source": [
    "# delete null rows\n",
    "df_web_id_nan = df_web[df_web['sku'].isnull()]\n",
    "df_web_id_nan.info()"
   ]
  },
  {
   "cell_type": "code",
   "execution_count": 13,
   "id": "57a3c86b",
   "metadata": {},
   "outputs": [
    {
     "data": {
      "text/html": [
       "<div>\n",
       "<style scoped>\n",
       "    .dataframe tbody tr th:only-of-type {\n",
       "        vertical-align: middle;\n",
       "    }\n",
       "\n",
       "    .dataframe tbody tr th {\n",
       "        vertical-align: top;\n",
       "    }\n",
       "\n",
       "    .dataframe thead th {\n",
       "        text-align: right;\n",
       "    }\n",
       "</style>\n",
       "<table border=\"1\" class=\"dataframe\">\n",
       "  <thead>\n",
       "    <tr style=\"text-align: right;\">\n",
       "      <th></th>\n",
       "      <th>sku</th>\n",
       "      <th>total_sales</th>\n",
       "      <th>post_title</th>\n",
       "      <th>post_type</th>\n",
       "    </tr>\n",
       "  </thead>\n",
       "  <tbody>\n",
       "    <tr>\n",
       "      <th>470</th>\n",
       "      <td>NaN</td>\n",
       "      <td>0.00</td>\n",
       "      <td>Pierre Jean Villa Côte Rôtie Fongeant 2017</td>\n",
       "      <td>product</td>\n",
       "    </tr>\n",
       "    <tr>\n",
       "      <th>471</th>\n",
       "      <td>NaN</td>\n",
       "      <td>0.00</td>\n",
       "      <td>Pierre Jean Villa Condrieu Jardin Suspendu 2018</td>\n",
       "      <td>product</td>\n",
       "    </tr>\n",
       "  </tbody>\n",
       "</table>\n",
       "</div>"
      ],
      "text/plain": [
       "     sku  total_sales                                       post_title  \\\n",
       "470  NaN         0.00       Pierre Jean Villa Côte Rôtie Fongeant 2017   \n",
       "471  NaN         0.00  Pierre Jean Villa Condrieu Jardin Suspendu 2018   \n",
       "\n",
       "    post_type  \n",
       "470   product  \n",
       "471   product  "
      ]
     },
     "execution_count": 13,
     "metadata": {},
     "output_type": "execute_result"
    }
   ],
   "source": [
    "df_post_notnull = df_web_id_nan[df_web_id_nan['post_type'].notnull()]\n",
    "df_post_notnull"
   ]
  },
  {
   "cell_type": "markdown",
   "id": "6fe8dbbc",
   "metadata": {},
   "source": [
    "> Les sku null n'apportent pas d'informations complémentaires, on peut les supprimer.  \n",
    "Les références null, au nombre de 85, peuvent être supprimées.  "
   ]
  },
  {
   "cell_type": "markdown",
   "id": "60a98597",
   "metadata": {},
   "source": [
    "**Suppresion des lignes null :**"
   ]
  },
  {
   "cell_type": "code",
   "execution_count": 14,
   "id": "72e57610",
   "metadata": {},
   "outputs": [
    {
     "name": "stdout",
     "output_type": "stream",
     "text": [
      "<class 'pandas.core.frame.DataFrame'>\n",
      "Int64Index: 1428 entries, 0 to 1512\n",
      "Data columns (total 4 columns):\n",
      " #   Column       Non-Null Count  Dtype  \n",
      "---  ------       --------------  -----  \n",
      " 0   sku          1428 non-null   object \n",
      " 1   total_sales  1428 non-null   float64\n",
      " 2   post_title   1428 non-null   object \n",
      " 3   post_type    1428 non-null   object \n",
      "dtypes: float64(1), object(3)\n",
      "memory usage: 55.8+ KB\n"
     ]
    }
   ],
   "source": [
    "df_web = df_web[df_web['sku'].notna()]\n",
    "df_web.info()"
   ]
  },
  {
   "cell_type": "markdown",
   "id": "ff6b690f",
   "metadata": {},
   "source": [
    "> Dans les données ERP, il y a 825 produits référencés.  \n",
    "> On retrouve ici 1428 posts dans la boutique en ligne. Il y a donc des doublons."
   ]
  },
  {
   "cell_type": "markdown",
   "id": "63e3ff58",
   "metadata": {},
   "source": [
    "**Traitement des doublons :**"
   ]
  },
  {
   "cell_type": "code",
   "execution_count": 15,
   "id": "5d3cf297",
   "metadata": {},
   "outputs": [
    {
     "data": {
      "text/html": [
       "<div>\n",
       "<style scoped>\n",
       "    .dataframe tbody tr th:only-of-type {\n",
       "        vertical-align: middle;\n",
       "    }\n",
       "\n",
       "    .dataframe tbody tr th {\n",
       "        vertical-align: top;\n",
       "    }\n",
       "\n",
       "    .dataframe thead th {\n",
       "        text-align: right;\n",
       "    }\n",
       "</style>\n",
       "<table border=\"1\" class=\"dataframe\">\n",
       "  <thead>\n",
       "    <tr style=\"text-align: right;\">\n",
       "      <th></th>\n",
       "      <th>sku</th>\n",
       "      <th>total_sales</th>\n",
       "      <th>post_title</th>\n",
       "      <th>post_type</th>\n",
       "    </tr>\n",
       "  </thead>\n",
       "  <tbody>\n",
       "    <tr>\n",
       "      <th>339</th>\n",
       "      <td>38</td>\n",
       "      <td>38.00</td>\n",
       "      <td>Emile Boeckel Crémant Brut Blanc de Blancs</td>\n",
       "      <td>product</td>\n",
       "    </tr>\n",
       "    <tr>\n",
       "      <th>1123</th>\n",
       "      <td>38</td>\n",
       "      <td>38.00</td>\n",
       "      <td>Emile Boeckel Crémant Brut Blanc de Blancs</td>\n",
       "      <td>attachment</td>\n",
       "    </tr>\n",
       "  </tbody>\n",
       "</table>\n",
       "</div>"
      ],
      "text/plain": [
       "     sku  total_sales                                  post_title   post_type\n",
       "339   38        38.00  Emile Boeckel Crémant Brut Blanc de Blancs     product\n",
       "1123  38        38.00  Emile Boeckel Crémant Brut Blanc de Blancs  attachment"
      ]
     },
     "execution_count": 15,
     "metadata": {},
     "output_type": "execute_result"
    }
   ],
   "source": [
    "df_web[df_web['sku'] == 38]"
   ]
  },
  {
   "cell_type": "markdown",
   "id": "5b2315b1",
   "metadata": {},
   "source": [
    "> Les doublons correspondent aux pièces jointes aux posts."
   ]
  },
  {
   "cell_type": "code",
   "execution_count": 16,
   "id": "b7640552-34aa-4d48-8729-4a5d6e0c9085",
   "metadata": {},
   "outputs": [],
   "source": [
    "# filter product only\n",
    "df_web = df_web[df_web['post_type'] == 'product']"
   ]
  },
  {
   "cell_type": "code",
   "execution_count": 17,
   "id": "5b2a9941",
   "metadata": {},
   "outputs": [
    {
     "name": "stdout",
     "output_type": "stream",
     "text": [
      "<class 'pandas.core.frame.DataFrame'>\n",
      "Int64Index: 714 entries, 0 to 798\n",
      "Data columns (total 4 columns):\n",
      " #   Column       Non-Null Count  Dtype  \n",
      "---  ------       --------------  -----  \n",
      " 0   sku          714 non-null    object \n",
      " 1   total_sales  714 non-null    float64\n",
      " 2   post_title   714 non-null    object \n",
      " 3   post_type    714 non-null    object \n",
      "dtypes: float64(1), object(3)\n",
      "memory usage: 27.9+ KB\n"
     ]
    }
   ],
   "source": [
    "df_web.info()"
   ]
  },
  {
   "cell_type": "markdown",
   "id": "aaf87d5a",
   "metadata": {},
   "source": [
    "**Vérification des valeurs numériques :**"
   ]
  },
  {
   "cell_type": "code",
   "execution_count": 18,
   "id": "3b44a983",
   "metadata": {},
   "outputs": [
    {
     "data": {
      "text/html": [
       "<div>\n",
       "<style scoped>\n",
       "    .dataframe tbody tr th:only-of-type {\n",
       "        vertical-align: middle;\n",
       "    }\n",
       "\n",
       "    .dataframe tbody tr th {\n",
       "        vertical-align: top;\n",
       "    }\n",
       "\n",
       "    .dataframe thead th {\n",
       "        text-align: right;\n",
       "    }\n",
       "</style>\n",
       "<table border=\"1\" class=\"dataframe\">\n",
       "  <thead>\n",
       "    <tr style=\"text-align: right;\">\n",
       "      <th></th>\n",
       "      <th>total_sales</th>\n",
       "    </tr>\n",
       "  </thead>\n",
       "  <tbody>\n",
       "    <tr>\n",
       "      <th>count</th>\n",
       "      <td>714.00</td>\n",
       "    </tr>\n",
       "    <tr>\n",
       "      <th>mean</th>\n",
       "      <td>4.01</td>\n",
       "    </tr>\n",
       "    <tr>\n",
       "      <th>std</th>\n",
       "      <td>8.52</td>\n",
       "    </tr>\n",
       "    <tr>\n",
       "      <th>min</th>\n",
       "      <td>0.00</td>\n",
       "    </tr>\n",
       "    <tr>\n",
       "      <th>25%</th>\n",
       "      <td>0.00</td>\n",
       "    </tr>\n",
       "    <tr>\n",
       "      <th>50%</th>\n",
       "      <td>1.00</td>\n",
       "    </tr>\n",
       "    <tr>\n",
       "      <th>75%</th>\n",
       "      <td>4.00</td>\n",
       "    </tr>\n",
       "    <tr>\n",
       "      <th>max</th>\n",
       "      <td>96.00</td>\n",
       "    </tr>\n",
       "  </tbody>\n",
       "</table>\n",
       "</div>"
      ],
      "text/plain": [
       "       total_sales\n",
       "count       714.00\n",
       "mean          4.01\n",
       "std           8.52\n",
       "min           0.00\n",
       "25%           0.00\n",
       "50%           1.00\n",
       "75%           4.00\n",
       "max          96.00"
      ]
     },
     "execution_count": 18,
     "metadata": {},
     "output_type": "execute_result"
    }
   ],
   "source": [
    "df_web.describe()"
   ]
  },
  {
   "cell_type": "markdown",
   "id": "8efbc97d",
   "metadata": {},
   "source": [
    "> Pas de quantitées vendues négatives et toutes les valeurs sont renseignées."
   ]
  },
  {
   "cell_type": "markdown",
   "id": "a68af16b",
   "metadata": {},
   "source": [
    "#### Vérification des clés primaires"
   ]
  },
  {
   "cell_type": "code",
   "execution_count": 19,
   "id": "dc25139b-324a-4d52-8705-aba1ad772b92",
   "metadata": {},
   "outputs": [
    {
     "data": {
      "text/plain": [
       "True"
      ]
     },
     "execution_count": 19,
     "metadata": {},
     "output_type": "execute_result"
    }
   ],
   "source": [
    "is_primary_key(df_web, 'sku')"
   ]
  },
  {
   "cell_type": "markdown",
   "id": "5f97e738",
   "metadata": {},
   "source": [
    "> La colonne 'id_web' est bien une clé primaire qui référence les différents produits de la boutique."
   ]
  },
  {
   "cell_type": "markdown",
   "id": "468a4c29",
   "metadata": {},
   "source": [
    "### Données LIAISON"
   ]
  },
  {
   "cell_type": "markdown",
   "id": "53faeec2",
   "metadata": {},
   "source": [
    "Les données liaison servent de lien entre les données ERP et WEB. Ces doivent être des clés primaires entre ces deux jeux de données."
   ]
  },
  {
   "cell_type": "markdown",
   "id": "3c866c15-5e54-4b9f-80b2-c7eed1df7029",
   "metadata": {},
   "source": [
    "#### Importation des données"
   ]
  },
  {
   "cell_type": "code",
   "execution_count": 20,
   "id": "ae413de7",
   "metadata": {},
   "outputs": [
    {
     "data": {
      "text/html": [
       "<div>\n",
       "<style scoped>\n",
       "    .dataframe tbody tr th:only-of-type {\n",
       "        vertical-align: middle;\n",
       "    }\n",
       "\n",
       "    .dataframe tbody tr th {\n",
       "        vertical-align: top;\n",
       "    }\n",
       "\n",
       "    .dataframe thead th {\n",
       "        text-align: right;\n",
       "    }\n",
       "</style>\n",
       "<table border=\"1\" class=\"dataframe\">\n",
       "  <thead>\n",
       "    <tr style=\"text-align: right;\">\n",
       "      <th></th>\n",
       "      <th>product_id</th>\n",
       "      <th>id_web</th>\n",
       "    </tr>\n",
       "  </thead>\n",
       "  <tbody>\n",
       "    <tr>\n",
       "      <th>0</th>\n",
       "      <td>3847</td>\n",
       "      <td>15298</td>\n",
       "    </tr>\n",
       "    <tr>\n",
       "      <th>1</th>\n",
       "      <td>3849</td>\n",
       "      <td>15296</td>\n",
       "    </tr>\n",
       "    <tr>\n",
       "      <th>2</th>\n",
       "      <td>3850</td>\n",
       "      <td>15300</td>\n",
       "    </tr>\n",
       "    <tr>\n",
       "      <th>3</th>\n",
       "      <td>4032</td>\n",
       "      <td>19814</td>\n",
       "    </tr>\n",
       "    <tr>\n",
       "      <th>4</th>\n",
       "      <td>4039</td>\n",
       "      <td>19815</td>\n",
       "    </tr>\n",
       "  </tbody>\n",
       "</table>\n",
       "</div>"
      ],
      "text/plain": [
       "   product_id id_web\n",
       "0        3847  15298\n",
       "1        3849  15296\n",
       "2        3850  15300\n",
       "3        4032  19814\n",
       "4        4039  19815"
      ]
     },
     "execution_count": 20,
     "metadata": {},
     "output_type": "execute_result"
    }
   ],
   "source": [
    "df_link = import_xls_to_dataframe(\"liaison.xlsx\")\n",
    "df_link.head(5)"
   ]
  },
  {
   "cell_type": "code",
   "execution_count": 21,
   "id": "f64b0ef1",
   "metadata": {},
   "outputs": [],
   "source": [
    "# Rename columns\n",
    "df_link.rename(columns={'id_web':'sku'}, inplace=True)"
   ]
  },
  {
   "cell_type": "markdown",
   "id": "d3995dd8",
   "metadata": {},
   "source": [
    "#### Vérification des clés primaires"
   ]
  },
  {
   "cell_type": "code",
   "execution_count": 22,
   "id": "4d381469",
   "metadata": {},
   "outputs": [
    {
     "name": "stdout",
     "output_type": "stream",
     "text": [
      "<class 'pandas.core.frame.DataFrame'>\n",
      "RangeIndex: 825 entries, 0 to 824\n",
      "Data columns (total 2 columns):\n",
      " #   Column      Non-Null Count  Dtype \n",
      "---  ------      --------------  ----- \n",
      " 0   product_id  825 non-null    int64 \n",
      " 1   sku         734 non-null    object\n",
      "dtypes: int64(1), object(1)\n",
      "memory usage: 13.0+ KB\n"
     ]
    }
   ],
   "source": [
    "df_link.info()"
   ]
  },
  {
   "cell_type": "markdown",
   "id": "e979b82e",
   "metadata": {},
   "source": [
    "##### product_id"
   ]
  },
  {
   "cell_type": "code",
   "execution_count": 23,
   "id": "29d4ed3f",
   "metadata": {},
   "outputs": [
    {
     "data": {
      "text/plain": [
       "True"
      ]
     },
     "execution_count": 23,
     "metadata": {},
     "output_type": "execute_result"
    }
   ],
   "source": [
    "is_primary_key(df_link, 'product_id')"
   ]
  },
  {
   "cell_type": "markdown",
   "id": "86e71980",
   "metadata": {},
   "source": [
    "##### id_web"
   ]
  },
  {
   "cell_type": "markdown",
   "id": "495d7b25",
   "metadata": {},
   "source": [
    "On créé un dataframe temporaire pour vérifier les références uniques des 'sku' du fichier liaison."
   ]
  },
  {
   "cell_type": "code",
   "execution_count": 24,
   "id": "aef2869d",
   "metadata": {},
   "outputs": [
    {
     "data": {
      "text/plain": [
       "True"
      ]
     },
     "execution_count": 24,
     "metadata": {},
     "output_type": "execute_result"
    }
   ],
   "source": [
    "df_link_temp = df_link[df_link['sku'].notna()]\n",
    "is_primary_key(df_link_temp, 'sku')"
   ]
  },
  {
   "cell_type": "markdown",
   "id": "e6db7ef0",
   "metadata": {},
   "source": [
    "> On retrouve des valeurs uniques dans les deux colonnes de liaisons (hors valeurs nulls).  \n",
    "Les valeurs nulls de la colonne 'id_web' représentent des produits qui ne sont pas référencés par la boutique."
   ]
  },
  {
   "cell_type": "markdown",
   "id": "4333a48a-af84-47cb-a83b-653012ccd60e",
   "metadata": {},
   "source": [
    "---\n",
    "## Liaison des données"
   ]
  },
  {
   "cell_type": "markdown",
   "id": "b9bfca54-94bc-44cf-b0e6-ec9025698c25",
   "metadata": {},
   "source": [
    "### Relation données EPR"
   ]
  },
  {
   "cell_type": "markdown",
   "id": "422d6e8a",
   "metadata": {},
   "source": [
    "Pour vérifier les liaisons, on compare les références de la table link avec les colonnes des clés primaire de la table EPR."
   ]
  },
  {
   "cell_type": "code",
   "execution_count": 25,
   "id": "93a8bc88-62db-460b-8d79-6f0dab4577f0",
   "metadata": {},
   "outputs": [],
   "source": [
    "# get lists of id from epr and link table\n",
    "list_epr_product_id = df_erp['product_id'].tolist()\n",
    "list_link_product_id = df_link['product_id'].tolist()"
   ]
  },
  {
   "cell_type": "code",
   "execution_count": 26,
   "id": "1007bef0-d441-4299-8d99-440d3c08af42",
   "metadata": {},
   "outputs": [
    {
     "name": "stdout",
     "output_type": "stream",
     "text": [
      "True\n"
     ]
    }
   ],
   "source": [
    "print(all(item in list_link_product_id for item in list_epr_product_id))"
   ]
  },
  {
   "cell_type": "code",
   "execution_count": 27,
   "id": "2e1ed23d-fbce-4dc2-8987-c1575d3add72",
   "metadata": {},
   "outputs": [
    {
     "name": "stdout",
     "output_type": "stream",
     "text": [
      "True\n"
     ]
    }
   ],
   "source": [
    "print(all(item in list_epr_product_id for item in list_link_product_id))"
   ]
  },
  {
   "cell_type": "markdown",
   "id": "05d17b7a",
   "metadata": {},
   "source": [
    "> On retrouve les même 'product_id' dans le fichier \"erp\" et \"liaison\"."
   ]
  },
  {
   "cell_type": "markdown",
   "id": "d38f891e-2136-4951-a1b9-44c47f174be7",
   "metadata": {},
   "source": [
    "### Relation données Web"
   ]
  },
  {
   "cell_type": "markdown",
   "id": "9d336f5c",
   "metadata": {},
   "source": [
    "Pour vérifier les liaisons, on compare les références de la table link avec les colonnes des clés primaire de la table Web."
   ]
  },
  {
   "cell_type": "code",
   "execution_count": 28,
   "id": "0c30d344-c310-4a16-abf6-f7c401b9ae5f",
   "metadata": {},
   "outputs": [],
   "source": [
    "# get lists of id from web and link table\n",
    "list_web_sku = df_web['sku'].tolist()\n",
    "list_link_sku = df_link['sku'].tolist()"
   ]
  },
  {
   "cell_type": "code",
   "execution_count": 29,
   "id": "547e55f3-c3a9-4749-ac33-ddcffabe7720",
   "metadata": {},
   "outputs": [
    {
     "name": "stdout",
     "output_type": "stream",
     "text": [
      "True\n"
     ]
    }
   ],
   "source": [
    "print(all(item in list_link_sku for item in list_web_sku))"
   ]
  },
  {
   "cell_type": "markdown",
   "id": "756c7080",
   "metadata": {},
   "source": [
    "> Tous les produits présents dans la boutique sont référencés dans la table de relation."
   ]
  },
  {
   "cell_type": "code",
   "execution_count": 30,
   "id": "66caff59-43cc-47b8-85b7-feb3100b17e9",
   "metadata": {},
   "outputs": [
    {
     "name": "stdout",
     "output_type": "stream",
     "text": [
      "False\n"
     ]
    }
   ],
   "source": [
    "print(all(item in list_web_sku for item in list_link_sku))"
   ]
  },
  {
   "cell_type": "markdown",
   "id": "a48fb689",
   "metadata": {},
   "source": [
    "> Tous les produits référencés en sku dans la table link ne sont pas présents sur la boutique."
   ]
  },
  {
   "cell_type": "markdown",
   "id": "18773ea7",
   "metadata": {},
   "source": [
    "Liste des produits non publiés sur la boutique :"
   ]
  },
  {
   "cell_type": "code",
   "execution_count": 31,
   "id": "c3e0956e",
   "metadata": {},
   "outputs": [
    {
     "name": "stdout",
     "output_type": "stream",
     "text": [
      "[nan, 13577, 14730, 15630, 14360, 15272, 14377, 15529, 14379, 15154, 14648, 12601, '14680-1', 14785, 13771, 15065, 14689, 15586, 15608, 15609, 14715]\n"
     ]
    }
   ],
   "source": [
    "new_list = list(set(list_link_sku).difference(list_web_sku))\n",
    "print(new_list)"
   ]
  },
  {
   "cell_type": "markdown",
   "id": "99b44771",
   "metadata": {},
   "source": [
    "> Il est intéressant de voir quels sont les produits en stock mais pas mis en vente sur la boutique en ligne.  \n",
    "Certains produits ne sont pas publiés sur la boutique en ligne."
   ]
  },
  {
   "cell_type": "markdown",
   "id": "ae94eb6a",
   "metadata": {},
   "source": [
    "### Relation liason des données"
   ]
  },
  {
   "cell_type": "markdown",
   "id": "ce9b9054",
   "metadata": {},
   "source": [
    "Pour analyser les données, on join les tables ERP et Web grâçe à la table link."
   ]
  },
  {
   "cell_type": "markdown",
   "id": "5aee85a0",
   "metadata": {},
   "source": [
    "#### Jointure Web"
   ]
  },
  {
   "cell_type": "markdown",
   "id": "d2d0c842",
   "metadata": {},
   "source": [
    "On commence par joindre la table link et web."
   ]
  },
  {
   "cell_type": "code",
   "execution_count": 32,
   "id": "4e4758da",
   "metadata": {},
   "outputs": [
    {
     "data": {
      "text/html": [
       "<div>\n",
       "<style scoped>\n",
       "    .dataframe tbody tr th:only-of-type {\n",
       "        vertical-align: middle;\n",
       "    }\n",
       "\n",
       "    .dataframe tbody tr th {\n",
       "        vertical-align: top;\n",
       "    }\n",
       "\n",
       "    .dataframe thead th {\n",
       "        text-align: right;\n",
       "    }\n",
       "</style>\n",
       "<table border=\"1\" class=\"dataframe\">\n",
       "  <thead>\n",
       "    <tr style=\"text-align: right;\">\n",
       "      <th></th>\n",
       "      <th>product_id</th>\n",
       "      <th>sku</th>\n",
       "      <th>total_sales</th>\n",
       "      <th>post_title</th>\n",
       "      <th>post_type</th>\n",
       "    </tr>\n",
       "  </thead>\n",
       "  <tbody>\n",
       "    <tr>\n",
       "      <th>0</th>\n",
       "      <td>3847</td>\n",
       "      <td>15298</td>\n",
       "      <td>6.00</td>\n",
       "      <td>Pierre Jean Villa Saint-Joseph Préface 2018</td>\n",
       "      <td>product</td>\n",
       "    </tr>\n",
       "    <tr>\n",
       "      <th>1</th>\n",
       "      <td>3849</td>\n",
       "      <td>15296</td>\n",
       "      <td>0.00</td>\n",
       "      <td>Pierre Jean Villa Saint-Joseph Rouge Tildé 2017</td>\n",
       "      <td>product</td>\n",
       "    </tr>\n",
       "    <tr>\n",
       "      <th>2</th>\n",
       "      <td>3850</td>\n",
       "      <td>15300</td>\n",
       "      <td>0.00</td>\n",
       "      <td>Pierre Jean Villa Crozes-Hermitage Accroche Co...</td>\n",
       "      <td>product</td>\n",
       "    </tr>\n",
       "    <tr>\n",
       "      <th>3</th>\n",
       "      <td>4032</td>\n",
       "      <td>19814</td>\n",
       "      <td>3.00</td>\n",
       "      <td>Pierre Jean Villa IGP Collines Rhodaniennes Ga...</td>\n",
       "      <td>product</td>\n",
       "    </tr>\n",
       "    <tr>\n",
       "      <th>4</th>\n",
       "      <td>4039</td>\n",
       "      <td>19815</td>\n",
       "      <td>0.00</td>\n",
       "      <td>Pierre Jean Villa Côte Rôtie Carmina 2017</td>\n",
       "      <td>product</td>\n",
       "    </tr>\n",
       "    <tr>\n",
       "      <th>...</th>\n",
       "      <td>...</td>\n",
       "      <td>...</td>\n",
       "      <td>...</td>\n",
       "      <td>...</td>\n",
       "      <td>...</td>\n",
       "    </tr>\n",
       "    <tr>\n",
       "      <th>820</th>\n",
       "      <td>7023</td>\n",
       "      <td>15891</td>\n",
       "      <td>0.00</td>\n",
       "      <td>Camin Larredya Jurançon Sec La Virada 2018</td>\n",
       "      <td>product</td>\n",
       "    </tr>\n",
       "    <tr>\n",
       "      <th>821</th>\n",
       "      <td>7025</td>\n",
       "      <td>15887</td>\n",
       "      <td>0.00</td>\n",
       "      <td>Domaine Jamet Côte Rôtie Fructus Voluptas 2018</td>\n",
       "      <td>product</td>\n",
       "    </tr>\n",
       "    <tr>\n",
       "      <th>822</th>\n",
       "      <td>7247</td>\n",
       "      <td>13127-1</td>\n",
       "      <td>0.00</td>\n",
       "      <td>Clos du Mont-Olivet Châteauneuf-du-Pape 2007</td>\n",
       "      <td>product</td>\n",
       "    </tr>\n",
       "    <tr>\n",
       "      <th>823</th>\n",
       "      <td>7329</td>\n",
       "      <td>14680-1</td>\n",
       "      <td>NaN</td>\n",
       "      <td>NaN</td>\n",
       "      <td>NaN</td>\n",
       "    </tr>\n",
       "    <tr>\n",
       "      <th>824</th>\n",
       "      <td>7338</td>\n",
       "      <td>16230</td>\n",
       "      <td>0.00</td>\n",
       "      <td>Domaine Saint-Nicolas Vin de France Blanc Les ...</td>\n",
       "      <td>product</td>\n",
       "    </tr>\n",
       "  </tbody>\n",
       "</table>\n",
       "<p>825 rows × 5 columns</p>\n",
       "</div>"
      ],
      "text/plain": [
       "     product_id      sku  total_sales  \\\n",
       "0          3847    15298         6.00   \n",
       "1          3849    15296         0.00   \n",
       "2          3850    15300         0.00   \n",
       "3          4032    19814         3.00   \n",
       "4          4039    19815         0.00   \n",
       "..          ...      ...          ...   \n",
       "820        7023    15891         0.00   \n",
       "821        7025    15887         0.00   \n",
       "822        7247  13127-1         0.00   \n",
       "823        7329  14680-1          NaN   \n",
       "824        7338    16230         0.00   \n",
       "\n",
       "                                            post_title post_type  \n",
       "0          Pierre Jean Villa Saint-Joseph Préface 2018   product  \n",
       "1      Pierre Jean Villa Saint-Joseph Rouge Tildé 2017   product  \n",
       "2    Pierre Jean Villa Crozes-Hermitage Accroche Co...   product  \n",
       "3    Pierre Jean Villa IGP Collines Rhodaniennes Ga...   product  \n",
       "4            Pierre Jean Villa Côte Rôtie Carmina 2017   product  \n",
       "..                                                 ...       ...  \n",
       "820         Camin Larredya Jurançon Sec La Virada 2018   product  \n",
       "821     Domaine Jamet Côte Rôtie Fructus Voluptas 2018   product  \n",
       "822       Clos du Mont-Olivet Châteauneuf-du-Pape 2007   product  \n",
       "823                                                NaN       NaN  \n",
       "824  Domaine Saint-Nicolas Vin de France Blanc Les ...   product  \n",
       "\n",
       "[825 rows x 5 columns]"
      ]
     },
     "execution_count": 32,
     "metadata": {},
     "output_type": "execute_result"
    }
   ],
   "source": [
    "df_main = pd.merge(df_link, df_web, on=\"sku\", how=\"outer\")\n",
    "df_main"
   ]
  },
  {
   "cell_type": "code",
   "execution_count": 33,
   "id": "e6bff864",
   "metadata": {},
   "outputs": [
    {
     "name": "stdout",
     "output_type": "stream",
     "text": [
      "<class 'pandas.core.frame.DataFrame'>\n",
      "Int64Index: 825 entries, 0 to 824\n",
      "Data columns (total 5 columns):\n",
      " #   Column       Non-Null Count  Dtype  \n",
      "---  ------       --------------  -----  \n",
      " 0   product_id   825 non-null    int64  \n",
      " 1   sku          734 non-null    object \n",
      " 2   total_sales  714 non-null    float64\n",
      " 3   post_title   714 non-null    object \n",
      " 4   post_type    714 non-null    object \n",
      "dtypes: float64(1), int64(1), object(3)\n",
      "memory usage: 38.7+ KB\n"
     ]
    }
   ],
   "source": [
    "df_main.info()"
   ]
  },
  {
   "cell_type": "markdown",
   "id": "a2565d42",
   "metadata": {},
   "source": [
    "> Le nombre de lignes reste à 825. Il n'y a pas de perte d'informations."
   ]
  },
  {
   "cell_type": "markdown",
   "id": "4fc1b304",
   "metadata": {},
   "source": [
    "#### Jointure ERP"
   ]
  },
  {
   "cell_type": "markdown",
   "id": "e9f0ee23",
   "metadata": {},
   "source": [
    "On joint ensuite la table obtenue avec la table ERP. La méthode \"outer\" permet de garder le maximum de données."
   ]
  },
  {
   "cell_type": "code",
   "execution_count": 34,
   "id": "8fcfde95",
   "metadata": {},
   "outputs": [
    {
     "data": {
      "text/html": [
       "<div>\n",
       "<style scoped>\n",
       "    .dataframe tbody tr th:only-of-type {\n",
       "        vertical-align: middle;\n",
       "    }\n",
       "\n",
       "    .dataframe tbody tr th {\n",
       "        vertical-align: top;\n",
       "    }\n",
       "\n",
       "    .dataframe thead th {\n",
       "        text-align: right;\n",
       "    }\n",
       "</style>\n",
       "<table border=\"1\" class=\"dataframe\">\n",
       "  <thead>\n",
       "    <tr style=\"text-align: right;\">\n",
       "      <th></th>\n",
       "      <th>product_id</th>\n",
       "      <th>onsale_web</th>\n",
       "      <th>price</th>\n",
       "      <th>stock_quantity</th>\n",
       "      <th>stock_status</th>\n",
       "      <th>sku</th>\n",
       "      <th>total_sales</th>\n",
       "      <th>post_title</th>\n",
       "      <th>post_type</th>\n",
       "    </tr>\n",
       "  </thead>\n",
       "  <tbody>\n",
       "    <tr>\n",
       "      <th>0</th>\n",
       "      <td>3847</td>\n",
       "      <td>1</td>\n",
       "      <td>24.20</td>\n",
       "      <td>0</td>\n",
       "      <td>outofstock</td>\n",
       "      <td>15298</td>\n",
       "      <td>6.00</td>\n",
       "      <td>Pierre Jean Villa Saint-Joseph Préface 2018</td>\n",
       "      <td>product</td>\n",
       "    </tr>\n",
       "    <tr>\n",
       "      <th>1</th>\n",
       "      <td>3849</td>\n",
       "      <td>1</td>\n",
       "      <td>34.30</td>\n",
       "      <td>0</td>\n",
       "      <td>outofstock</td>\n",
       "      <td>15296</td>\n",
       "      <td>0.00</td>\n",
       "      <td>Pierre Jean Villa Saint-Joseph Rouge Tildé 2017</td>\n",
       "      <td>product</td>\n",
       "    </tr>\n",
       "    <tr>\n",
       "      <th>2</th>\n",
       "      <td>3850</td>\n",
       "      <td>1</td>\n",
       "      <td>20.80</td>\n",
       "      <td>0</td>\n",
       "      <td>outofstock</td>\n",
       "      <td>15300</td>\n",
       "      <td>0.00</td>\n",
       "      <td>Pierre Jean Villa Crozes-Hermitage Accroche Co...</td>\n",
       "      <td>product</td>\n",
       "    </tr>\n",
       "    <tr>\n",
       "      <th>3</th>\n",
       "      <td>4032</td>\n",
       "      <td>1</td>\n",
       "      <td>14.10</td>\n",
       "      <td>0</td>\n",
       "      <td>outofstock</td>\n",
       "      <td>19814</td>\n",
       "      <td>3.00</td>\n",
       "      <td>Pierre Jean Villa IGP Collines Rhodaniennes Ga...</td>\n",
       "      <td>product</td>\n",
       "    </tr>\n",
       "    <tr>\n",
       "      <th>4</th>\n",
       "      <td>4039</td>\n",
       "      <td>1</td>\n",
       "      <td>46.00</td>\n",
       "      <td>0</td>\n",
       "      <td>outofstock</td>\n",
       "      <td>19815</td>\n",
       "      <td>0.00</td>\n",
       "      <td>Pierre Jean Villa Côte Rôtie Carmina 2017</td>\n",
       "      <td>product</td>\n",
       "    </tr>\n",
       "  </tbody>\n",
       "</table>\n",
       "</div>"
      ],
      "text/plain": [
       "   product_id  onsale_web  price  stock_quantity stock_status    sku  \\\n",
       "0        3847           1  24.20               0   outofstock  15298   \n",
       "1        3849           1  34.30               0   outofstock  15296   \n",
       "2        3850           1  20.80               0   outofstock  15300   \n",
       "3        4032           1  14.10               0   outofstock  19814   \n",
       "4        4039           1  46.00               0   outofstock  19815   \n",
       "\n",
       "   total_sales                                         post_title post_type  \n",
       "0         6.00        Pierre Jean Villa Saint-Joseph Préface 2018   product  \n",
       "1         0.00    Pierre Jean Villa Saint-Joseph Rouge Tildé 2017   product  \n",
       "2         0.00  Pierre Jean Villa Crozes-Hermitage Accroche Co...   product  \n",
       "3         3.00  Pierre Jean Villa IGP Collines Rhodaniennes Ga...   product  \n",
       "4         0.00          Pierre Jean Villa Côte Rôtie Carmina 2017   product  "
      ]
     },
     "execution_count": 34,
     "metadata": {},
     "output_type": "execute_result"
    }
   ],
   "source": [
    "df_main = pd.merge(df_erp, df_main, on=\"product_id\", how=\"outer\")\n",
    "df_main.head()"
   ]
  },
  {
   "cell_type": "code",
   "execution_count": 35,
   "id": "31e48ad3",
   "metadata": {},
   "outputs": [
    {
     "name": "stdout",
     "output_type": "stream",
     "text": [
      "<class 'pandas.core.frame.DataFrame'>\n",
      "Int64Index: 825 entries, 0 to 824\n",
      "Data columns (total 9 columns):\n",
      " #   Column          Non-Null Count  Dtype  \n",
      "---  ------          --------------  -----  \n",
      " 0   product_id      825 non-null    int64  \n",
      " 1   onsale_web      825 non-null    int64  \n",
      " 2   price           825 non-null    float64\n",
      " 3   stock_quantity  825 non-null    int64  \n",
      " 4   stock_status    825 non-null    object \n",
      " 5   sku             734 non-null    object \n",
      " 6   total_sales     714 non-null    float64\n",
      " 7   post_title      714 non-null    object \n",
      " 8   post_type       714 non-null    object \n",
      "dtypes: float64(2), int64(3), object(4)\n",
      "memory usage: 64.5+ KB\n"
     ]
    }
   ],
   "source": [
    "df_main.info()"
   ]
  },
  {
   "cell_type": "markdown",
   "id": "b3eaed26",
   "metadata": {},
   "source": [
    "> Le nombre de lignes reste à 825. Il n'y a pas de perte d'informations."
   ]
  },
  {
   "cell_type": "markdown",
   "id": "6eaf881c",
   "metadata": {},
   "source": [
    "#### Réagencement "
   ]
  },
  {
   "cell_type": "markdown",
   "id": "f3f155a7",
   "metadata": {},
   "source": [
    "On sélectionne les données nécessaires aux analyses."
   ]
  },
  {
   "cell_type": "code",
   "execution_count": 36,
   "id": "7b4c22b1",
   "metadata": {},
   "outputs": [
    {
     "data": {
      "text/html": [
       "<div>\n",
       "<style scoped>\n",
       "    .dataframe tbody tr th:only-of-type {\n",
       "        vertical-align: middle;\n",
       "    }\n",
       "\n",
       "    .dataframe tbody tr th {\n",
       "        vertical-align: top;\n",
       "    }\n",
       "\n",
       "    .dataframe thead th {\n",
       "        text-align: right;\n",
       "    }\n",
       "</style>\n",
       "<table border=\"1\" class=\"dataframe\">\n",
       "  <thead>\n",
       "    <tr style=\"text-align: right;\">\n",
       "      <th></th>\n",
       "      <th>product_id</th>\n",
       "      <th>sku</th>\n",
       "      <th>post_title</th>\n",
       "      <th>stock_status</th>\n",
       "      <th>onsale_web</th>\n",
       "      <th>stock_quantity</th>\n",
       "      <th>price</th>\n",
       "      <th>total_sales</th>\n",
       "    </tr>\n",
       "  </thead>\n",
       "  <tbody>\n",
       "    <tr>\n",
       "      <th>0</th>\n",
       "      <td>3847</td>\n",
       "      <td>15298</td>\n",
       "      <td>Pierre Jean Villa Saint-Joseph Préface 2018</td>\n",
       "      <td>outofstock</td>\n",
       "      <td>1</td>\n",
       "      <td>0</td>\n",
       "      <td>24.20</td>\n",
       "      <td>6.00</td>\n",
       "    </tr>\n",
       "    <tr>\n",
       "      <th>1</th>\n",
       "      <td>3849</td>\n",
       "      <td>15296</td>\n",
       "      <td>Pierre Jean Villa Saint-Joseph Rouge Tildé 2017</td>\n",
       "      <td>outofstock</td>\n",
       "      <td>1</td>\n",
       "      <td>0</td>\n",
       "      <td>34.30</td>\n",
       "      <td>0.00</td>\n",
       "    </tr>\n",
       "    <tr>\n",
       "      <th>2</th>\n",
       "      <td>3850</td>\n",
       "      <td>15300</td>\n",
       "      <td>Pierre Jean Villa Crozes-Hermitage Accroche Co...</td>\n",
       "      <td>outofstock</td>\n",
       "      <td>1</td>\n",
       "      <td>0</td>\n",
       "      <td>20.80</td>\n",
       "      <td>0.00</td>\n",
       "    </tr>\n",
       "    <tr>\n",
       "      <th>3</th>\n",
       "      <td>4032</td>\n",
       "      <td>19814</td>\n",
       "      <td>Pierre Jean Villa IGP Collines Rhodaniennes Ga...</td>\n",
       "      <td>outofstock</td>\n",
       "      <td>1</td>\n",
       "      <td>0</td>\n",
       "      <td>14.10</td>\n",
       "      <td>3.00</td>\n",
       "    </tr>\n",
       "    <tr>\n",
       "      <th>4</th>\n",
       "      <td>4039</td>\n",
       "      <td>19815</td>\n",
       "      <td>Pierre Jean Villa Côte Rôtie Carmina 2017</td>\n",
       "      <td>outofstock</td>\n",
       "      <td>1</td>\n",
       "      <td>0</td>\n",
       "      <td>46.00</td>\n",
       "      <td>0.00</td>\n",
       "    </tr>\n",
       "    <tr>\n",
       "      <th>...</th>\n",
       "      <td>...</td>\n",
       "      <td>...</td>\n",
       "      <td>...</td>\n",
       "      <td>...</td>\n",
       "      <td>...</td>\n",
       "      <td>...</td>\n",
       "      <td>...</td>\n",
       "      <td>...</td>\n",
       "    </tr>\n",
       "    <tr>\n",
       "      <th>820</th>\n",
       "      <td>7203</td>\n",
       "      <td>NaN</td>\n",
       "      <td>NaN</td>\n",
       "      <td>instock</td>\n",
       "      <td>0</td>\n",
       "      <td>30</td>\n",
       "      <td>45.00</td>\n",
       "      <td>NaN</td>\n",
       "    </tr>\n",
       "    <tr>\n",
       "      <th>821</th>\n",
       "      <td>7204</td>\n",
       "      <td>NaN</td>\n",
       "      <td>NaN</td>\n",
       "      <td>instock</td>\n",
       "      <td>0</td>\n",
       "      <td>9</td>\n",
       "      <td>45.00</td>\n",
       "      <td>NaN</td>\n",
       "    </tr>\n",
       "    <tr>\n",
       "      <th>822</th>\n",
       "      <td>7247</td>\n",
       "      <td>13127-1</td>\n",
       "      <td>Clos du Mont-Olivet Châteauneuf-du-Pape 2007</td>\n",
       "      <td>instock</td>\n",
       "      <td>1</td>\n",
       "      <td>23</td>\n",
       "      <td>54.80</td>\n",
       "      <td>0.00</td>\n",
       "    </tr>\n",
       "    <tr>\n",
       "      <th>823</th>\n",
       "      <td>7329</td>\n",
       "      <td>14680-1</td>\n",
       "      <td>NaN</td>\n",
       "      <td>instock</td>\n",
       "      <td>0</td>\n",
       "      <td>14</td>\n",
       "      <td>26.50</td>\n",
       "      <td>NaN</td>\n",
       "    </tr>\n",
       "    <tr>\n",
       "      <th>824</th>\n",
       "      <td>7338</td>\n",
       "      <td>16230</td>\n",
       "      <td>Domaine Saint-Nicolas Vin de France Blanc Les ...</td>\n",
       "      <td>instock</td>\n",
       "      <td>1</td>\n",
       "      <td>45</td>\n",
       "      <td>16.30</td>\n",
       "      <td>0.00</td>\n",
       "    </tr>\n",
       "  </tbody>\n",
       "</table>\n",
       "<p>825 rows × 8 columns</p>\n",
       "</div>"
      ],
      "text/plain": [
       "     product_id      sku                                         post_title  \\\n",
       "0          3847    15298        Pierre Jean Villa Saint-Joseph Préface 2018   \n",
       "1          3849    15296    Pierre Jean Villa Saint-Joseph Rouge Tildé 2017   \n",
       "2          3850    15300  Pierre Jean Villa Crozes-Hermitage Accroche Co...   \n",
       "3          4032    19814  Pierre Jean Villa IGP Collines Rhodaniennes Ga...   \n",
       "4          4039    19815          Pierre Jean Villa Côte Rôtie Carmina 2017   \n",
       "..          ...      ...                                                ...   \n",
       "820        7203      NaN                                                NaN   \n",
       "821        7204      NaN                                                NaN   \n",
       "822        7247  13127-1       Clos du Mont-Olivet Châteauneuf-du-Pape 2007   \n",
       "823        7329  14680-1                                                NaN   \n",
       "824        7338    16230  Domaine Saint-Nicolas Vin de France Blanc Les ...   \n",
       "\n",
       "    stock_status  onsale_web  stock_quantity  price  total_sales  \n",
       "0     outofstock           1               0  24.20         6.00  \n",
       "1     outofstock           1               0  34.30         0.00  \n",
       "2     outofstock           1               0  20.80         0.00  \n",
       "3     outofstock           1               0  14.10         3.00  \n",
       "4     outofstock           1               0  46.00         0.00  \n",
       "..           ...         ...             ...    ...          ...  \n",
       "820      instock           0              30  45.00          NaN  \n",
       "821      instock           0               9  45.00          NaN  \n",
       "822      instock           1              23  54.80         0.00  \n",
       "823      instock           0              14  26.50          NaN  \n",
       "824      instock           1              45  16.30         0.00  \n",
       "\n",
       "[825 rows x 8 columns]"
      ]
     },
     "execution_count": 36,
     "metadata": {},
     "output_type": "execute_result"
    }
   ],
   "source": [
    "df_main = df_main[[\n",
    "    'product_id',\n",
    "    'sku',\n",
    "    'post_title',\n",
    "    'stock_status',\n",
    "    'onsale_web',\n",
    "    'stock_quantity',\n",
    "    'price',\n",
    "    'total_sales'\n",
    "]]\n",
    "df_main"
   ]
  },
  {
   "cell_type": "markdown",
   "id": "655aca34",
   "metadata": {},
   "source": [
    "---\n",
    "## Reporting"
   ]
  },
  {
   "cell_type": "markdown",
   "id": "025d20f4",
   "metadata": {},
   "source": [
    "### Chiffre d'affaire par produit"
   ]
  },
  {
   "cell_type": "markdown",
   "id": "3189b234",
   "metadata": {},
   "source": [
    "Pour le calcul des revenus, on multiple le prix de chacun des produits par leurs nombres de ventes respectifs."
   ]
  },
  {
   "cell_type": "code",
   "execution_count": 37,
   "id": "524047c1",
   "metadata": {},
   "outputs": [],
   "source": [
    "df_main['revenue'] = df_main['price'] * df_main['total_sales']"
   ]
  },
  {
   "cell_type": "markdown",
   "id": "5def51df",
   "metadata": {},
   "source": [
    "#### Produits les plus vendus"
   ]
  },
  {
   "cell_type": "markdown",
   "id": "707139be",
   "metadata": {},
   "source": [
    "**Par revenue :**"
   ]
  },
  {
   "cell_type": "code",
   "execution_count": 38,
   "id": "bd15dde3",
   "metadata": {},
   "outputs": [
    {
     "data": {
      "text/html": [
       "<div>\n",
       "<style scoped>\n",
       "    .dataframe tbody tr th:only-of-type {\n",
       "        vertical-align: middle;\n",
       "    }\n",
       "\n",
       "    .dataframe tbody tr th {\n",
       "        vertical-align: top;\n",
       "    }\n",
       "\n",
       "    .dataframe thead th {\n",
       "        text-align: right;\n",
       "    }\n",
       "</style>\n",
       "<table border=\"1\" class=\"dataframe\">\n",
       "  <thead>\n",
       "    <tr style=\"text-align: right;\">\n",
       "      <th></th>\n",
       "      <th>product_id</th>\n",
       "      <th>sku</th>\n",
       "      <th>post_title</th>\n",
       "      <th>stock_status</th>\n",
       "      <th>onsale_web</th>\n",
       "      <th>stock_quantity</th>\n",
       "      <th>price</th>\n",
       "      <th>total_sales</th>\n",
       "      <th>revenue</th>\n",
       "    </tr>\n",
       "  </thead>\n",
       "  <tbody>\n",
       "    <tr>\n",
       "      <th>203</th>\n",
       "      <td>4334</td>\n",
       "      <td>7818</td>\n",
       "      <td>Champagne Gosset Grand Blanc de Blancs</td>\n",
       "      <td>outofstock</td>\n",
       "      <td>1</td>\n",
       "      <td>0</td>\n",
       "      <td>49.00</td>\n",
       "      <td>96.00</td>\n",
       "      <td>4,704.00</td>\n",
       "    </tr>\n",
       "    <tr>\n",
       "      <th>74</th>\n",
       "      <td>4144</td>\n",
       "      <td>1662</td>\n",
       "      <td>Champagne Gosset Grand Rosé</td>\n",
       "      <td>instock</td>\n",
       "      <td>1</td>\n",
       "      <td>11</td>\n",
       "      <td>49.00</td>\n",
       "      <td>87.00</td>\n",
       "      <td>4,263.00</td>\n",
       "    </tr>\n",
       "    <tr>\n",
       "      <th>227</th>\n",
       "      <td>4402</td>\n",
       "      <td>3510</td>\n",
       "      <td>Cognac Frapin VIP XO</td>\n",
       "      <td>instock</td>\n",
       "      <td>1</td>\n",
       "      <td>8</td>\n",
       "      <td>176.00</td>\n",
       "      <td>13.00</td>\n",
       "      <td>2,288.00</td>\n",
       "    </tr>\n",
       "    <tr>\n",
       "      <th>73</th>\n",
       "      <td>4142</td>\n",
       "      <td>11641</td>\n",
       "      <td>Champagne Gosset Grand Millésime 2006</td>\n",
       "      <td>instock</td>\n",
       "      <td>1</td>\n",
       "      <td>8</td>\n",
       "      <td>53.00</td>\n",
       "      <td>30.00</td>\n",
       "      <td>1,590.00</td>\n",
       "    </tr>\n",
       "    <tr>\n",
       "      <th>72</th>\n",
       "      <td>4141</td>\n",
       "      <td>304</td>\n",
       "      <td>Champagne Gosset Grande Réserve</td>\n",
       "      <td>instock</td>\n",
       "      <td>1</td>\n",
       "      <td>1</td>\n",
       "      <td>39.00</td>\n",
       "      <td>40.00</td>\n",
       "      <td>1,560.00</td>\n",
       "    </tr>\n",
       "    <tr>\n",
       "      <th>210</th>\n",
       "      <td>4355</td>\n",
       "      <td>12589</td>\n",
       "      <td>Champagne Egly-Ouriet Grand Cru Blanc de Noirs</td>\n",
       "      <td>instock</td>\n",
       "      <td>1</td>\n",
       "      <td>2</td>\n",
       "      <td>126.50</td>\n",
       "      <td>11.00</td>\n",
       "      <td>1,391.50</td>\n",
       "    </tr>\n",
       "    <tr>\n",
       "      <th>208</th>\n",
       "      <td>4352</td>\n",
       "      <td>15940</td>\n",
       "      <td>Champagne Egly-Ouriet Grand Cru Millésimé 2008</td>\n",
       "      <td>outofstock</td>\n",
       "      <td>1</td>\n",
       "      <td>0</td>\n",
       "      <td>225.00</td>\n",
       "      <td>5.00</td>\n",
       "      <td>1,125.00</td>\n",
       "    </tr>\n",
       "    <tr>\n",
       "      <th>82</th>\n",
       "      <td>4153</td>\n",
       "      <td>16237</td>\n",
       "      <td>Elian Daros Côtes du Marmandais Clos Baquey 2015</td>\n",
       "      <td>outofstock</td>\n",
       "      <td>1</td>\n",
       "      <td>0</td>\n",
       "      <td>29.00</td>\n",
       "      <td>36.00</td>\n",
       "      <td>1,044.00</td>\n",
       "    </tr>\n",
       "    <tr>\n",
       "      <th>706</th>\n",
       "      <td>6206</td>\n",
       "      <td>16580</td>\n",
       "      <td>Domaine Giudicelli Patrimonio Blanc 2019</td>\n",
       "      <td>instock</td>\n",
       "      <td>1</td>\n",
       "      <td>120</td>\n",
       "      <td>25.20</td>\n",
       "      <td>41.00</td>\n",
       "      <td>1,033.20</td>\n",
       "    </tr>\n",
       "    <tr>\n",
       "      <th>31</th>\n",
       "      <td>4068</td>\n",
       "      <td>16416</td>\n",
       "      <td>Gilles Robin Crozes-Hermitage Rouge Papillon 2019</td>\n",
       "      <td>instock</td>\n",
       "      <td>1</td>\n",
       "      <td>157</td>\n",
       "      <td>16.60</td>\n",
       "      <td>62.00</td>\n",
       "      <td>1,029.20</td>\n",
       "    </tr>\n",
       "  </tbody>\n",
       "</table>\n",
       "</div>"
      ],
      "text/plain": [
       "     product_id    sku                                         post_title  \\\n",
       "203        4334   7818             Champagne Gosset Grand Blanc de Blancs   \n",
       "74         4144   1662                        Champagne Gosset Grand Rosé   \n",
       "227        4402   3510                               Cognac Frapin VIP XO   \n",
       "73         4142  11641              Champagne Gosset Grand Millésime 2006   \n",
       "72         4141    304                    Champagne Gosset Grande Réserve   \n",
       "210        4355  12589     Champagne Egly-Ouriet Grand Cru Blanc de Noirs   \n",
       "208        4352  15940     Champagne Egly-Ouriet Grand Cru Millésimé 2008   \n",
       "82         4153  16237   Elian Daros Côtes du Marmandais Clos Baquey 2015   \n",
       "706        6206  16580           Domaine Giudicelli Patrimonio Blanc 2019   \n",
       "31         4068  16416  Gilles Robin Crozes-Hermitage Rouge Papillon 2019   \n",
       "\n",
       "    stock_status  onsale_web  stock_quantity  price  total_sales  revenue  \n",
       "203   outofstock           1               0  49.00        96.00 4,704.00  \n",
       "74       instock           1              11  49.00        87.00 4,263.00  \n",
       "227      instock           1               8 176.00        13.00 2,288.00  \n",
       "73       instock           1               8  53.00        30.00 1,590.00  \n",
       "72       instock           1               1  39.00        40.00 1,560.00  \n",
       "210      instock           1               2 126.50        11.00 1,391.50  \n",
       "208   outofstock           1               0 225.00         5.00 1,125.00  \n",
       "82    outofstock           1               0  29.00        36.00 1,044.00  \n",
       "706      instock           1             120  25.20        41.00 1,033.20  \n",
       "31       instock           1             157  16.60        62.00 1,029.20  "
      ]
     },
     "execution_count": 38,
     "metadata": {},
     "output_type": "execute_result"
    }
   ],
   "source": [
    "df_main.sort_values(['revenue'], ascending=False).head(10)"
   ]
  },
  {
   "cell_type": "markdown",
   "id": "598b4ef9",
   "metadata": {},
   "source": [
    "> Les produits qui générent le plus de revenue sont des champagnes et un cognac.  "
   ]
  },
  {
   "cell_type": "markdown",
   "id": "699d8c03",
   "metadata": {},
   "source": [
    "**Par volume :**"
   ]
  },
  {
   "cell_type": "code",
   "execution_count": 39,
   "id": "0e22028f",
   "metadata": {},
   "outputs": [
    {
     "data": {
      "text/html": [
       "<div>\n",
       "<style scoped>\n",
       "    .dataframe tbody tr th:only-of-type {\n",
       "        vertical-align: middle;\n",
       "    }\n",
       "\n",
       "    .dataframe tbody tr th {\n",
       "        vertical-align: top;\n",
       "    }\n",
       "\n",
       "    .dataframe thead th {\n",
       "        text-align: right;\n",
       "    }\n",
       "</style>\n",
       "<table border=\"1\" class=\"dataframe\">\n",
       "  <thead>\n",
       "    <tr style=\"text-align: right;\">\n",
       "      <th></th>\n",
       "      <th>product_id</th>\n",
       "      <th>sku</th>\n",
       "      <th>post_title</th>\n",
       "      <th>stock_status</th>\n",
       "      <th>onsale_web</th>\n",
       "      <th>stock_quantity</th>\n",
       "      <th>price</th>\n",
       "      <th>total_sales</th>\n",
       "      <th>revenue</th>\n",
       "    </tr>\n",
       "  </thead>\n",
       "  <tbody>\n",
       "    <tr>\n",
       "      <th>203</th>\n",
       "      <td>4334</td>\n",
       "      <td>7818</td>\n",
       "      <td>Champagne Gosset Grand Blanc de Blancs</td>\n",
       "      <td>outofstock</td>\n",
       "      <td>1</td>\n",
       "      <td>0</td>\n",
       "      <td>49.00</td>\n",
       "      <td>96.00</td>\n",
       "      <td>4,704.00</td>\n",
       "    </tr>\n",
       "    <tr>\n",
       "      <th>74</th>\n",
       "      <td>4144</td>\n",
       "      <td>1662</td>\n",
       "      <td>Champagne Gosset Grand Rosé</td>\n",
       "      <td>instock</td>\n",
       "      <td>1</td>\n",
       "      <td>11</td>\n",
       "      <td>49.00</td>\n",
       "      <td>87.00</td>\n",
       "      <td>4,263.00</td>\n",
       "    </tr>\n",
       "    <tr>\n",
       "      <th>31</th>\n",
       "      <td>4068</td>\n",
       "      <td>16416</td>\n",
       "      <td>Gilles Robin Crozes-Hermitage Rouge Papillon 2019</td>\n",
       "      <td>instock</td>\n",
       "      <td>1</td>\n",
       "      <td>157</td>\n",
       "      <td>16.60</td>\n",
       "      <td>62.00</td>\n",
       "      <td>1,029.20</td>\n",
       "    </tr>\n",
       "    <tr>\n",
       "      <th>123</th>\n",
       "      <td>4200</td>\n",
       "      <td>16295</td>\n",
       "      <td>Moulin de Gassac IGP Pays d'Hérault Guilhem Ro...</td>\n",
       "      <td>instock</td>\n",
       "      <td>1</td>\n",
       "      <td>190</td>\n",
       "      <td>5.80</td>\n",
       "      <td>46.00</td>\n",
       "      <td>266.80</td>\n",
       "    </tr>\n",
       "    <tr>\n",
       "      <th>100</th>\n",
       "      <td>4172</td>\n",
       "      <td>16210</td>\n",
       "      <td>Maurel Pays d'Oc Chardonnay 2019</td>\n",
       "      <td>instock</td>\n",
       "      <td>1</td>\n",
       "      <td>167</td>\n",
       "      <td>5.70</td>\n",
       "      <td>43.00</td>\n",
       "      <td>245.10</td>\n",
       "    </tr>\n",
       "    <tr>\n",
       "      <th>112</th>\n",
       "      <td>4187</td>\n",
       "      <td>16189</td>\n",
       "      <td>Le Pas de l'Escalette Languedoc Les Petits Pas...</td>\n",
       "      <td>instock</td>\n",
       "      <td>1</td>\n",
       "      <td>90</td>\n",
       "      <td>13.30</td>\n",
       "      <td>42.00</td>\n",
       "      <td>558.60</td>\n",
       "    </tr>\n",
       "    <tr>\n",
       "      <th>706</th>\n",
       "      <td>6206</td>\n",
       "      <td>16580</td>\n",
       "      <td>Domaine Giudicelli Patrimonio Blanc 2019</td>\n",
       "      <td>instock</td>\n",
       "      <td>1</td>\n",
       "      <td>120</td>\n",
       "      <td>25.20</td>\n",
       "      <td>41.00</td>\n",
       "      <td>1,033.20</td>\n",
       "    </tr>\n",
       "    <tr>\n",
       "      <th>72</th>\n",
       "      <td>4141</td>\n",
       "      <td>304</td>\n",
       "      <td>Champagne Gosset Grande Réserve</td>\n",
       "      <td>instock</td>\n",
       "      <td>1</td>\n",
       "      <td>1</td>\n",
       "      <td>39.00</td>\n",
       "      <td>40.00</td>\n",
       "      <td>1,560.00</td>\n",
       "    </tr>\n",
       "    <tr>\n",
       "      <th>678</th>\n",
       "      <td>6047</td>\n",
       "      <td>16264</td>\n",
       "      <td>Château de La Liquière Faugères L'Ampoule 2019</td>\n",
       "      <td>instock</td>\n",
       "      <td>1</td>\n",
       "      <td>46</td>\n",
       "      <td>10.90</td>\n",
       "      <td>38.00</td>\n",
       "      <td>414.20</td>\n",
       "    </tr>\n",
       "    <tr>\n",
       "      <th>347</th>\n",
       "      <td>4729</td>\n",
       "      <td>38</td>\n",
       "      <td>Emile Boeckel Crémant Brut Blanc de Blancs</td>\n",
       "      <td>instock</td>\n",
       "      <td>1</td>\n",
       "      <td>151</td>\n",
       "      <td>8.60</td>\n",
       "      <td>38.00</td>\n",
       "      <td>326.80</td>\n",
       "    </tr>\n",
       "  </tbody>\n",
       "</table>\n",
       "</div>"
      ],
      "text/plain": [
       "     product_id    sku                                         post_title  \\\n",
       "203        4334   7818             Champagne Gosset Grand Blanc de Blancs   \n",
       "74         4144   1662                        Champagne Gosset Grand Rosé   \n",
       "31         4068  16416  Gilles Robin Crozes-Hermitage Rouge Papillon 2019   \n",
       "123        4200  16295  Moulin de Gassac IGP Pays d'Hérault Guilhem Ro...   \n",
       "100        4172  16210                   Maurel Pays d'Oc Chardonnay 2019   \n",
       "112        4187  16189  Le Pas de l'Escalette Languedoc Les Petits Pas...   \n",
       "706        6206  16580           Domaine Giudicelli Patrimonio Blanc 2019   \n",
       "72         4141    304                    Champagne Gosset Grande Réserve   \n",
       "678        6047  16264     Château de La Liquière Faugères L'Ampoule 2019   \n",
       "347        4729     38         Emile Boeckel Crémant Brut Blanc de Blancs   \n",
       "\n",
       "    stock_status  onsale_web  stock_quantity  price  total_sales  revenue  \n",
       "203   outofstock           1               0  49.00        96.00 4,704.00  \n",
       "74       instock           1              11  49.00        87.00 4,263.00  \n",
       "31       instock           1             157  16.60        62.00 1,029.20  \n",
       "123      instock           1             190   5.80        46.00   266.80  \n",
       "100      instock           1             167   5.70        43.00   245.10  \n",
       "112      instock           1              90  13.30        42.00   558.60  \n",
       "706      instock           1             120  25.20        41.00 1,033.20  \n",
       "72       instock           1               1  39.00        40.00 1,560.00  \n",
       "678      instock           1              46  10.90        38.00   414.20  \n",
       "347      instock           1             151   8.60        38.00   326.80  "
      ]
     },
     "execution_count": 39,
     "metadata": {},
     "output_type": "execute_result"
    }
   ],
   "source": [
    "df_main.sort_values(['total_sales'], ascending=False).head(10)"
   ]
  },
  {
   "cell_type": "markdown",
   "id": "ccfadd8b",
   "metadata": {},
   "source": [
    "> Les produits qui se vendent le plus sont des champagnes et des vins."
   ]
  },
  {
   "cell_type": "markdown",
   "id": "4510fcb9",
   "metadata": {},
   "source": [
    "> Les stocks sont toutefois limités pour des produits qui se vendent bien. Il faudrait faire un restockage pour assurer les futures ventes. "
   ]
  },
  {
   "cell_type": "markdown",
   "id": "72000e2e",
   "metadata": {},
   "source": [
    "#### Produits les moins vendus"
   ]
  },
  {
   "cell_type": "markdown",
   "id": "dce8d987",
   "metadata": {},
   "source": [
    "**Par revenue :**"
   ]
  },
  {
   "cell_type": "code",
   "execution_count": 40,
   "id": "bd9cf1a4",
   "metadata": {},
   "outputs": [
    {
     "data": {
      "text/html": [
       "<div>\n",
       "<style scoped>\n",
       "    .dataframe tbody tr th:only-of-type {\n",
       "        vertical-align: middle;\n",
       "    }\n",
       "\n",
       "    .dataframe tbody tr th {\n",
       "        vertical-align: top;\n",
       "    }\n",
       "\n",
       "    .dataframe thead th {\n",
       "        text-align: right;\n",
       "    }\n",
       "</style>\n",
       "<table border=\"1\" class=\"dataframe\">\n",
       "  <thead>\n",
       "    <tr style=\"text-align: right;\">\n",
       "      <th></th>\n",
       "      <th>product_id</th>\n",
       "      <th>sku</th>\n",
       "      <th>post_title</th>\n",
       "      <th>stock_status</th>\n",
       "      <th>onsale_web</th>\n",
       "      <th>stock_quantity</th>\n",
       "      <th>price</th>\n",
       "      <th>total_sales</th>\n",
       "      <th>revenue</th>\n",
       "    </tr>\n",
       "  </thead>\n",
       "  <tbody>\n",
       "    <tr>\n",
       "      <th>386</th>\n",
       "      <td>4858</td>\n",
       "      <td>16342</td>\n",
       "      <td>Château Turcaud Bordeaux Rosé 2019</td>\n",
       "      <td>instock</td>\n",
       "      <td>1</td>\n",
       "      <td>257</td>\n",
       "      <td>6.50</td>\n",
       "      <td>1.00</td>\n",
       "      <td>6.50</td>\n",
       "    </tr>\n",
       "    <tr>\n",
       "      <th>479</th>\n",
       "      <td>5056</td>\n",
       "      <td>13531</td>\n",
       "      <td>Domaine de Montgilet Anjou Rouge 2016</td>\n",
       "      <td>instock</td>\n",
       "      <td>1</td>\n",
       "      <td>9</td>\n",
       "      <td>7.50</td>\n",
       "      <td>1.00</td>\n",
       "      <td>7.50</td>\n",
       "    </tr>\n",
       "    <tr>\n",
       "      <th>99</th>\n",
       "      <td>4171</td>\n",
       "      <td>14332</td>\n",
       "      <td>Le Hameau Des Ollieux Monsieur Pinot 2017</td>\n",
       "      <td>instock</td>\n",
       "      <td>1</td>\n",
       "      <td>65</td>\n",
       "      <td>7.80</td>\n",
       "      <td>1.00</td>\n",
       "      <td>7.80</td>\n",
       "    </tr>\n",
       "    <tr>\n",
       "      <th>155</th>\n",
       "      <td>4241</td>\n",
       "      <td>14725</td>\n",
       "      <td>Parcé Frères IGP Côtes Catalanes Hommage à Fer...</td>\n",
       "      <td>instock</td>\n",
       "      <td>1</td>\n",
       "      <td>7</td>\n",
       "      <td>8.90</td>\n",
       "      <td>1.00</td>\n",
       "      <td>8.90</td>\n",
       "    </tr>\n",
       "    <tr>\n",
       "      <th>158</th>\n",
       "      <td>4245</td>\n",
       "      <td>16097</td>\n",
       "      <td>Parcé Frères IGP Pays d'Oc Zoé Viognier 2019</td>\n",
       "      <td>instock</td>\n",
       "      <td>1</td>\n",
       "      <td>141</td>\n",
       "      <td>8.90</td>\n",
       "      <td>1.00</td>\n",
       "      <td>8.90</td>\n",
       "    </tr>\n",
       "    <tr>\n",
       "      <th>312</th>\n",
       "      <td>4683</td>\n",
       "      <td>16239</td>\n",
       "      <td>Château Plaisance Fronton Rosé 2019</td>\n",
       "      <td>instock</td>\n",
       "      <td>1</td>\n",
       "      <td>42</td>\n",
       "      <td>9.10</td>\n",
       "      <td>1.00</td>\n",
       "      <td>9.10</td>\n",
       "    </tr>\n",
       "    <tr>\n",
       "      <th>179</th>\n",
       "      <td>4272</td>\n",
       "      <td>13089</td>\n",
       "      <td>Domaine Sérol Côte Roannaise Rosé Cabochard 2016</td>\n",
       "      <td>instock</td>\n",
       "      <td>1</td>\n",
       "      <td>25</td>\n",
       "      <td>9.20</td>\n",
       "      <td>1.00</td>\n",
       "      <td>9.20</td>\n",
       "    </tr>\n",
       "    <tr>\n",
       "      <th>681</th>\n",
       "      <td>6070</td>\n",
       "      <td>16133</td>\n",
       "      <td>Borie La Vitarèle Pays d'Hérault Les Cigales 2019</td>\n",
       "      <td>instock</td>\n",
       "      <td>1</td>\n",
       "      <td>124</td>\n",
       "      <td>9.30</td>\n",
       "      <td>1.00</td>\n",
       "      <td>9.30</td>\n",
       "    </tr>\n",
       "    <tr>\n",
       "      <th>306</th>\n",
       "      <td>4677</td>\n",
       "      <td>15282</td>\n",
       "      <td>Domaine Rotier Gaillac Rouge Les Gravels 2016</td>\n",
       "      <td>instock</td>\n",
       "      <td>1</td>\n",
       "      <td>161</td>\n",
       "      <td>9.50</td>\n",
       "      <td>1.00</td>\n",
       "      <td>9.50</td>\n",
       "    </tr>\n",
       "    <tr>\n",
       "      <th>169</th>\n",
       "      <td>4261</td>\n",
       "      <td>15662</td>\n",
       "      <td>Chermette Domaine du Vissoux Beaujolais Griott...</td>\n",
       "      <td>instock</td>\n",
       "      <td>1</td>\n",
       "      <td>89</td>\n",
       "      <td>9.90</td>\n",
       "      <td>1.00</td>\n",
       "      <td>9.90</td>\n",
       "    </tr>\n",
       "  </tbody>\n",
       "</table>\n",
       "</div>"
      ],
      "text/plain": [
       "     product_id    sku                                         post_title  \\\n",
       "386        4858  16342                 Château Turcaud Bordeaux Rosé 2019   \n",
       "479        5056  13531              Domaine de Montgilet Anjou Rouge 2016   \n",
       "99         4171  14332          Le Hameau Des Ollieux Monsieur Pinot 2017   \n",
       "155        4241  14725  Parcé Frères IGP Côtes Catalanes Hommage à Fer...   \n",
       "158        4245  16097       Parcé Frères IGP Pays d'Oc Zoé Viognier 2019   \n",
       "312        4683  16239                Château Plaisance Fronton Rosé 2019   \n",
       "179        4272  13089   Domaine Sérol Côte Roannaise Rosé Cabochard 2016   \n",
       "681        6070  16133  Borie La Vitarèle Pays d'Hérault Les Cigales 2019   \n",
       "306        4677  15282      Domaine Rotier Gaillac Rouge Les Gravels 2016   \n",
       "169        4261  15662  Chermette Domaine du Vissoux Beaujolais Griott...   \n",
       "\n",
       "    stock_status  onsale_web  stock_quantity  price  total_sales  revenue  \n",
       "386      instock           1             257   6.50         1.00     6.50  \n",
       "479      instock           1               9   7.50         1.00     7.50  \n",
       "99       instock           1              65   7.80         1.00     7.80  \n",
       "155      instock           1               7   8.90         1.00     8.90  \n",
       "158      instock           1             141   8.90         1.00     8.90  \n",
       "312      instock           1              42   9.10         1.00     9.10  \n",
       "179      instock           1              25   9.20         1.00     9.20  \n",
       "681      instock           1             124   9.30         1.00     9.30  \n",
       "306      instock           1             161   9.50         1.00     9.50  \n",
       "169      instock           1              89   9.90         1.00     9.90  "
      ]
     },
     "execution_count": 40,
     "metadata": {},
     "output_type": "execute_result"
    }
   ],
   "source": [
    "df_less_sold = df_main[df_main['total_sales'] > 0]\n",
    "df_less_sold.sort_values(['revenue']).head(10)"
   ]
  },
  {
   "cell_type": "markdown",
   "id": "35269331",
   "metadata": {},
   "source": [
    "**Par volume :**"
   ]
  },
  {
   "cell_type": "code",
   "execution_count": 41,
   "id": "b7c9306b",
   "metadata": {},
   "outputs": [
    {
     "data": {
      "text/html": [
       "<div>\n",
       "<style scoped>\n",
       "    .dataframe tbody tr th:only-of-type {\n",
       "        vertical-align: middle;\n",
       "    }\n",
       "\n",
       "    .dataframe tbody tr th {\n",
       "        vertical-align: top;\n",
       "    }\n",
       "\n",
       "    .dataframe thead th {\n",
       "        text-align: right;\n",
       "    }\n",
       "</style>\n",
       "<table border=\"1\" class=\"dataframe\">\n",
       "  <thead>\n",
       "    <tr style=\"text-align: right;\">\n",
       "      <th></th>\n",
       "      <th>product_id</th>\n",
       "      <th>sku</th>\n",
       "      <th>post_title</th>\n",
       "      <th>stock_status</th>\n",
       "      <th>onsale_web</th>\n",
       "      <th>stock_quantity</th>\n",
       "      <th>price</th>\n",
       "      <th>total_sales</th>\n",
       "      <th>revenue</th>\n",
       "    </tr>\n",
       "  </thead>\n",
       "  <tbody>\n",
       "    <tr>\n",
       "      <th>255</th>\n",
       "      <td>4609</td>\n",
       "      <td>15145</td>\n",
       "      <td>François Bergeret Hautes Côtes de Beaune Rouge...</td>\n",
       "      <td>instock</td>\n",
       "      <td>1</td>\n",
       "      <td>237</td>\n",
       "      <td>11.80</td>\n",
       "      <td>0.00</td>\n",
       "      <td>0.00</td>\n",
       "    </tr>\n",
       "    <tr>\n",
       "      <th>358</th>\n",
       "      <td>4749</td>\n",
       "      <td>15315</td>\n",
       "      <td>Domaine de Montgilet Anjou Blanc 2016</td>\n",
       "      <td>instock</td>\n",
       "      <td>1</td>\n",
       "      <td>140</td>\n",
       "      <td>11.90</td>\n",
       "      <td>0.00</td>\n",
       "      <td>0.00</td>\n",
       "    </tr>\n",
       "    <tr>\n",
       "      <th>200</th>\n",
       "      <td>4304</td>\n",
       "      <td>15120</td>\n",
       "      <td>Domaine de l'Idylle Savoie Cruet 2018</td>\n",
       "      <td>instock</td>\n",
       "      <td>1</td>\n",
       "      <td>133</td>\n",
       "      <td>8.10</td>\n",
       "      <td>0.00</td>\n",
       "      <td>0.00</td>\n",
       "    </tr>\n",
       "    <tr>\n",
       "      <th>605</th>\n",
       "      <td>5777</td>\n",
       "      <td>14338</td>\n",
       "      <td>Maurel Pays d'Oc Cabernet-Sauvignon 2017</td>\n",
       "      <td>instock</td>\n",
       "      <td>1</td>\n",
       "      <td>132</td>\n",
       "      <td>5.70</td>\n",
       "      <td>0.00</td>\n",
       "      <td>0.00</td>\n",
       "    </tr>\n",
       "    <tr>\n",
       "      <th>611</th>\n",
       "      <td>5797</td>\n",
       "      <td>15688</td>\n",
       "      <td>Château Saransot-Dupré Listrac-Médoc 2016</td>\n",
       "      <td>instock</td>\n",
       "      <td>1</td>\n",
       "      <td>123</td>\n",
       "      <td>17.20</td>\n",
       "      <td>0.00</td>\n",
       "      <td>0.00</td>\n",
       "    </tr>\n",
       "    <tr>\n",
       "      <th>256</th>\n",
       "      <td>4610</td>\n",
       "      <td>15801</td>\n",
       "      <td>François Bergeret Hautes Côtes de Beaune Blanc...</td>\n",
       "      <td>instock</td>\n",
       "      <td>1</td>\n",
       "      <td>114</td>\n",
       "      <td>13.10</td>\n",
       "      <td>0.00</td>\n",
       "      <td>0.00</td>\n",
       "    </tr>\n",
       "    <tr>\n",
       "      <th>705</th>\n",
       "      <td>6205</td>\n",
       "      <td>16565</td>\n",
       "      <td>Domaine Giudicelli Vin de France Corail Rouge ...</td>\n",
       "      <td>instock</td>\n",
       "      <td>1</td>\n",
       "      <td>109</td>\n",
       "      <td>20.20</td>\n",
       "      <td>0.00</td>\n",
       "      <td>0.00</td>\n",
       "    </tr>\n",
       "    <tr>\n",
       "      <th>104</th>\n",
       "      <td>4177</td>\n",
       "      <td>15583</td>\n",
       "      <td>Domaine de l'Hortus Val de Montferrand La Berg...</td>\n",
       "      <td>instock</td>\n",
       "      <td>1</td>\n",
       "      <td>109</td>\n",
       "      <td>13.50</td>\n",
       "      <td>0.00</td>\n",
       "      <td>0.00</td>\n",
       "    </tr>\n",
       "    <tr>\n",
       "      <th>122</th>\n",
       "      <td>4198</td>\n",
       "      <td>16322</td>\n",
       "      <td>Moulin de Gassac IGP Pays d'Hérault Guilhem Ro...</td>\n",
       "      <td>instock</td>\n",
       "      <td>1</td>\n",
       "      <td>105</td>\n",
       "      <td>5.80</td>\n",
       "      <td>0.00</td>\n",
       "      <td>0.00</td>\n",
       "    </tr>\n",
       "    <tr>\n",
       "      <th>362</th>\n",
       "      <td>4755</td>\n",
       "      <td>16132</td>\n",
       "      <td>Domaine de Montgilet Vin de France Grolleau 2019</td>\n",
       "      <td>instock</td>\n",
       "      <td>1</td>\n",
       "      <td>97</td>\n",
       "      <td>7.40</td>\n",
       "      <td>0.00</td>\n",
       "      <td>0.00</td>\n",
       "    </tr>\n",
       "  </tbody>\n",
       "</table>\n",
       "</div>"
      ],
      "text/plain": [
       "     product_id    sku                                         post_title  \\\n",
       "255        4609  15145  François Bergeret Hautes Côtes de Beaune Rouge...   \n",
       "358        4749  15315              Domaine de Montgilet Anjou Blanc 2016   \n",
       "200        4304  15120              Domaine de l'Idylle Savoie Cruet 2018   \n",
       "605        5777  14338           Maurel Pays d'Oc Cabernet-Sauvignon 2017   \n",
       "611        5797  15688          Château Saransot-Dupré Listrac-Médoc 2016   \n",
       "256        4610  15801  François Bergeret Hautes Côtes de Beaune Blanc...   \n",
       "705        6205  16565  Domaine Giudicelli Vin de France Corail Rouge ...   \n",
       "104        4177  15583  Domaine de l'Hortus Val de Montferrand La Berg...   \n",
       "122        4198  16322  Moulin de Gassac IGP Pays d'Hérault Guilhem Ro...   \n",
       "362        4755  16132   Domaine de Montgilet Vin de France Grolleau 2019   \n",
       "\n",
       "    stock_status  onsale_web  stock_quantity  price  total_sales  revenue  \n",
       "255      instock           1             237  11.80         0.00     0.00  \n",
       "358      instock           1             140  11.90         0.00     0.00  \n",
       "200      instock           1             133   8.10         0.00     0.00  \n",
       "605      instock           1             132   5.70         0.00     0.00  \n",
       "611      instock           1             123  17.20         0.00     0.00  \n",
       "256      instock           1             114  13.10         0.00     0.00  \n",
       "705      instock           1             109  20.20         0.00     0.00  \n",
       "104      instock           1             109  13.50         0.00     0.00  \n",
       "122      instock           1             105   5.80         0.00     0.00  \n",
       "362      instock           1              97   7.40         0.00     0.00  "
      ]
     },
     "execution_count": 41,
     "metadata": {},
     "output_type": "execute_result"
    }
   ],
   "source": [
    "df_less_sold = df_main[df_main['total_sales'] == 0]\n",
    "df_less_sold.sort_values(['stock_quantity'], ascending=False).head(10)"
   ]
  },
  {
   "cell_type": "markdown",
   "id": "ce9f1b2e",
   "metadata": {},
   "source": [
    "> Parmis les moins vendus, les stocks sont importants. Il serait interressant de une opération marketing de destockage."
   ]
  },
  {
   "cell_type": "markdown",
   "id": "1fe849ea",
   "metadata": {},
   "source": [
    "### Chiffre d'affaire globale"
   ]
  },
  {
   "cell_type": "code",
   "execution_count": 42,
   "id": "82b4fcda",
   "metadata": {},
   "outputs": [
    {
     "data": {
      "text/plain": [
       "70568.6"
      ]
     },
     "execution_count": 42,
     "metadata": {},
     "output_type": "execute_result"
    }
   ],
   "source": [
    "df_main['revenue'].sum()"
   ]
  },
  {
   "cell_type": "markdown",
   "id": "d820baf7",
   "metadata": {},
   "source": [
    "> Le chiffre d'affaire globale est de 70 568.60 euros."
   ]
  },
  {
   "cell_type": "markdown",
   "id": "e2527c31",
   "metadata": {},
   "source": [
    "### Analyses complémentaires et recommandations"
   ]
  },
  {
   "cell_type": "markdown",
   "id": "484fa13e",
   "metadata": {},
   "source": [
    "#### Produits en stock et indisponible à la vente"
   ]
  },
  {
   "cell_type": "code",
   "execution_count": 43,
   "id": "873782c1",
   "metadata": {},
   "outputs": [
    {
     "data": {
      "text/html": [
       "<div>\n",
       "<style scoped>\n",
       "    .dataframe tbody tr th:only-of-type {\n",
       "        vertical-align: middle;\n",
       "    }\n",
       "\n",
       "    .dataframe tbody tr th {\n",
       "        vertical-align: top;\n",
       "    }\n",
       "\n",
       "    .dataframe thead th {\n",
       "        text-align: right;\n",
       "    }\n",
       "</style>\n",
       "<table border=\"1\" class=\"dataframe\">\n",
       "  <thead>\n",
       "    <tr style=\"text-align: right;\">\n",
       "      <th></th>\n",
       "      <th>product_id</th>\n",
       "      <th>sku</th>\n",
       "      <th>post_title</th>\n",
       "      <th>stock_status</th>\n",
       "      <th>onsale_web</th>\n",
       "      <th>stock_quantity</th>\n",
       "      <th>price</th>\n",
       "      <th>total_sales</th>\n",
       "      <th>revenue</th>\n",
       "    </tr>\n",
       "  </thead>\n",
       "  <tbody>\n",
       "    <tr>\n",
       "      <th>739</th>\n",
       "      <td>6594</td>\n",
       "      <td>NaN</td>\n",
       "      <td>NaN</td>\n",
       "      <td>instock</td>\n",
       "      <td>0</td>\n",
       "      <td>192</td>\n",
       "      <td>9.10</td>\n",
       "      <td>NaN</td>\n",
       "      <td>NaN</td>\n",
       "    </tr>\n",
       "    <tr>\n",
       "      <th>798</th>\n",
       "      <td>7087</td>\n",
       "      <td>NaN</td>\n",
       "      <td>NaN</td>\n",
       "      <td>instock</td>\n",
       "      <td>0</td>\n",
       "      <td>91</td>\n",
       "      <td>30.00</td>\n",
       "      <td>NaN</td>\n",
       "      <td>NaN</td>\n",
       "    </tr>\n",
       "    <tr>\n",
       "      <th>541</th>\n",
       "      <td>5560</td>\n",
       "      <td>NaN</td>\n",
       "      <td>NaN</td>\n",
       "      <td>instock</td>\n",
       "      <td>0</td>\n",
       "      <td>62</td>\n",
       "      <td>47.00</td>\n",
       "      <td>NaN</td>\n",
       "      <td>NaN</td>\n",
       "    </tr>\n",
       "    <tr>\n",
       "      <th>817</th>\n",
       "      <td>7196</td>\n",
       "      <td>NaN</td>\n",
       "      <td>NaN</td>\n",
       "      <td>instock</td>\n",
       "      <td>0</td>\n",
       "      <td>55</td>\n",
       "      <td>31.00</td>\n",
       "      <td>NaN</td>\n",
       "      <td>NaN</td>\n",
       "    </tr>\n",
       "    <tr>\n",
       "      <th>777</th>\n",
       "      <td>6903</td>\n",
       "      <td>NaN</td>\n",
       "      <td>NaN</td>\n",
       "      <td>instock</td>\n",
       "      <td>0</td>\n",
       "      <td>54</td>\n",
       "      <td>27.00</td>\n",
       "      <td>NaN</td>\n",
       "      <td>NaN</td>\n",
       "    </tr>\n",
       "    <tr>\n",
       "      <th>799</th>\n",
       "      <td>7088</td>\n",
       "      <td>NaN</td>\n",
       "      <td>NaN</td>\n",
       "      <td>instock</td>\n",
       "      <td>0</td>\n",
       "      <td>53</td>\n",
       "      <td>20.00</td>\n",
       "      <td>NaN</td>\n",
       "      <td>NaN</td>\n",
       "    </tr>\n",
       "    <tr>\n",
       "      <th>772</th>\n",
       "      <td>6898</td>\n",
       "      <td>NaN</td>\n",
       "      <td>NaN</td>\n",
       "      <td>instock</td>\n",
       "      <td>0</td>\n",
       "      <td>51</td>\n",
       "      <td>30.00</td>\n",
       "      <td>NaN</td>\n",
       "      <td>NaN</td>\n",
       "    </tr>\n",
       "    <tr>\n",
       "      <th>809</th>\n",
       "      <td>7164</td>\n",
       "      <td>NaN</td>\n",
       "      <td>NaN</td>\n",
       "      <td>instock</td>\n",
       "      <td>0</td>\n",
       "      <td>51</td>\n",
       "      <td>31.00</td>\n",
       "      <td>NaN</td>\n",
       "      <td>NaN</td>\n",
       "    </tr>\n",
       "    <tr>\n",
       "      <th>318</th>\n",
       "      <td>4692</td>\n",
       "      <td>NaN</td>\n",
       "      <td>NaN</td>\n",
       "      <td>instock</td>\n",
       "      <td>0</td>\n",
       "      <td>48</td>\n",
       "      <td>12.00</td>\n",
       "      <td>NaN</td>\n",
       "      <td>NaN</td>\n",
       "    </tr>\n",
       "    <tr>\n",
       "      <th>812</th>\n",
       "      <td>7170</td>\n",
       "      <td>NaN</td>\n",
       "      <td>NaN</td>\n",
       "      <td>instock</td>\n",
       "      <td>0</td>\n",
       "      <td>43</td>\n",
       "      <td>45.00</td>\n",
       "      <td>NaN</td>\n",
       "      <td>NaN</td>\n",
       "    </tr>\n",
       "  </tbody>\n",
       "</table>\n",
       "</div>"
      ],
      "text/plain": [
       "     product_id  sku post_title stock_status  onsale_web  stock_quantity  \\\n",
       "739        6594  NaN        NaN      instock           0             192   \n",
       "798        7087  NaN        NaN      instock           0              91   \n",
       "541        5560  NaN        NaN      instock           0              62   \n",
       "817        7196  NaN        NaN      instock           0              55   \n",
       "777        6903  NaN        NaN      instock           0              54   \n",
       "799        7088  NaN        NaN      instock           0              53   \n",
       "772        6898  NaN        NaN      instock           0              51   \n",
       "809        7164  NaN        NaN      instock           0              51   \n",
       "318        4692  NaN        NaN      instock           0              48   \n",
       "812        7170  NaN        NaN      instock           0              43   \n",
       "\n",
       "     price  total_sales  revenue  \n",
       "739   9.10          NaN      NaN  \n",
       "798  30.00          NaN      NaN  \n",
       "541  47.00          NaN      NaN  \n",
       "817  31.00          NaN      NaN  \n",
       "777  27.00          NaN      NaN  \n",
       "799  20.00          NaN      NaN  \n",
       "772  30.00          NaN      NaN  \n",
       "809  31.00          NaN      NaN  \n",
       "318  12.00          NaN      NaN  \n",
       "812  45.00          NaN      NaN  "
      ]
     },
     "execution_count": 43,
     "metadata": {},
     "output_type": "execute_result"
    }
   ],
   "source": [
    "df_no_sold = df_main[(df_main['stock_status'] == 'instock') & (df_main['onsale_web'] == 0)]\n",
    "df_no_sold.sort_values(['stock_quantity'], ascending=False).head(10)"
   ]
  },
  {
   "cell_type": "code",
   "execution_count": 44,
   "id": "8ad4f0da",
   "metadata": {},
   "outputs": [
    {
     "name": "stdout",
     "output_type": "stream",
     "text": [
      "<class 'pandas.core.frame.DataFrame'>\n",
      "Int64Index: 64 entries, 234 to 823\n",
      "Data columns (total 9 columns):\n",
      " #   Column          Non-Null Count  Dtype  \n",
      "---  ------          --------------  -----  \n",
      " 0   product_id      64 non-null     int64  \n",
      " 1   sku             2 non-null      object \n",
      " 2   post_title      0 non-null      object \n",
      " 3   stock_status    64 non-null     object \n",
      " 4   onsale_web      64 non-null     int64  \n",
      " 5   stock_quantity  64 non-null     int64  \n",
      " 6   price           64 non-null     float64\n",
      " 7   total_sales     0 non-null      float64\n",
      " 8   revenue         0 non-null      float64\n",
      "dtypes: float64(3), int64(3), object(3)\n",
      "memory usage: 5.0+ KB\n"
     ]
    }
   ],
   "source": [
    "df_no_sold.info()"
   ]
  },
  {
   "cell_type": "markdown",
   "id": "a74777dd",
   "metadata": {},
   "source": [
    "> Il y a 64 produits en stock qui ne sont pas disponibles à la vente.  \n",
    "Il faudrait les ajouter à la boutique pour pouvoir les vendre."
   ]
  },
  {
   "cell_type": "markdown",
   "id": "05906290",
   "metadata": {},
   "source": [
    "#### Produits épuisés et vendus"
   ]
  },
  {
   "cell_type": "code",
   "execution_count": 45,
   "id": "6203e82b",
   "metadata": {},
   "outputs": [
    {
     "data": {
      "text/html": [
       "<div>\n",
       "<style scoped>\n",
       "    .dataframe tbody tr th:only-of-type {\n",
       "        vertical-align: middle;\n",
       "    }\n",
       "\n",
       "    .dataframe tbody tr th {\n",
       "        vertical-align: top;\n",
       "    }\n",
       "\n",
       "    .dataframe thead th {\n",
       "        text-align: right;\n",
       "    }\n",
       "</style>\n",
       "<table border=\"1\" class=\"dataframe\">\n",
       "  <thead>\n",
       "    <tr style=\"text-align: right;\">\n",
       "      <th></th>\n",
       "      <th>product_id</th>\n",
       "      <th>sku</th>\n",
       "      <th>post_title</th>\n",
       "      <th>stock_status</th>\n",
       "      <th>onsale_web</th>\n",
       "      <th>stock_quantity</th>\n",
       "      <th>price</th>\n",
       "      <th>total_sales</th>\n",
       "      <th>revenue</th>\n",
       "    </tr>\n",
       "  </thead>\n",
       "  <tbody>\n",
       "    <tr>\n",
       "      <th>203</th>\n",
       "      <td>4334</td>\n",
       "      <td>7818</td>\n",
       "      <td>Champagne Gosset Grand Blanc de Blancs</td>\n",
       "      <td>outofstock</td>\n",
       "      <td>1</td>\n",
       "      <td>0</td>\n",
       "      <td>49.00</td>\n",
       "      <td>96.00</td>\n",
       "      <td>4,704.00</td>\n",
       "    </tr>\n",
       "    <tr>\n",
       "      <th>403</th>\n",
       "      <td>4891</td>\n",
       "      <td>15807</td>\n",
       "      <td>Jacqueson Rully Blanc 1er Cru La Pucelle 2018</td>\n",
       "      <td>outofstock</td>\n",
       "      <td>1</td>\n",
       "      <td>0</td>\n",
       "      <td>27.90</td>\n",
       "      <td>36.00</td>\n",
       "      <td>1,004.40</td>\n",
       "    </tr>\n",
       "    <tr>\n",
       "      <th>82</th>\n",
       "      <td>4153</td>\n",
       "      <td>16237</td>\n",
       "      <td>Elian Daros Côtes du Marmandais Clos Baquey 2015</td>\n",
       "      <td>outofstock</td>\n",
       "      <td>1</td>\n",
       "      <td>0</td>\n",
       "      <td>29.00</td>\n",
       "      <td>36.00</td>\n",
       "      <td>1,044.00</td>\n",
       "    </tr>\n",
       "    <tr>\n",
       "      <th>395</th>\n",
       "      <td>4870</td>\n",
       "      <td>16149</td>\n",
       "      <td>Triennes IGP Méditerranée Rosé 2019</td>\n",
       "      <td>outofstock</td>\n",
       "      <td>1</td>\n",
       "      <td>0</td>\n",
       "      <td>9.30</td>\n",
       "      <td>33.00</td>\n",
       "      <td>306.90</td>\n",
       "    </tr>\n",
       "    <tr>\n",
       "      <th>421</th>\n",
       "      <td>4918</td>\n",
       "      <td>15533</td>\n",
       "      <td>Alain Graillot Crozes-Hermitage Rouge La Guira...</td>\n",
       "      <td>outofstock</td>\n",
       "      <td>1</td>\n",
       "      <td>0</td>\n",
       "      <td>37.20</td>\n",
       "      <td>24.00</td>\n",
       "      <td>892.80</td>\n",
       "    </tr>\n",
       "    <tr>\n",
       "      <th>243</th>\n",
       "      <td>4596</td>\n",
       "      <td>15476</td>\n",
       "      <td>Marc Colin Et Fils Chassagne-Montrachet Blanc ...</td>\n",
       "      <td>outofstock</td>\n",
       "      <td>1</td>\n",
       "      <td>0</td>\n",
       "      <td>43.90</td>\n",
       "      <td>23.00</td>\n",
       "      <td>1,009.70</td>\n",
       "    </tr>\n",
       "    <tr>\n",
       "      <th>677</th>\n",
       "      <td>6042</td>\n",
       "      <td>16159</td>\n",
       "      <td>Domaine La Croix Belle Côtes de Thongue Rosé L...</td>\n",
       "      <td>outofstock</td>\n",
       "      <td>1</td>\n",
       "      <td>0</td>\n",
       "      <td>8.50</td>\n",
       "      <td>18.00</td>\n",
       "      <td>153.00</td>\n",
       "    </tr>\n",
       "    <tr>\n",
       "      <th>503</th>\n",
       "      <td>5439</td>\n",
       "      <td>15649</td>\n",
       "      <td>La Préceptorie Maury Sec Rouge Copain Comme Co...</td>\n",
       "      <td>outofstock</td>\n",
       "      <td>1</td>\n",
       "      <td>0</td>\n",
       "      <td>13.20</td>\n",
       "      <td>18.00</td>\n",
       "      <td>237.60</td>\n",
       "    </tr>\n",
       "    <tr>\n",
       "      <th>653</th>\n",
       "      <td>5922</td>\n",
       "      <td>15343</td>\n",
       "      <td>Albert Mann Pinot Noir Clos de la Faille 2017</td>\n",
       "      <td>outofstock</td>\n",
       "      <td>1</td>\n",
       "      <td>0</td>\n",
       "      <td>48.50</td>\n",
       "      <td>17.00</td>\n",
       "      <td>824.50</td>\n",
       "    </tr>\n",
       "    <tr>\n",
       "      <th>483</th>\n",
       "      <td>5067</td>\n",
       "      <td>15346</td>\n",
       "      <td>Albert Mann Pinot Noir Grand H 2017</td>\n",
       "      <td>outofstock</td>\n",
       "      <td>1</td>\n",
       "      <td>0</td>\n",
       "      <td>59.90</td>\n",
       "      <td>16.00</td>\n",
       "      <td>958.40</td>\n",
       "    </tr>\n",
       "  </tbody>\n",
       "</table>\n",
       "</div>"
      ],
      "text/plain": [
       "     product_id    sku                                         post_title  \\\n",
       "203        4334   7818             Champagne Gosset Grand Blanc de Blancs   \n",
       "403        4891  15807      Jacqueson Rully Blanc 1er Cru La Pucelle 2018   \n",
       "82         4153  16237   Elian Daros Côtes du Marmandais Clos Baquey 2015   \n",
       "395        4870  16149                Triennes IGP Méditerranée Rosé 2019   \n",
       "421        4918  15533  Alain Graillot Crozes-Hermitage Rouge La Guira...   \n",
       "243        4596  15476  Marc Colin Et Fils Chassagne-Montrachet Blanc ...   \n",
       "677        6042  16159  Domaine La Croix Belle Côtes de Thongue Rosé L...   \n",
       "503        5439  15649  La Préceptorie Maury Sec Rouge Copain Comme Co...   \n",
       "653        5922  15343      Albert Mann Pinot Noir Clos de la Faille 2017   \n",
       "483        5067  15346                Albert Mann Pinot Noir Grand H 2017   \n",
       "\n",
       "    stock_status  onsale_web  stock_quantity  price  total_sales  revenue  \n",
       "203   outofstock           1               0  49.00        96.00 4,704.00  \n",
       "403   outofstock           1               0  27.90        36.00 1,004.40  \n",
       "82    outofstock           1               0  29.00        36.00 1,044.00  \n",
       "395   outofstock           1               0   9.30        33.00   306.90  \n",
       "421   outofstock           1               0  37.20        24.00   892.80  \n",
       "243   outofstock           1               0  43.90        23.00 1,009.70  \n",
       "677   outofstock           1               0   8.50        18.00   153.00  \n",
       "503   outofstock           1               0  13.20        18.00   237.60  \n",
       "653   outofstock           1               0  48.50        17.00   824.50  \n",
       "483   outofstock           1               0  59.90        16.00   958.40  "
      ]
     },
     "execution_count": 45,
     "metadata": {},
     "output_type": "execute_result"
    }
   ],
   "source": [
    "df_off = df_main[(df_main['stock_status'] == 'outofstock')]\n",
    "df_off.sort_values(['total_sales'], ascending=False).head(10)"
   ]
  },
  {
   "cell_type": "markdown",
   "id": "9d5b6417",
   "metadata": {},
   "source": [
    "> Il y a des produits en rupture de stock où la demande est forte. Il faudrait faire un restockage pour poouvoir les remettre en vente au plus vite. "
   ]
  },
  {
   "cell_type": "markdown",
   "id": "e7e72122",
   "metadata": {},
   "source": [
    "#### Intégrité des stocks"
   ]
  },
  {
   "cell_type": "markdown",
   "id": "a169aa7e",
   "metadata": {},
   "source": [
    "On vérifie l'indicateur stock_status."
   ]
  },
  {
   "cell_type": "code",
   "execution_count": 46,
   "id": "80ecbc24",
   "metadata": {},
   "outputs": [
    {
     "data": {
      "text/html": [
       "<div>\n",
       "<style scoped>\n",
       "    .dataframe tbody tr th:only-of-type {\n",
       "        vertical-align: middle;\n",
       "    }\n",
       "\n",
       "    .dataframe tbody tr th {\n",
       "        vertical-align: top;\n",
       "    }\n",
       "\n",
       "    .dataframe thead th {\n",
       "        text-align: right;\n",
       "    }\n",
       "</style>\n",
       "<table border=\"1\" class=\"dataframe\">\n",
       "  <thead>\n",
       "    <tr style=\"text-align: right;\">\n",
       "      <th></th>\n",
       "      <th>product_id</th>\n",
       "      <th>sku</th>\n",
       "      <th>post_title</th>\n",
       "      <th>stock_status</th>\n",
       "      <th>onsale_web</th>\n",
       "      <th>stock_quantity</th>\n",
       "      <th>price</th>\n",
       "      <th>total_sales</th>\n",
       "      <th>revenue</th>\n",
       "    </tr>\n",
       "  </thead>\n",
       "  <tbody>\n",
       "    <tr>\n",
       "      <th>443</th>\n",
       "      <td>4954</td>\n",
       "      <td>bon-cadeau-25-euros</td>\n",
       "      <td>Bon cadeau de 25€</td>\n",
       "      <td>instock</td>\n",
       "      <td>1</td>\n",
       "      <td>0</td>\n",
       "      <td>25.00</td>\n",
       "      <td>10.00</td>\n",
       "      <td>250.00</td>\n",
       "    </tr>\n",
       "  </tbody>\n",
       "</table>\n",
       "</div>"
      ],
      "text/plain": [
       "     product_id                  sku         post_title stock_status  \\\n",
       "443        4954  bon-cadeau-25-euros  Bon cadeau de 25€      instock   \n",
       "\n",
       "     onsale_web  stock_quantity  price  total_sales  revenue  \n",
       "443           1               0  25.00        10.00   250.00  "
      ]
     },
     "execution_count": 46,
     "metadata": {},
     "output_type": "execute_result"
    }
   ],
   "source": [
    "df_main[(df_main['stock_status'] == 'instock') & (df_main['stock_quantity'] == 0)]"
   ]
  },
  {
   "cell_type": "code",
   "execution_count": 47,
   "id": "0e2a858d",
   "metadata": {},
   "outputs": [
    {
     "data": {
      "text/html": [
       "<div>\n",
       "<style scoped>\n",
       "    .dataframe tbody tr th:only-of-type {\n",
       "        vertical-align: middle;\n",
       "    }\n",
       "\n",
       "    .dataframe tbody tr th {\n",
       "        vertical-align: top;\n",
       "    }\n",
       "\n",
       "    .dataframe thead th {\n",
       "        text-align: right;\n",
       "    }\n",
       "</style>\n",
       "<table border=\"1\" class=\"dataframe\">\n",
       "  <thead>\n",
       "    <tr style=\"text-align: right;\">\n",
       "      <th></th>\n",
       "      <th>product_id</th>\n",
       "      <th>sku</th>\n",
       "      <th>post_title</th>\n",
       "      <th>stock_status</th>\n",
       "      <th>onsale_web</th>\n",
       "      <th>stock_quantity</th>\n",
       "      <th>price</th>\n",
       "      <th>total_sales</th>\n",
       "      <th>revenue</th>\n",
       "    </tr>\n",
       "  </thead>\n",
       "  <tbody>\n",
       "  </tbody>\n",
       "</table>\n",
       "</div>"
      ],
      "text/plain": [
       "Empty DataFrame\n",
       "Columns: [product_id, sku, post_title, stock_status, onsale_web, stock_quantity, price, total_sales, revenue]\n",
       "Index: []"
      ]
     },
     "execution_count": 47,
     "metadata": {},
     "output_type": "execute_result"
    }
   ],
   "source": [
    "df_main[(df_main['stock_status'] == 'outofstock') & (df_main['stock_quantity'] > 0)]"
   ]
  },
  {
   "cell_type": "markdown",
   "id": "cbaa5536",
   "metadata": {},
   "source": [
    "> Les status de stock sont cohérents."
   ]
  },
  {
   "cell_type": "markdown",
   "id": "2070a656",
   "metadata": {},
   "source": [
    "---\n",
    "## Analyse univariée des prix"
   ]
  },
  {
   "cell_type": "markdown",
   "id": "b39a50a3",
   "metadata": {},
   "source": [
    "On effectue une analyse univariée sur les prix afin de déterminer si il y a des erreurs de saisie dans les prix des produits et donc des valeurs aberrantes."
   ]
  },
  {
   "cell_type": "markdown",
   "id": "b40e4ed4",
   "metadata": {},
   "source": [
    "### Mesures statistiques"
   ]
  },
  {
   "cell_type": "markdown",
   "id": "35727639",
   "metadata": {},
   "source": [
    "On récupère la pandas.series des prix :"
   ]
  },
  {
   "cell_type": "code",
   "execution_count": 48,
   "id": "845d39e9",
   "metadata": {},
   "outputs": [],
   "source": [
    "price_serie = df_main['price'].sort_values()"
   ]
  },
  {
   "cell_type": "markdown",
   "id": "ae731f5f",
   "metadata": {},
   "source": [
    "**Mesures de tendance centrale :**"
   ]
  },
  {
   "cell_type": "code",
   "execution_count": 49,
   "id": "16b15b1f",
   "metadata": {},
   "outputs": [],
   "source": [
    "price_mean = price_serie.mean()\n",
    "price_median = price_serie.median()"
   ]
  },
  {
   "cell_type": "code",
   "execution_count": 50,
   "id": "ea707397",
   "metadata": {},
   "outputs": [
    {
     "name": "stdout",
     "output_type": "stream",
     "text": [
      "\n",
      "Moyenne : 32.41563636363637\n",
      "Médiane : 24.4\n",
      "\n"
     ]
    }
   ],
   "source": [
    "print(f\"\"\"\n",
    "Moyenne : {price_mean}\n",
    "Médiane : {price_median}\n",
    "\"\"\")"
   ]
  },
  {
   "cell_type": "markdown",
   "id": "f5cd96a2",
   "metadata": {},
   "source": [
    "> La distribution est asymétrique."
   ]
  },
  {
   "cell_type": "markdown",
   "id": "2cc3c60b",
   "metadata": {},
   "source": [
    "**Mesures de dispersion des données :**"
   ]
  },
  {
   "cell_type": "code",
   "execution_count": 51,
   "id": "fff50aca",
   "metadata": {},
   "outputs": [],
   "source": [
    "price_var = price_serie.var()\n",
    "price_std = price_serie.std()"
   ]
  },
  {
   "cell_type": "code",
   "execution_count": 52,
   "id": "b2e842cf",
   "metadata": {},
   "outputs": [
    {
     "name": "stdout",
     "output_type": "stream",
     "text": [
      "\n",
      "Variance : 718.017534333628\n",
      "Ecart-type : 26.79584919971054\n",
      "\n"
     ]
    }
   ],
   "source": [
    "print(f\"\"\"\n",
    "Variance : {price_var}\n",
    "Ecart-type : {price_std}\n",
    "\"\"\")"
   ]
  },
  {
   "cell_type": "markdown",
   "id": "f984a1e9",
   "metadata": {},
   "source": [
    "> Les valeurs ne sont pas concentrés autour de la moyenne. La dispersion est importante."
   ]
  },
  {
   "cell_type": "markdown",
   "id": "8fdb6f6f",
   "metadata": {},
   "source": [
    "**Mesures de forme :**"
   ]
  },
  {
   "cell_type": "code",
   "execution_count": 53,
   "id": "1bcf7ed4",
   "metadata": {},
   "outputs": [],
   "source": [
    "# Skewness empirique\n",
    "price_skew = price_serie.skew()\n",
    "\n",
    "# Kurtosis empirique\n",
    "price_kurt = price_serie.kurtosis()"
   ]
  },
  {
   "cell_type": "code",
   "execution_count": 54,
   "id": "5752abc5",
   "metadata": {},
   "outputs": [
    {
     "name": "stdout",
     "output_type": "stream",
     "text": [
      "\n",
      "Skewness : 2.6227973685638717\n",
      "Kurtosis : 10.615358266001198\n",
      "\n"
     ]
    }
   ],
   "source": [
    "print(f\"\"\"\n",
    "Skewness : {price_skew}\n",
    "Kurtosis : {price_kurt}\n",
    "\"\"\")"
   ]
  },
  {
   "cell_type": "markdown",
   "id": "d44edf43",
   "metadata": {},
   "source": [
    "> La distribution est étalée à droite.\n",
    "Les observations sont concentrées."
   ]
  },
  {
   "cell_type": "markdown",
   "id": "d54b4c08",
   "metadata": {},
   "source": [
    "**Mesures de concentration :**"
   ]
  },
  {
   "cell_type": "code",
   "execution_count": 55,
   "id": "3b2b86e2",
   "metadata": {},
   "outputs": [
    {
     "data": {
      "image/png": "[encoded data removed]",
      "text/plain": [
       "<Figure size 576x396 with 1 Axes>"
      ]
     },
     "metadata": {},
     "output_type": "display_data"
    }
   ],
   "source": [
    "# courbe de Lorenz\n",
    "n = len(price_serie)\n",
    "lorenz = np.cumsum(np.sort(price_serie)) / price_serie.sum()  # cumulate sum and normalization\n",
    "lorenz = np.append([0],lorenz)\n",
    "\n",
    "plt.axes().axis('equal')\n",
    "xaxis = np.linspace(0-1/n,1+1/n,n+1)    # abscisses 0 to 1\n",
    "plt.plot(xaxis,lorenz,drawstyle='steps-post')\n",
    "plt.show()"
   ]
  },
  {
   "cell_type": "markdown",
   "id": "1434d93d",
   "metadata": {},
   "source": [
    ">  La répartition n'est pas égalitaire."
   ]
  },
  {
   "cell_type": "markdown",
   "id": "6dcbdf3f",
   "metadata": {},
   "source": [
    "**Distribution empirique :**"
   ]
  },
  {
   "cell_type": "code",
   "execution_count": 56,
   "id": "59250721",
   "metadata": {},
   "outputs": [
    {
     "data": {
      "text/plain": [
       "<AxesSubplot:xlabel='price', ylabel='Density'>"
      ]
     },
     "execution_count": 56,
     "metadata": {},
     "output_type": "execute_result"
    },
    {
     "data": {
      "image/png": "[encoded data removed]",
      "text/plain": [
       "<Figure size 576x396 with 1 Axes>"
      ]
     },
     "metadata": {},
     "output_type": "display_data"
    }
   ],
   "source": [
    "sns.distplot(df_main.price)"
   ]
  },
  {
   "cell_type": "code",
   "execution_count": 57,
   "id": "c1a0b425",
   "metadata": {},
   "outputs": [
    {
     "data": {
      "image/png": "[encoded data removed]",
      "text/plain": [
       "<Figure size 1080x216 with 1 Axes>"
      ]
     },
     "metadata": {},
     "output_type": "display_data"
    }
   ],
   "source": [
    "plt.figure(figsize=(15,3))\n",
    "sns.boxplot(df_main['price'])\n",
    "plt.show()"
   ]
  },
  {
   "cell_type": "markdown",
   "id": "94602234",
   "metadata": {},
   "source": [
    "Nous avons une distribution normale asymétrique. On retiendra dans notre cas la médiane comme indicateur de position centrale plutôt que la moyenne qui est sensible aux valeurs extrèmes."
   ]
  },
  {
   "cell_type": "markdown",
   "id": "38d0af97",
   "metadata": {},
   "source": [
    "### Recherche des outlier"
   ]
  },
  {
   "cell_type": "markdown",
   "id": "7dd0feab",
   "metadata": {},
   "source": [
    "Pour notre analyse univariée, une valeur aberrante est une “donnée observée” de prix qui semble anormal par rapoort aux valeurs de l'ensemble de l’échantillon. On remarque sur le diagramme de distribution, qu'il existe des valeurs trés grandes par rapport à l'ensemble des valeurs.  \n",
    "Il est donc intéressant de cherchers si ces valeurs sont des outliers."
   ]
  },
  {
   "cell_type": "markdown",
   "id": "11ff7c95",
   "metadata": {},
   "source": [
    "#### Méthode des Interquartiles"
   ]
  },
  {
   "cell_type": "markdown",
   "id": "30f94607",
   "metadata": {},
   "source": [
    "On va utiliser l'intervalle interquartile (IQR) qui est une mesure de la variabilité.  \n",
    "Toutes les valeurs à l'extérieur de la limite inférieure et supérieure sont des outlier.  "
   ]
  },
  {
   "cell_type": "markdown",
   "id": "1872c464",
   "metadata": {},
   "source": [
    "##### Calcule des limites"
   ]
  },
  {
   "cell_type": "code",
   "execution_count": 58,
   "id": "920eabf9",
   "metadata": {},
   "outputs": [
    {
     "name": "stdout",
     "output_type": "stream",
     "text": [
      "\n",
      "Q1 = 14.6\n",
      "Q3 = 42.0\n",
      "IQR = 27.4\n",
      "\n"
     ]
    }
   ],
   "source": [
    "# Calculate third quartile (Q3)\n",
    "Q3 = np.quantile(price_serie, 0.75)\n",
    "\n",
    "# Calculate first quartile (Q1)\n",
    "Q1 = np.quantile(price_serie, 0.25)\n",
    "\n",
    "# Calculate interquartile range (IQR)\n",
    "IQR = Q3 - Q1\n",
    "\n",
    "print(f\"\"\"\n",
    "Q1 = {Q1}\n",
    "Q3 = {Q3}\n",
    "IQR = {IQR}\n",
    "\"\"\")"
   ]
  },
  {
   "cell_type": "code",
   "execution_count": 59,
   "id": "fc3f7a05",
   "metadata": {},
   "outputs": [
    {
     "name": "stdout",
     "output_type": "stream",
     "text": [
      "\n",
      "lower_range = -26.499999999999993\n",
      "upper_range = 83.1\n",
      "\n"
     ]
    }
   ],
   "source": [
    "lower_range_q = Q1 - 1.5 * IQR\n",
    "upper_range_q = Q3 + 1.5 * IQR\n",
    "\n",
    "print(f\"\"\"\n",
    "lower_range = {lower_range_q}\n",
    "upper_range = {upper_range_q}\n",
    "\"\"\")"
   ]
  },
  {
   "cell_type": "markdown",
   "id": "cd16fdd3",
   "metadata": {},
   "source": [
    "##### Sélection des outlier"
   ]
  },
  {
   "cell_type": "code",
   "execution_count": 60,
   "id": "0efce498",
   "metadata": {},
   "outputs": [],
   "source": [
    "outliers_q = df_main[(df_main[\"price\"] > upper_range_q) | (df_main[\"price\"] < lower_range_q)]"
   ]
  },
  {
   "cell_type": "code",
   "execution_count": 61,
   "id": "6465a90d",
   "metadata": {},
   "outputs": [
    {
     "data": {
      "text/plain": [
       "(37, 9)"
      ]
     },
     "execution_count": 61,
     "metadata": {},
     "output_type": "execute_result"
    }
   ],
   "source": [
    "outliers_q.shape"
   ]
  },
  {
   "cell_type": "markdown",
   "id": "b630c30e",
   "metadata": {},
   "source": [
    "> Avec la méthode des interquartiles, on trouve 37 outliers."
   ]
  },
  {
   "cell_type": "markdown",
   "id": "ee4db2af",
   "metadata": {},
   "source": [
    "#### Méthode Z score"
   ]
  },
  {
   "cell_type": "markdown",
   "id": "d032e585",
   "metadata": {},
   "source": [
    "On utilise la côte Z qui est l’écart de la moyenne mesurée en terme de nombre d’écart-type. On détecte les valeurs aberrantes selon la distance des points en terme de cote Z.\n",
    "\n",
    "Distance standard : 3\n",
    "\n",
    "Z score = (Observation — Mean) / Standard Deviation\n",
    "\n",
    "Formule : z = (X — μ) / σ"
   ]
  },
  {
   "cell_type": "markdown",
   "id": "6259be8e",
   "metadata": {},
   "source": [
    "**Calcul :**"
   ]
  },
  {
   "cell_type": "code",
   "execution_count": 62,
   "id": "77334a7d",
   "metadata": {},
   "outputs": [
    {
     "name": "stdout",
     "output_type": "stream",
     "text": [
      "[225.0, 126.5, 176.0, 157.0, 144.0, 137.0, 217.5, 124.8, 175.0, 191.3, 122.0, 114.0, 135.0, 116.4, 115.0, 121.0, 115.0, 121.0]\n"
     ]
    }
   ],
   "source": [
    "outliers=[]\n",
    "threshold=3\n",
    "\n",
    "for i in df_main[\"price\"]:\n",
    "    z_score = (i - price_mean) / price_std \n",
    "    if np.abs(z_score) > threshold:\n",
    "        outliers.append(i)\n",
    "print(outliers)"
   ]
  },
  {
   "cell_type": "code",
   "execution_count": 63,
   "id": "894a4520",
   "metadata": {},
   "outputs": [
    {
     "data": {
      "text/plain": [
       "18"
      ]
     },
     "execution_count": 63,
     "metadata": {},
     "output_type": "execute_result"
    }
   ],
   "source": [
    "len(outliers)"
   ]
  },
  {
   "cell_type": "markdown",
   "id": "8feb60fc",
   "metadata": {},
   "source": [
    "> Avec la méthode des interquartiles, on trouve 18 outliers."
   ]
  },
  {
   "cell_type": "markdown",
   "id": "1137cb42",
   "metadata": {},
   "source": [
    "#### Méthode percentile"
   ]
  },
  {
   "cell_type": "markdown",
   "id": "80dbc2ed",
   "metadata": {},
   "source": [
    "Cette méthode est similaire à la méthode IQR. Si une valeur dépasse la valeur du 99e centile et en dessous du 1er centile, les valeurs données sont traitées comme des valeurs aberrantes."
   ]
  },
  {
   "cell_type": "markdown",
   "id": "7a8be6f0",
   "metadata": {},
   "source": [
    "##### Calcule des limites"
   ]
  },
  {
   "cell_type": "code",
   "execution_count": 64,
   "id": "3233407a",
   "metadata": {},
   "outputs": [
    {
     "name": "stdout",
     "output_type": "stream",
     "text": [
      "\n",
      "Q1 = 5.92\n",
      "Q3 = 132.95999999999992\n",
      "\n"
     ]
    }
   ],
   "source": [
    "Q1 = np.percentile(price_serie , 1)\n",
    "Q3 = np.percentile(price_serie , 99)\n",
    "\n",
    "print(f\"\"\"\n",
    "Q1 = {Q1}\n",
    "Q3 = {Q3}\n",
    "\"\"\")"
   ]
  },
  {
   "cell_type": "markdown",
   "id": "4190812f",
   "metadata": {},
   "source": [
    "##### Sélection des outlier"
   ]
  },
  {
   "cell_type": "code",
   "execution_count": 65,
   "id": "f7431d9e",
   "metadata": {},
   "outputs": [
    {
     "name": "stdout",
     "output_type": "stream",
     "text": [
      "[5.2, 5.7, 5.7, 5.7, 5.7, 5.8, 5.8, 5.8, 5.8, 135.0, 137.0, 144.0, 157.0, 175.0, 176.0, 191.3, 217.5, 225.0]\n"
     ]
    }
   ],
   "source": [
    "outliers=[]\n",
    "\n",
    "for i in price_serie:\n",
    "    if i > Q3 or i < Q1:\n",
    "        outliers.append(i)\n",
    "print(outliers)"
   ]
  },
  {
   "cell_type": "code",
   "execution_count": 66,
   "id": "53f1a0ba",
   "metadata": {},
   "outputs": [
    {
     "data": {
      "text/plain": [
       "18"
      ]
     },
     "execution_count": 66,
     "metadata": {},
     "output_type": "execute_result"
    }
   ],
   "source": [
    "len(outliers)"
   ]
  },
  {
   "cell_type": "markdown",
   "id": "40c395e6",
   "metadata": {},
   "source": [
    "> Avec la méthode des interquartiles, on trouve 18 outliers."
   ]
  },
  {
   "cell_type": "markdown",
   "id": "e01cac31",
   "metadata": {},
   "source": [
    "#### Méthode moyenne et déviations standard"
   ]
  },
  {
   "cell_type": "markdown",
   "id": "d97526c3",
   "metadata": {},
   "source": [
    "On compare la moyenne et l'écart type des résidus. Si une valeur est éloignée d'un certain nombre d'écarts types par rapport à la moyenne, ce point de données est identifié comme une valeur aberrante.\n",
    "\n",
    "Valeur par défaut : 3"
   ]
  },
  {
   "cell_type": "markdown",
   "id": "2ad7eccf",
   "metadata": {},
   "source": [
    "##### Calcule des limites"
   ]
  },
  {
   "cell_type": "code",
   "execution_count": 67,
   "id": "3a77363d",
   "metadata": {},
   "outputs": [
    {
     "name": "stdout",
     "output_type": "stream",
     "text": [
      "\n",
      "lower_range = -47.97191123549524\n",
      "upper_range = 112.80318396276797\n",
      "\n"
     ]
    }
   ],
   "source": [
    "# three standard deviations\n",
    "lower_range = price_mean - 3 * price_std\n",
    "upper_range = price_mean + 3 * price_std\n",
    "\n",
    "print(f\"\"\"\n",
    "lower_range = {lower_range}\n",
    "upper_range = {upper_range}\n",
    "\"\"\")"
   ]
  },
  {
   "cell_type": "markdown",
   "id": "3aa26cc9",
   "metadata": {},
   "source": [
    "##### Sélection des outlier"
   ]
  },
  {
   "cell_type": "code",
   "execution_count": 68,
   "id": "a7896c1c",
   "metadata": {},
   "outputs": [
    {
     "name": "stdout",
     "output_type": "stream",
     "text": [
      "[114.0, 115.0, 115.0, 116.4, 121.0, 121.0, 122.0, 124.8, 126.5, 135.0, 137.0, 144.0, 157.0, 175.0, 176.0, 191.3, 217.5, 225.0]\n"
     ]
    }
   ],
   "source": [
    "outliers=[]\n",
    "\n",
    "for i in price_serie:\n",
    "    if i > upper_range or i < lower_range:\n",
    "        outliers.append(i)\n",
    "print(outliers)"
   ]
  },
  {
   "cell_type": "code",
   "execution_count": 69,
   "id": "629bde2a",
   "metadata": {},
   "outputs": [
    {
     "data": {
      "text/plain": [
       "18"
      ]
     },
     "execution_count": 69,
     "metadata": {},
     "output_type": "execute_result"
    }
   ],
   "source": [
    "len(outliers)"
   ]
  },
  {
   "cell_type": "markdown",
   "id": "926d913b",
   "metadata": {},
   "source": [
    "> Avec la méthode des interquartiles, on trouve 18 outliers."
   ]
  },
  {
   "cell_type": "markdown",
   "id": "82de51d5",
   "metadata": {},
   "source": [
    "### Méthode retenue et nouveau dataset"
   ]
  },
  {
   "cell_type": "markdown",
   "id": "e2c611c3",
   "metadata": {},
   "source": [
    "La distribution des valeurs n'étant pas normale, on préfère travailler avec une méthode qui ne dépende pas de la moyenne.  \n",
    "On choisi donc la méthode des quartiles."
   ]
  },
  {
   "cell_type": "markdown",
   "id": "3acd641b",
   "metadata": {},
   "source": [
    "#### Les outliers"
   ]
  },
  {
   "cell_type": "code",
   "execution_count": 70,
   "id": "adec22a2",
   "metadata": {},
   "outputs": [
    {
     "data": {
      "text/html": [
       "<div>\n",
       "<style scoped>\n",
       "    .dataframe tbody tr th:only-of-type {\n",
       "        vertical-align: middle;\n",
       "    }\n",
       "\n",
       "    .dataframe tbody tr th {\n",
       "        vertical-align: top;\n",
       "    }\n",
       "\n",
       "    .dataframe thead th {\n",
       "        text-align: right;\n",
       "    }\n",
       "</style>\n",
       "<table border=\"1\" class=\"dataframe\">\n",
       "  <thead>\n",
       "    <tr style=\"text-align: right;\">\n",
       "      <th></th>\n",
       "      <th>product_id</th>\n",
       "      <th>sku</th>\n",
       "      <th>post_title</th>\n",
       "      <th>stock_status</th>\n",
       "      <th>onsale_web</th>\n",
       "      <th>stock_quantity</th>\n",
       "      <th>price</th>\n",
       "      <th>total_sales</th>\n",
       "      <th>revenue</th>\n",
       "    </tr>\n",
       "  </thead>\n",
       "  <tbody>\n",
       "    <tr>\n",
       "      <th>19</th>\n",
       "      <td>4055</td>\n",
       "      <td>NaN</td>\n",
       "      <td>NaN</td>\n",
       "      <td>outofstock</td>\n",
       "      <td>0</td>\n",
       "      <td>0</td>\n",
       "      <td>86.10</td>\n",
       "      <td>NaN</td>\n",
       "      <td>NaN</td>\n",
       "    </tr>\n",
       "    <tr>\n",
       "      <th>66</th>\n",
       "      <td>4115</td>\n",
       "      <td>15382</td>\n",
       "      <td>Zind-Humbrecht Riesling Grand Cru Rangen De Th...</td>\n",
       "      <td>instock</td>\n",
       "      <td>1</td>\n",
       "      <td>11</td>\n",
       "      <td>100.00</td>\n",
       "      <td>0.00</td>\n",
       "      <td>0.00</td>\n",
       "    </tr>\n",
       "    <tr>\n",
       "      <th>68</th>\n",
       "      <td>4132</td>\n",
       "      <td>11668</td>\n",
       "      <td>Zind-Humbrecht Pinot Gris Grand Cru Rangen De ...</td>\n",
       "      <td>instock</td>\n",
       "      <td>1</td>\n",
       "      <td>5</td>\n",
       "      <td>88.40</td>\n",
       "      <td>0.00</td>\n",
       "      <td>0.00</td>\n",
       "    </tr>\n",
       "    <tr>\n",
       "      <th>208</th>\n",
       "      <td>4352</td>\n",
       "      <td>15940</td>\n",
       "      <td>Champagne Egly-Ouriet Grand Cru Millésimé 2008</td>\n",
       "      <td>outofstock</td>\n",
       "      <td>1</td>\n",
       "      <td>0</td>\n",
       "      <td>225.00</td>\n",
       "      <td>5.00</td>\n",
       "      <td>1,125.00</td>\n",
       "    </tr>\n",
       "    <tr>\n",
       "      <th>210</th>\n",
       "      <td>4355</td>\n",
       "      <td>12589</td>\n",
       "      <td>Champagne Egly-Ouriet Grand Cru Blanc de Noirs</td>\n",
       "      <td>instock</td>\n",
       "      <td>1</td>\n",
       "      <td>2</td>\n",
       "      <td>126.50</td>\n",
       "      <td>11.00</td>\n",
       "      <td>1,391.50</td>\n",
       "    </tr>\n",
       "    <tr>\n",
       "      <th>214</th>\n",
       "      <td>4359</td>\n",
       "      <td>13853</td>\n",
       "      <td>Champagne Larmandier-Bernier Grand Cru Les Che...</td>\n",
       "      <td>outofstock</td>\n",
       "      <td>1</td>\n",
       "      <td>0</td>\n",
       "      <td>85.60</td>\n",
       "      <td>1.00</td>\n",
       "      <td>85.60</td>\n",
       "    </tr>\n",
       "    <tr>\n",
       "      <th>227</th>\n",
       "      <td>4402</td>\n",
       "      <td>3510</td>\n",
       "      <td>Cognac Frapin VIP XO</td>\n",
       "      <td>instock</td>\n",
       "      <td>1</td>\n",
       "      <td>8</td>\n",
       "      <td>176.00</td>\n",
       "      <td>13.00</td>\n",
       "      <td>2,288.00</td>\n",
       "    </tr>\n",
       "    <tr>\n",
       "      <th>228</th>\n",
       "      <td>4404</td>\n",
       "      <td>3507</td>\n",
       "      <td>Cognac Frapin Château de Fontpinot XO</td>\n",
       "      <td>instock</td>\n",
       "      <td>1</td>\n",
       "      <td>2</td>\n",
       "      <td>108.50</td>\n",
       "      <td>2.00</td>\n",
       "      <td>217.00</td>\n",
       "    </tr>\n",
       "    <tr>\n",
       "      <th>230</th>\n",
       "      <td>4406</td>\n",
       "      <td>7819</td>\n",
       "      <td>Cognac Frapin Château de Fontpinot 1989 20 Ans...</td>\n",
       "      <td>instock</td>\n",
       "      <td>1</td>\n",
       "      <td>3</td>\n",
       "      <td>157.00</td>\n",
       "      <td>0.00</td>\n",
       "      <td>0.00</td>\n",
       "    </tr>\n",
       "    <tr>\n",
       "      <th>231</th>\n",
       "      <td>4407</td>\n",
       "      <td>3509</td>\n",
       "      <td>Cognac Frapin Cigar Blend</td>\n",
       "      <td>instock</td>\n",
       "      <td>1</td>\n",
       "      <td>6</td>\n",
       "      <td>104.00</td>\n",
       "      <td>1.00</td>\n",
       "      <td>104.00</td>\n",
       "    </tr>\n",
       "    <tr>\n",
       "      <th>240</th>\n",
       "      <td>4582</td>\n",
       "      <td>12857</td>\n",
       "      <td>Château de Meursault Puligny-Montrachet 1er Cr...</td>\n",
       "      <td>instock</td>\n",
       "      <td>1</td>\n",
       "      <td>7</td>\n",
       "      <td>109.60</td>\n",
       "      <td>0.00</td>\n",
       "      <td>0.00</td>\n",
       "    </tr>\n",
       "    <tr>\n",
       "      <th>242</th>\n",
       "      <td>4594</td>\n",
       "      <td>NaN</td>\n",
       "      <td>NaN</td>\n",
       "      <td>outofstock</td>\n",
       "      <td>1</td>\n",
       "      <td>0</td>\n",
       "      <td>144.00</td>\n",
       "      <td>NaN</td>\n",
       "      <td>NaN</td>\n",
       "    </tr>\n",
       "    <tr>\n",
       "      <th>410</th>\n",
       "      <td>4903</td>\n",
       "      <td>14805</td>\n",
       "      <td>Domaine Des Croix Corton Grand Cru Les Grèves ...</td>\n",
       "      <td>instock</td>\n",
       "      <td>1</td>\n",
       "      <td>20</td>\n",
       "      <td>102.30</td>\n",
       "      <td>0.00</td>\n",
       "      <td>0.00</td>\n",
       "    </tr>\n",
       "    <tr>\n",
       "      <th>411</th>\n",
       "      <td>4904</td>\n",
       "      <td>14220</td>\n",
       "      <td>Domaine Des Croix Corton Charlemagne Grand Cru...</td>\n",
       "      <td>instock</td>\n",
       "      <td>1</td>\n",
       "      <td>13</td>\n",
       "      <td>137.00</td>\n",
       "      <td>5.00</td>\n",
       "      <td>685.00</td>\n",
       "    </tr>\n",
       "    <tr>\n",
       "      <th>460</th>\n",
       "      <td>5001</td>\n",
       "      <td>14581</td>\n",
       "      <td>David Duband Charmes-Chambertin Grand Cru 2014</td>\n",
       "      <td>instock</td>\n",
       "      <td>1</td>\n",
       "      <td>20</td>\n",
       "      <td>217.50</td>\n",
       "      <td>0.00</td>\n",
       "      <td>0.00</td>\n",
       "    </tr>\n",
       "    <tr>\n",
       "      <th>465</th>\n",
       "      <td>5007</td>\n",
       "      <td>12791</td>\n",
       "      <td>Domaine des Comtes Lafon Volnay 1er Cru Santen...</td>\n",
       "      <td>instock</td>\n",
       "      <td>1</td>\n",
       "      <td>17</td>\n",
       "      <td>105.00</td>\n",
       "      <td>0.00</td>\n",
       "      <td>0.00</td>\n",
       "    </tr>\n",
       "    <tr>\n",
       "      <th>466</th>\n",
       "      <td>5008</td>\n",
       "      <td>11602</td>\n",
       "      <td>Domaine des Comtes Lafon Volnay 1er Cru Santen...</td>\n",
       "      <td>instock</td>\n",
       "      <td>1</td>\n",
       "      <td>10</td>\n",
       "      <td>105.00</td>\n",
       "      <td>0.00</td>\n",
       "      <td>0.00</td>\n",
       "    </tr>\n",
       "    <tr>\n",
       "      <th>475</th>\n",
       "      <td>5025</td>\n",
       "      <td>13914</td>\n",
       "      <td>Champagne Agrapart &amp;amp; Fils L'Avizoise Extra...</td>\n",
       "      <td>outofstock</td>\n",
       "      <td>1</td>\n",
       "      <td>0</td>\n",
       "      <td>112.00</td>\n",
       "      <td>0.00</td>\n",
       "      <td>0.00</td>\n",
       "    </tr>\n",
       "    <tr>\n",
       "      <th>476</th>\n",
       "      <td>5026</td>\n",
       "      <td>13913</td>\n",
       "      <td>Champagne Agrapart &amp;amp; Fils Minéral Extra Br...</td>\n",
       "      <td>instock</td>\n",
       "      <td>1</td>\n",
       "      <td>2</td>\n",
       "      <td>86.80</td>\n",
       "      <td>0.00</td>\n",
       "      <td>0.00</td>\n",
       "    </tr>\n",
       "    <tr>\n",
       "      <th>486</th>\n",
       "      <td>5070</td>\n",
       "      <td>NaN</td>\n",
       "      <td>NaN</td>\n",
       "      <td>outofstock</td>\n",
       "      <td>1</td>\n",
       "      <td>0</td>\n",
       "      <td>84.70</td>\n",
       "      <td>NaN</td>\n",
       "      <td>NaN</td>\n",
       "    </tr>\n",
       "    <tr>\n",
       "      <th>545</th>\n",
       "      <td>5565</td>\n",
       "      <td>19822</td>\n",
       "      <td>Tempier Bandol Cabassaou 2017</td>\n",
       "      <td>outofstock</td>\n",
       "      <td>1</td>\n",
       "      <td>0</td>\n",
       "      <td>92.00</td>\n",
       "      <td>0.00</td>\n",
       "      <td>0.00</td>\n",
       "    </tr>\n",
       "    <tr>\n",
       "      <th>551</th>\n",
       "      <td>5580</td>\n",
       "      <td>13982</td>\n",
       "      <td>Lucien Boillot Puligny-Montrachet 1er Cru Les ...</td>\n",
       "      <td>instock</td>\n",
       "      <td>1</td>\n",
       "      <td>18</td>\n",
       "      <td>83.70</td>\n",
       "      <td>0.00</td>\n",
       "      <td>0.00</td>\n",
       "    </tr>\n",
       "    <tr>\n",
       "      <th>556</th>\n",
       "      <td>5612</td>\n",
       "      <td>14915</td>\n",
       "      <td>Domaine Weinbach Gewurztraminer Grand Cru Furs...</td>\n",
       "      <td>instock</td>\n",
       "      <td>1</td>\n",
       "      <td>12</td>\n",
       "      <td>124.80</td>\n",
       "      <td>0.00</td>\n",
       "      <td>0.00</td>\n",
       "    </tr>\n",
       "    <tr>\n",
       "      <th>598</th>\n",
       "      <td>5767</td>\n",
       "      <td>15185</td>\n",
       "      <td>Camille Giroud Clos de Vougeot 2016</td>\n",
       "      <td>instock</td>\n",
       "      <td>1</td>\n",
       "      <td>12</td>\n",
       "      <td>175.00</td>\n",
       "      <td>0.00</td>\n",
       "      <td>0.00</td>\n",
       "    </tr>\n",
       "    <tr>\n",
       "      <th>635</th>\n",
       "      <td>5892</td>\n",
       "      <td>14983</td>\n",
       "      <td>Coteaux Champenois Egly-Ouriet Ambonnay Rouge ...</td>\n",
       "      <td>instock</td>\n",
       "      <td>1</td>\n",
       "      <td>10</td>\n",
       "      <td>191.30</td>\n",
       "      <td>3.00</td>\n",
       "      <td>573.90</td>\n",
       "    </tr>\n",
       "    <tr>\n",
       "      <th>650</th>\n",
       "      <td>5916</td>\n",
       "      <td>14774</td>\n",
       "      <td>Wemyss Malts Single Cask Scotch Whisky Chocola...</td>\n",
       "      <td>instock</td>\n",
       "      <td>1</td>\n",
       "      <td>3</td>\n",
       "      <td>93.00</td>\n",
       "      <td>0.00</td>\n",
       "      <td>0.00</td>\n",
       "    </tr>\n",
       "    <tr>\n",
       "      <th>651</th>\n",
       "      <td>5917</td>\n",
       "      <td>14775</td>\n",
       "      <td>Wemyss Malts Single Cask Scotch Whisky Choc 'n...</td>\n",
       "      <td>instock</td>\n",
       "      <td>1</td>\n",
       "      <td>4</td>\n",
       "      <td>122.00</td>\n",
       "      <td>0.00</td>\n",
       "      <td>0.00</td>\n",
       "    </tr>\n",
       "    <tr>\n",
       "      <th>652</th>\n",
       "      <td>5918</td>\n",
       "      <td>14773</td>\n",
       "      <td>Wemyss Malts Single Cask Scotch Whisky Chai Ca...</td>\n",
       "      <td>instock</td>\n",
       "      <td>1</td>\n",
       "      <td>8</td>\n",
       "      <td>114.00</td>\n",
       "      <td>0.00</td>\n",
       "      <td>0.00</td>\n",
       "    </tr>\n",
       "    <tr>\n",
       "      <th>697</th>\n",
       "      <td>6126</td>\n",
       "      <td>14923</td>\n",
       "      <td>Champagne Gosset Célébris Vintage 2007</td>\n",
       "      <td>instock</td>\n",
       "      <td>1</td>\n",
       "      <td>10</td>\n",
       "      <td>135.00</td>\n",
       "      <td>2.00</td>\n",
       "      <td>270.00</td>\n",
       "    </tr>\n",
       "    <tr>\n",
       "      <th>702</th>\n",
       "      <td>6201</td>\n",
       "      <td>14596</td>\n",
       "      <td>David Duband Chambolle-Musigny 1er Cru Les Sen...</td>\n",
       "      <td>instock</td>\n",
       "      <td>1</td>\n",
       "      <td>7</td>\n",
       "      <td>105.60</td>\n",
       "      <td>0.00</td>\n",
       "      <td>0.00</td>\n",
       "    </tr>\n",
       "    <tr>\n",
       "      <th>703</th>\n",
       "      <td>6202</td>\n",
       "      <td>15126</td>\n",
       "      <td>Domaine Clerget Echezeaux Grand Cru En Orveaux...</td>\n",
       "      <td>instock</td>\n",
       "      <td>1</td>\n",
       "      <td>14</td>\n",
       "      <td>116.40</td>\n",
       "      <td>0.00</td>\n",
       "      <td>0.00</td>\n",
       "    </tr>\n",
       "    <tr>\n",
       "      <th>708</th>\n",
       "      <td>6212</td>\n",
       "      <td>13996</td>\n",
       "      <td>Domaine des Comtes Lafon Volnay 1er Cru Santen...</td>\n",
       "      <td>instock</td>\n",
       "      <td>1</td>\n",
       "      <td>2</td>\n",
       "      <td>115.00</td>\n",
       "      <td>2.00</td>\n",
       "      <td>230.00</td>\n",
       "    </tr>\n",
       "    <tr>\n",
       "      <th>709</th>\n",
       "      <td>6213</td>\n",
       "      <td>15072</td>\n",
       "      <td>Domaine des Comtes Lafon Volnay 1er Cru Santen...</td>\n",
       "      <td>instock</td>\n",
       "      <td>1</td>\n",
       "      <td>7</td>\n",
       "      <td>121.00</td>\n",
       "      <td>0.00</td>\n",
       "      <td>0.00</td>\n",
       "    </tr>\n",
       "    <tr>\n",
       "      <th>710</th>\n",
       "      <td>6214</td>\n",
       "      <td>11601</td>\n",
       "      <td>Domaine des Comtes Lafon Volnay 1er Cru Champa...</td>\n",
       "      <td>instock</td>\n",
       "      <td>1</td>\n",
       "      <td>7</td>\n",
       "      <td>99.00</td>\n",
       "      <td>0.00</td>\n",
       "      <td>0.00</td>\n",
       "    </tr>\n",
       "    <tr>\n",
       "      <th>711</th>\n",
       "      <td>6215</td>\n",
       "      <td>12790</td>\n",
       "      <td>Domaine des Comtes Lafon Volnay 1er Cru Champa...</td>\n",
       "      <td>instock</td>\n",
       "      <td>1</td>\n",
       "      <td>4</td>\n",
       "      <td>115.00</td>\n",
       "      <td>0.00</td>\n",
       "      <td>0.00</td>\n",
       "    </tr>\n",
       "    <tr>\n",
       "      <th>712</th>\n",
       "      <td>6216</td>\n",
       "      <td>15070</td>\n",
       "      <td>Domaine des Comtes Lafon Volnay 1er Cru Champa...</td>\n",
       "      <td>instock</td>\n",
       "      <td>1</td>\n",
       "      <td>6</td>\n",
       "      <td>121.00</td>\n",
       "      <td>0.00</td>\n",
       "      <td>0.00</td>\n",
       "    </tr>\n",
       "    <tr>\n",
       "      <th>724</th>\n",
       "      <td>6324</td>\n",
       "      <td>NaN</td>\n",
       "      <td>NaN</td>\n",
       "      <td>instock</td>\n",
       "      <td>0</td>\n",
       "      <td>18</td>\n",
       "      <td>92.00</td>\n",
       "      <td>NaN</td>\n",
       "      <td>NaN</td>\n",
       "    </tr>\n",
       "  </tbody>\n",
       "</table>\n",
       "</div>"
      ],
      "text/plain": [
       "     product_id    sku                                         post_title  \\\n",
       "19         4055    NaN                                                NaN   \n",
       "66         4115  15382  Zind-Humbrecht Riesling Grand Cru Rangen De Th...   \n",
       "68         4132  11668  Zind-Humbrecht Pinot Gris Grand Cru Rangen De ...   \n",
       "208        4352  15940     Champagne Egly-Ouriet Grand Cru Millésimé 2008   \n",
       "210        4355  12589     Champagne Egly-Ouriet Grand Cru Blanc de Noirs   \n",
       "214        4359  13853  Champagne Larmandier-Bernier Grand Cru Les Che...   \n",
       "227        4402   3510                               Cognac Frapin VIP XO   \n",
       "228        4404   3507              Cognac Frapin Château de Fontpinot XO   \n",
       "230        4406   7819  Cognac Frapin Château de Fontpinot 1989 20 Ans...   \n",
       "231        4407   3509                          Cognac Frapin Cigar Blend   \n",
       "240        4582  12857  Château de Meursault Puligny-Montrachet 1er Cr...   \n",
       "242        4594    NaN                                                NaN   \n",
       "410        4903  14805  Domaine Des Croix Corton Grand Cru Les Grèves ...   \n",
       "411        4904  14220  Domaine Des Croix Corton Charlemagne Grand Cru...   \n",
       "460        5001  14581     David Duband Charmes-Chambertin Grand Cru 2014   \n",
       "465        5007  12791  Domaine des Comtes Lafon Volnay 1er Cru Santen...   \n",
       "466        5008  11602  Domaine des Comtes Lafon Volnay 1er Cru Santen...   \n",
       "475        5025  13914  Champagne Agrapart &amp; Fils L'Avizoise Extra...   \n",
       "476        5026  13913  Champagne Agrapart &amp; Fils Minéral Extra Br...   \n",
       "486        5070    NaN                                                NaN   \n",
       "545        5565  19822                      Tempier Bandol Cabassaou 2017   \n",
       "551        5580  13982  Lucien Boillot Puligny-Montrachet 1er Cru Les ...   \n",
       "556        5612  14915  Domaine Weinbach Gewurztraminer Grand Cru Furs...   \n",
       "598        5767  15185                Camille Giroud Clos de Vougeot 2016   \n",
       "635        5892  14983  Coteaux Champenois Egly-Ouriet Ambonnay Rouge ...   \n",
       "650        5916  14774  Wemyss Malts Single Cask Scotch Whisky Chocola...   \n",
       "651        5917  14775  Wemyss Malts Single Cask Scotch Whisky Choc 'n...   \n",
       "652        5918  14773  Wemyss Malts Single Cask Scotch Whisky Chai Ca...   \n",
       "697        6126  14923             Champagne Gosset Célébris Vintage 2007   \n",
       "702        6201  14596  David Duband Chambolle-Musigny 1er Cru Les Sen...   \n",
       "703        6202  15126  Domaine Clerget Echezeaux Grand Cru En Orveaux...   \n",
       "708        6212  13996  Domaine des Comtes Lafon Volnay 1er Cru Santen...   \n",
       "709        6213  15072  Domaine des Comtes Lafon Volnay 1er Cru Santen...   \n",
       "710        6214  11601  Domaine des Comtes Lafon Volnay 1er Cru Champa...   \n",
       "711        6215  12790  Domaine des Comtes Lafon Volnay 1er Cru Champa...   \n",
       "712        6216  15070  Domaine des Comtes Lafon Volnay 1er Cru Champa...   \n",
       "724        6324    NaN                                                NaN   \n",
       "\n",
       "    stock_status  onsale_web  stock_quantity  price  total_sales  revenue  \n",
       "19    outofstock           0               0  86.10          NaN      NaN  \n",
       "66       instock           1              11 100.00         0.00     0.00  \n",
       "68       instock           1               5  88.40         0.00     0.00  \n",
       "208   outofstock           1               0 225.00         5.00 1,125.00  \n",
       "210      instock           1               2 126.50        11.00 1,391.50  \n",
       "214   outofstock           1               0  85.60         1.00    85.60  \n",
       "227      instock           1               8 176.00        13.00 2,288.00  \n",
       "228      instock           1               2 108.50         2.00   217.00  \n",
       "230      instock           1               3 157.00         0.00     0.00  \n",
       "231      instock           1               6 104.00         1.00   104.00  \n",
       "240      instock           1               7 109.60         0.00     0.00  \n",
       "242   outofstock           1               0 144.00          NaN      NaN  \n",
       "410      instock           1              20 102.30         0.00     0.00  \n",
       "411      instock           1              13 137.00         5.00   685.00  \n",
       "460      instock           1              20 217.50         0.00     0.00  \n",
       "465      instock           1              17 105.00         0.00     0.00  \n",
       "466      instock           1              10 105.00         0.00     0.00  \n",
       "475   outofstock           1               0 112.00         0.00     0.00  \n",
       "476      instock           1               2  86.80         0.00     0.00  \n",
       "486   outofstock           1               0  84.70          NaN      NaN  \n",
       "545   outofstock           1               0  92.00         0.00     0.00  \n",
       "551      instock           1              18  83.70         0.00     0.00  \n",
       "556      instock           1              12 124.80         0.00     0.00  \n",
       "598      instock           1              12 175.00         0.00     0.00  \n",
       "635      instock           1              10 191.30         3.00   573.90  \n",
       "650      instock           1               3  93.00         0.00     0.00  \n",
       "651      instock           1               4 122.00         0.00     0.00  \n",
       "652      instock           1               8 114.00         0.00     0.00  \n",
       "697      instock           1              10 135.00         2.00   270.00  \n",
       "702      instock           1               7 105.60         0.00     0.00  \n",
       "703      instock           1              14 116.40         0.00     0.00  \n",
       "708      instock           1               2 115.00         2.00   230.00  \n",
       "709      instock           1               7 121.00         0.00     0.00  \n",
       "710      instock           1               7  99.00         0.00     0.00  \n",
       "711      instock           1               4 115.00         0.00     0.00  \n",
       "712      instock           1               6 121.00         0.00     0.00  \n",
       "724      instock           0              18  92.00          NaN      NaN  "
      ]
     },
     "execution_count": 70,
     "metadata": {},
     "output_type": "execute_result"
    }
   ],
   "source": [
    "outliers_q"
   ]
  },
  {
   "cell_type": "code",
   "execution_count": 71,
   "id": "c3254afc",
   "metadata": {},
   "outputs": [
    {
     "data": {
      "image/png": "[encoded data removed]",
      "text/plain": [
       "<Figure size 1080x216 with 1 Axes>"
      ]
     },
     "metadata": {},
     "output_type": "display_data"
    }
   ],
   "source": [
    "plt.figure(figsize=(15,3))\n",
    "sns.boxplot(price_serie)\n",
    "plt.show()"
   ]
  },
  {
   "cell_type": "markdown",
   "id": "799e0739",
   "metadata": {},
   "source": [
    "Parmis cet ensemble d'outliers, on peut accentuer la vérification des prix sur les produits en stock qui devraient se vendre mais qui n'affichent aucune vente :"
   ]
  },
  {
   "cell_type": "code",
   "execution_count": 72,
   "id": "ac5e9c2e",
   "metadata": {},
   "outputs": [
    {
     "data": {
      "text/html": [
       "<div>\n",
       "<style scoped>\n",
       "    .dataframe tbody tr th:only-of-type {\n",
       "        vertical-align: middle;\n",
       "    }\n",
       "\n",
       "    .dataframe tbody tr th {\n",
       "        vertical-align: top;\n",
       "    }\n",
       "\n",
       "    .dataframe thead th {\n",
       "        text-align: right;\n",
       "    }\n",
       "</style>\n",
       "<table border=\"1\" class=\"dataframe\">\n",
       "  <thead>\n",
       "    <tr style=\"text-align: right;\">\n",
       "      <th></th>\n",
       "      <th>product_id</th>\n",
       "      <th>sku</th>\n",
       "      <th>post_title</th>\n",
       "      <th>stock_status</th>\n",
       "      <th>onsale_web</th>\n",
       "      <th>stock_quantity</th>\n",
       "      <th>price</th>\n",
       "      <th>total_sales</th>\n",
       "      <th>revenue</th>\n",
       "    </tr>\n",
       "  </thead>\n",
       "  <tbody>\n",
       "    <tr>\n",
       "      <th>66</th>\n",
       "      <td>4115</td>\n",
       "      <td>15382</td>\n",
       "      <td>Zind-Humbrecht Riesling Grand Cru Rangen De Th...</td>\n",
       "      <td>instock</td>\n",
       "      <td>1</td>\n",
       "      <td>11</td>\n",
       "      <td>100.00</td>\n",
       "      <td>0.00</td>\n",
       "      <td>0.00</td>\n",
       "    </tr>\n",
       "    <tr>\n",
       "      <th>68</th>\n",
       "      <td>4132</td>\n",
       "      <td>11668</td>\n",
       "      <td>Zind-Humbrecht Pinot Gris Grand Cru Rangen De ...</td>\n",
       "      <td>instock</td>\n",
       "      <td>1</td>\n",
       "      <td>5</td>\n",
       "      <td>88.40</td>\n",
       "      <td>0.00</td>\n",
       "      <td>0.00</td>\n",
       "    </tr>\n",
       "    <tr>\n",
       "      <th>230</th>\n",
       "      <td>4406</td>\n",
       "      <td>7819</td>\n",
       "      <td>Cognac Frapin Château de Fontpinot 1989 20 Ans...</td>\n",
       "      <td>instock</td>\n",
       "      <td>1</td>\n",
       "      <td>3</td>\n",
       "      <td>157.00</td>\n",
       "      <td>0.00</td>\n",
       "      <td>0.00</td>\n",
       "    </tr>\n",
       "    <tr>\n",
       "      <th>240</th>\n",
       "      <td>4582</td>\n",
       "      <td>12857</td>\n",
       "      <td>Château de Meursault Puligny-Montrachet 1er Cr...</td>\n",
       "      <td>instock</td>\n",
       "      <td>1</td>\n",
       "      <td>7</td>\n",
       "      <td>109.60</td>\n",
       "      <td>0.00</td>\n",
       "      <td>0.00</td>\n",
       "    </tr>\n",
       "    <tr>\n",
       "      <th>410</th>\n",
       "      <td>4903</td>\n",
       "      <td>14805</td>\n",
       "      <td>Domaine Des Croix Corton Grand Cru Les Grèves ...</td>\n",
       "      <td>instock</td>\n",
       "      <td>1</td>\n",
       "      <td>20</td>\n",
       "      <td>102.30</td>\n",
       "      <td>0.00</td>\n",
       "      <td>0.00</td>\n",
       "    </tr>\n",
       "    <tr>\n",
       "      <th>460</th>\n",
       "      <td>5001</td>\n",
       "      <td>14581</td>\n",
       "      <td>David Duband Charmes-Chambertin Grand Cru 2014</td>\n",
       "      <td>instock</td>\n",
       "      <td>1</td>\n",
       "      <td>20</td>\n",
       "      <td>217.50</td>\n",
       "      <td>0.00</td>\n",
       "      <td>0.00</td>\n",
       "    </tr>\n",
       "    <tr>\n",
       "      <th>465</th>\n",
       "      <td>5007</td>\n",
       "      <td>12791</td>\n",
       "      <td>Domaine des Comtes Lafon Volnay 1er Cru Santen...</td>\n",
       "      <td>instock</td>\n",
       "      <td>1</td>\n",
       "      <td>17</td>\n",
       "      <td>105.00</td>\n",
       "      <td>0.00</td>\n",
       "      <td>0.00</td>\n",
       "    </tr>\n",
       "    <tr>\n",
       "      <th>466</th>\n",
       "      <td>5008</td>\n",
       "      <td>11602</td>\n",
       "      <td>Domaine des Comtes Lafon Volnay 1er Cru Santen...</td>\n",
       "      <td>instock</td>\n",
       "      <td>1</td>\n",
       "      <td>10</td>\n",
       "      <td>105.00</td>\n",
       "      <td>0.00</td>\n",
       "      <td>0.00</td>\n",
       "    </tr>\n",
       "    <tr>\n",
       "      <th>476</th>\n",
       "      <td>5026</td>\n",
       "      <td>13913</td>\n",
       "      <td>Champagne Agrapart &amp;amp; Fils Minéral Extra Br...</td>\n",
       "      <td>instock</td>\n",
       "      <td>1</td>\n",
       "      <td>2</td>\n",
       "      <td>86.80</td>\n",
       "      <td>0.00</td>\n",
       "      <td>0.00</td>\n",
       "    </tr>\n",
       "    <tr>\n",
       "      <th>551</th>\n",
       "      <td>5580</td>\n",
       "      <td>13982</td>\n",
       "      <td>Lucien Boillot Puligny-Montrachet 1er Cru Les ...</td>\n",
       "      <td>instock</td>\n",
       "      <td>1</td>\n",
       "      <td>18</td>\n",
       "      <td>83.70</td>\n",
       "      <td>0.00</td>\n",
       "      <td>0.00</td>\n",
       "    </tr>\n",
       "    <tr>\n",
       "      <th>556</th>\n",
       "      <td>5612</td>\n",
       "      <td>14915</td>\n",
       "      <td>Domaine Weinbach Gewurztraminer Grand Cru Furs...</td>\n",
       "      <td>instock</td>\n",
       "      <td>1</td>\n",
       "      <td>12</td>\n",
       "      <td>124.80</td>\n",
       "      <td>0.00</td>\n",
       "      <td>0.00</td>\n",
       "    </tr>\n",
       "    <tr>\n",
       "      <th>598</th>\n",
       "      <td>5767</td>\n",
       "      <td>15185</td>\n",
       "      <td>Camille Giroud Clos de Vougeot 2016</td>\n",
       "      <td>instock</td>\n",
       "      <td>1</td>\n",
       "      <td>12</td>\n",
       "      <td>175.00</td>\n",
       "      <td>0.00</td>\n",
       "      <td>0.00</td>\n",
       "    </tr>\n",
       "    <tr>\n",
       "      <th>650</th>\n",
       "      <td>5916</td>\n",
       "      <td>14774</td>\n",
       "      <td>Wemyss Malts Single Cask Scotch Whisky Chocola...</td>\n",
       "      <td>instock</td>\n",
       "      <td>1</td>\n",
       "      <td>3</td>\n",
       "      <td>93.00</td>\n",
       "      <td>0.00</td>\n",
       "      <td>0.00</td>\n",
       "    </tr>\n",
       "    <tr>\n",
       "      <th>651</th>\n",
       "      <td>5917</td>\n",
       "      <td>14775</td>\n",
       "      <td>Wemyss Malts Single Cask Scotch Whisky Choc 'n...</td>\n",
       "      <td>instock</td>\n",
       "      <td>1</td>\n",
       "      <td>4</td>\n",
       "      <td>122.00</td>\n",
       "      <td>0.00</td>\n",
       "      <td>0.00</td>\n",
       "    </tr>\n",
       "    <tr>\n",
       "      <th>652</th>\n",
       "      <td>5918</td>\n",
       "      <td>14773</td>\n",
       "      <td>Wemyss Malts Single Cask Scotch Whisky Chai Ca...</td>\n",
       "      <td>instock</td>\n",
       "      <td>1</td>\n",
       "      <td>8</td>\n",
       "      <td>114.00</td>\n",
       "      <td>0.00</td>\n",
       "      <td>0.00</td>\n",
       "    </tr>\n",
       "    <tr>\n",
       "      <th>702</th>\n",
       "      <td>6201</td>\n",
       "      <td>14596</td>\n",
       "      <td>David Duband Chambolle-Musigny 1er Cru Les Sen...</td>\n",
       "      <td>instock</td>\n",
       "      <td>1</td>\n",
       "      <td>7</td>\n",
       "      <td>105.60</td>\n",
       "      <td>0.00</td>\n",
       "      <td>0.00</td>\n",
       "    </tr>\n",
       "    <tr>\n",
       "      <th>703</th>\n",
       "      <td>6202</td>\n",
       "      <td>15126</td>\n",
       "      <td>Domaine Clerget Echezeaux Grand Cru En Orveaux...</td>\n",
       "      <td>instock</td>\n",
       "      <td>1</td>\n",
       "      <td>14</td>\n",
       "      <td>116.40</td>\n",
       "      <td>0.00</td>\n",
       "      <td>0.00</td>\n",
       "    </tr>\n",
       "    <tr>\n",
       "      <th>709</th>\n",
       "      <td>6213</td>\n",
       "      <td>15072</td>\n",
       "      <td>Domaine des Comtes Lafon Volnay 1er Cru Santen...</td>\n",
       "      <td>instock</td>\n",
       "      <td>1</td>\n",
       "      <td>7</td>\n",
       "      <td>121.00</td>\n",
       "      <td>0.00</td>\n",
       "      <td>0.00</td>\n",
       "    </tr>\n",
       "    <tr>\n",
       "      <th>710</th>\n",
       "      <td>6214</td>\n",
       "      <td>11601</td>\n",
       "      <td>Domaine des Comtes Lafon Volnay 1er Cru Champa...</td>\n",
       "      <td>instock</td>\n",
       "      <td>1</td>\n",
       "      <td>7</td>\n",
       "      <td>99.00</td>\n",
       "      <td>0.00</td>\n",
       "      <td>0.00</td>\n",
       "    </tr>\n",
       "    <tr>\n",
       "      <th>711</th>\n",
       "      <td>6215</td>\n",
       "      <td>12790</td>\n",
       "      <td>Domaine des Comtes Lafon Volnay 1er Cru Champa...</td>\n",
       "      <td>instock</td>\n",
       "      <td>1</td>\n",
       "      <td>4</td>\n",
       "      <td>115.00</td>\n",
       "      <td>0.00</td>\n",
       "      <td>0.00</td>\n",
       "    </tr>\n",
       "    <tr>\n",
       "      <th>712</th>\n",
       "      <td>6216</td>\n",
       "      <td>15070</td>\n",
       "      <td>Domaine des Comtes Lafon Volnay 1er Cru Champa...</td>\n",
       "      <td>instock</td>\n",
       "      <td>1</td>\n",
       "      <td>6</td>\n",
       "      <td>121.00</td>\n",
       "      <td>0.00</td>\n",
       "      <td>0.00</td>\n",
       "    </tr>\n",
       "  </tbody>\n",
       "</table>\n",
       "</div>"
      ],
      "text/plain": [
       "     product_id    sku                                         post_title  \\\n",
       "66         4115  15382  Zind-Humbrecht Riesling Grand Cru Rangen De Th...   \n",
       "68         4132  11668  Zind-Humbrecht Pinot Gris Grand Cru Rangen De ...   \n",
       "230        4406   7819  Cognac Frapin Château de Fontpinot 1989 20 Ans...   \n",
       "240        4582  12857  Château de Meursault Puligny-Montrachet 1er Cr...   \n",
       "410        4903  14805  Domaine Des Croix Corton Grand Cru Les Grèves ...   \n",
       "460        5001  14581     David Duband Charmes-Chambertin Grand Cru 2014   \n",
       "465        5007  12791  Domaine des Comtes Lafon Volnay 1er Cru Santen...   \n",
       "466        5008  11602  Domaine des Comtes Lafon Volnay 1er Cru Santen...   \n",
       "476        5026  13913  Champagne Agrapart &amp; Fils Minéral Extra Br...   \n",
       "551        5580  13982  Lucien Boillot Puligny-Montrachet 1er Cru Les ...   \n",
       "556        5612  14915  Domaine Weinbach Gewurztraminer Grand Cru Furs...   \n",
       "598        5767  15185                Camille Giroud Clos de Vougeot 2016   \n",
       "650        5916  14774  Wemyss Malts Single Cask Scotch Whisky Chocola...   \n",
       "651        5917  14775  Wemyss Malts Single Cask Scotch Whisky Choc 'n...   \n",
       "652        5918  14773  Wemyss Malts Single Cask Scotch Whisky Chai Ca...   \n",
       "702        6201  14596  David Duband Chambolle-Musigny 1er Cru Les Sen...   \n",
       "703        6202  15126  Domaine Clerget Echezeaux Grand Cru En Orveaux...   \n",
       "709        6213  15072  Domaine des Comtes Lafon Volnay 1er Cru Santen...   \n",
       "710        6214  11601  Domaine des Comtes Lafon Volnay 1er Cru Champa...   \n",
       "711        6215  12790  Domaine des Comtes Lafon Volnay 1er Cru Champa...   \n",
       "712        6216  15070  Domaine des Comtes Lafon Volnay 1er Cru Champa...   \n",
       "\n",
       "    stock_status  onsale_web  stock_quantity  price  total_sales  revenue  \n",
       "66       instock           1              11 100.00         0.00     0.00  \n",
       "68       instock           1               5  88.40         0.00     0.00  \n",
       "230      instock           1               3 157.00         0.00     0.00  \n",
       "240      instock           1               7 109.60         0.00     0.00  \n",
       "410      instock           1              20 102.30         0.00     0.00  \n",
       "460      instock           1              20 217.50         0.00     0.00  \n",
       "465      instock           1              17 105.00         0.00     0.00  \n",
       "466      instock           1              10 105.00         0.00     0.00  \n",
       "476      instock           1               2  86.80         0.00     0.00  \n",
       "551      instock           1              18  83.70         0.00     0.00  \n",
       "556      instock           1              12 124.80         0.00     0.00  \n",
       "598      instock           1              12 175.00         0.00     0.00  \n",
       "650      instock           1               3  93.00         0.00     0.00  \n",
       "651      instock           1               4 122.00         0.00     0.00  \n",
       "652      instock           1               8 114.00         0.00     0.00  \n",
       "702      instock           1               7 105.60         0.00     0.00  \n",
       "703      instock           1              14 116.40         0.00     0.00  \n",
       "709      instock           1               7 121.00         0.00     0.00  \n",
       "710      instock           1               7  99.00         0.00     0.00  \n",
       "711      instock           1               4 115.00         0.00     0.00  \n",
       "712      instock           1               6 121.00         0.00     0.00  "
      ]
     },
     "execution_count": 72,
     "metadata": {},
     "output_type": "execute_result"
    }
   ],
   "source": [
    "outliers_q[(outliers_q[\"stock_status\"] == \"instock\") & (outliers_q[\"total_sales\"] == 0)]"
   ]
  },
  {
   "cell_type": "markdown",
   "id": "879878d7",
   "metadata": {},
   "source": [
    "#### Nouveau dataset"
   ]
  },
  {
   "cell_type": "code",
   "execution_count": 73,
   "id": "9cec761e",
   "metadata": {},
   "outputs": [],
   "source": [
    "df_main = df_main[df_main['price'].between(lower_range_q, upper_range_q)]"
   ]
  },
  {
   "cell_type": "markdown",
   "id": "436ce2b2",
   "metadata": {},
   "source": [
    "**Mesures statistiques :**"
   ]
  },
  {
   "cell_type": "code",
   "execution_count": 74,
   "id": "3406ef78",
   "metadata": {},
   "outputs": [
    {
     "name": "stdout",
     "output_type": "stream",
     "text": [
      "\n",
      "Nouvelle Moyenne : 28.256472081218295\n",
      "Ancienne Moyenne : 32.41563636363637\n",
      "\n",
      "Nouvelle Médiane : 23.4\n",
      "Ancienne Médiane : 24.4\n",
      "\n"
     ]
    }
   ],
   "source": [
    "new_price_mean = df_main['price'].mean()\n",
    "new_price_median = df_main['price'].median()\n",
    "\n",
    "print(f\"\"\"\n",
    "Nouvelle Moyenne : {new_price_mean}\n",
    "Ancienne Moyenne : {price_mean}\n",
    "\n",
    "Nouvelle Médiane : {new_price_median}\n",
    "Ancienne Médiane : {price_median}\n",
    "\"\"\")"
   ]
  },
  {
   "cell_type": "code",
   "execution_count": 75,
   "id": "aae74d1d",
   "metadata": {},
   "outputs": [
    {
     "data": {
      "text/html": [
       "<div>\n",
       "<style scoped>\n",
       "    .dataframe tbody tr th:only-of-type {\n",
       "        vertical-align: middle;\n",
       "    }\n",
       "\n",
       "    .dataframe tbody tr th {\n",
       "        vertical-align: top;\n",
       "    }\n",
       "\n",
       "    .dataframe thead th {\n",
       "        text-align: right;\n",
       "    }\n",
       "</style>\n",
       "<table border=\"1\" class=\"dataframe\">\n",
       "  <thead>\n",
       "    <tr style=\"text-align: right;\">\n",
       "      <th></th>\n",
       "      <th>product_id</th>\n",
       "      <th>onsale_web</th>\n",
       "      <th>stock_quantity</th>\n",
       "      <th>price</th>\n",
       "      <th>total_sales</th>\n",
       "      <th>revenue</th>\n",
       "    </tr>\n",
       "  </thead>\n",
       "  <tbody>\n",
       "    <tr>\n",
       "      <th>count</th>\n",
       "      <td>788.00</td>\n",
       "      <td>788.00</td>\n",
       "      <td>788.00</td>\n",
       "      <td>788.00</td>\n",
       "      <td>681.00</td>\n",
       "      <td>681.00</td>\n",
       "    </tr>\n",
       "    <tr>\n",
       "      <th>mean</th>\n",
       "      <td>5,158.56</td>\n",
       "      <td>0.87</td>\n",
       "      <td>27.40</td>\n",
       "      <td>28.26</td>\n",
       "      <td>4.14</td>\n",
       "      <td>93.39</td>\n",
       "    </tr>\n",
       "    <tr>\n",
       "      <th>std</th>\n",
       "      <td>908.59</td>\n",
       "      <td>0.34</td>\n",
       "      <td>46.75</td>\n",
       "      <td>17.52</td>\n",
       "      <td>8.68</td>\n",
       "      <td>294.83</td>\n",
       "    </tr>\n",
       "    <tr>\n",
       "      <th>min</th>\n",
       "      <td>3,847.00</td>\n",
       "      <td>0.00</td>\n",
       "      <td>0.00</td>\n",
       "      <td>5.20</td>\n",
       "      <td>0.00</td>\n",
       "      <td>0.00</td>\n",
       "    </tr>\n",
       "    <tr>\n",
       "      <th>25%</th>\n",
       "      <td>4,303.75</td>\n",
       "      <td>1.00</td>\n",
       "      <td>1.00</td>\n",
       "      <td>14.28</td>\n",
       "      <td>0.00</td>\n",
       "      <td>0.00</td>\n",
       "    </tr>\n",
       "    <tr>\n",
       "      <th>50%</th>\n",
       "      <td>4,896.00</td>\n",
       "      <td>1.00</td>\n",
       "      <td>12.00</td>\n",
       "      <td>23.40</td>\n",
       "      <td>1.00</td>\n",
       "      <td>16.60</td>\n",
       "    </tr>\n",
       "    <tr>\n",
       "      <th>75%</th>\n",
       "      <td>5,801.25</td>\n",
       "      <td>1.00</td>\n",
       "      <td>35.00</td>\n",
       "      <td>39.00</td>\n",
       "      <td>5.00</td>\n",
       "      <td>91.00</td>\n",
       "    </tr>\n",
       "    <tr>\n",
       "      <th>max</th>\n",
       "      <td>7,338.00</td>\n",
       "      <td>1.00</td>\n",
       "      <td>578.00</td>\n",
       "      <td>83.00</td>\n",
       "      <td>96.00</td>\n",
       "      <td>4,704.00</td>\n",
       "    </tr>\n",
       "  </tbody>\n",
       "</table>\n",
       "</div>"
      ],
      "text/plain": [
       "       product_id  onsale_web  stock_quantity  price  total_sales  revenue\n",
       "count      788.00      788.00          788.00 788.00       681.00   681.00\n",
       "mean     5,158.56        0.87           27.40  28.26         4.14    93.39\n",
       "std        908.59        0.34           46.75  17.52         8.68   294.83\n",
       "min      3,847.00        0.00            0.00   5.20         0.00     0.00\n",
       "25%      4,303.75        1.00            1.00  14.28         0.00     0.00\n",
       "50%      4,896.00        1.00           12.00  23.40         1.00    16.60\n",
       "75%      5,801.25        1.00           35.00  39.00         5.00    91.00\n",
       "max      7,338.00        1.00          578.00  83.00        96.00 4,704.00"
      ]
     },
     "execution_count": 75,
     "metadata": {},
     "output_type": "execute_result"
    }
   ],
   "source": [
    "df_main.describe()"
   ]
  },
  {
   "cell_type": "markdown",
   "id": "cee437ae",
   "metadata": {},
   "source": [
    "Nous abtenons une moyenne corrigée, tandis que la médiane ne diffère par beaucoup."
   ]
  },
  {
   "cell_type": "markdown",
   "id": "41547e5b",
   "metadata": {},
   "source": [
    "#### Visualisation"
   ]
  },
  {
   "cell_type": "code",
   "execution_count": 76,
   "id": "3feaa519",
   "metadata": {},
   "outputs": [
    {
     "data": {
      "text/plain": [
       "<AxesSubplot:xlabel='price', ylabel='Density'>"
      ]
     },
     "execution_count": 76,
     "metadata": {},
     "output_type": "execute_result"
    },
    {
     "data": {
      "image/png": "[encoded data removed]",
      "text/plain": [
       "<Figure size 576x396 with 1 Axes>"
      ]
     },
     "metadata": {},
     "output_type": "display_data"
    }
   ],
   "source": [
    "sns.distplot(df_main.price)"
   ]
  },
  {
   "cell_type": "code",
   "execution_count": 77,
   "id": "a064184f",
   "metadata": {},
   "outputs": [
    {
     "data": {
      "image/png": "[encoded data removed]",
      "text/plain": [
       "<Figure size 1080x216 with 1 Axes>"
      ]
     },
     "metadata": {},
     "output_type": "display_data"
    }
   ],
   "source": [
    "plt.figure(figsize=(15,3))\n",
    "sns.boxplot(df_main['price'])\n",
    "plt.show()"
   ]
  },
  {
   "cell_type": "markdown",
   "id": "12c4a0ad",
   "metadata": {},
   "source": [
    "## Conclusion"
   ]
  },
  {
   "cell_type": "markdown",
   "id": "ee3cd60d",
   "metadata": {},
   "source": [
    "**Mise en relation des bases de données :**\n",
    "\n",
    "La mise en relation des tables de l'EPR et du Web, permet de faire d'avoir une visibilité sur le chiffre d'affaire et la gestion des stocks. Celle-ci a mis en évidence des axes d'améliorations pour les ventes avec des recommandations marketing.\n",
    "\n",
    "**Valeurs de prix :**\n",
    "\n",
    "Une valeur atypique est une valeur qui \"sort du lot\", mais pas forcément fausse.  \n",
    "On observe plusieurs valeurs extrêmes mais dans le contexte d'une boutique en ligne de vins prestigieux, ces valeurs sont cohérentes.\n",
    "\n",
    "**Recommandations :**  \n",
    "\n",
    "Pour des modèles de corrélation entre les prix et les ventes, il sera interessant de les traiter les outliers séparemment et en catégorisant les différents produits. Il faudrait vérifier auprès des fournisseurs les prix de ces outliers.  \n",
    "L'utilisation d'un système centralisé pour les données EPR et Web serait un atout."
   ]
  },
  {
   "cell_type": "code",
   "execution_count": null,
   "id": "b145a54a",
   "metadata": {},
   "outputs": [],
   "source": []
  }
 ],
 "metadata": {
  "kernelspec": {
   "display_name": "Python 3",
   "language": "python",
   "name": "python3"
  },
  "language_info": {
   "codemirror_mode": {
    "name": "ipython",
    "version": 3
   },
   "file_extension": ".py",
   "mimetype": "text/x-python",
   "name": "python",
   "nbconvert_exporter": "python",
   "pygments_lexer": "ipython3",
   "version": "3.8.8"
  },
  "toc": {
   "base_numbering": "1",
   "nav_menu": {},
   "number_sections": true,
   "sideBar": true,
   "skip_h1_title": true,
   "title_cell": "Sommaire",
   "title_sidebar": "Optimisez de la gestion des données de la boutique",
   "toc_cell": true,
   "toc_position": {
    "height": "calc(100% - 180px)",
    "left": "10px",
    "top": "150px",
    "width": "384px"
   },
   "toc_section_display": true,
   "toc_window_display": false
  },
  "toc-autonumbering": true
 },
 "nbformat": 4,
 "nbformat_minor": 5
}
